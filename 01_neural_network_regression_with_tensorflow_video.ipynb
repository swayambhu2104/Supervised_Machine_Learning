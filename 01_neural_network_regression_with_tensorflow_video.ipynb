{
  "nbformat": 4,
  "nbformat_minor": 0,
  "metadata": {
    "colab": {
      "provenance": []
    },
    "kernelspec": {
      "name": "python3",
      "display_name": "Python 3"
    },
    "language_info": {
      "name": "python"
    }
  },
  "cells": [
    {
      "cell_type": "markdown",
      "source": [
        "# Introduction to Regression with Neural Networks in TensorFlow"
      ],
      "metadata": {
        "id": "Zi2LTjowB0Qg"
      }
    },
    {
      "cell_type": "code",
      "source": [
        "# Import TensorFlow\n",
        "import tensorflow as tf\n",
        "print(tf.__version__)"
      ],
      "metadata": {
        "colab": {
          "base_uri": "https://localhost:8080/"
        },
        "id": "HrE5HHz1CM3o",
        "outputId": "4a716a53-d7d4-4f36-cae8-68fba19cad94"
      },
      "execution_count": null,
      "outputs": [
        {
          "output_type": "stream",
          "name": "stdout",
          "text": [
            "2.13.0\n"
          ]
        }
      ]
    },
    {
      "cell_type": "code",
      "source": [
        "# Creating data to view and fit it\n",
        "import numpy as np\n",
        "import matplotlib.pyplot as plt\n",
        "\n",
        "# Create features\n",
        "X=np.array([-7.0,-4.0,-1.0,2.0,5.0,8.0,11.0,14.0])\n",
        "\n",
        "# Create labels\n",
        "y=np.array([3.0,6.0,9.0,12.0,15.0,18.0,21.0,24.0])\n",
        "\n",
        "#Visualise it\n",
        "plt.scatter(X,y)"
      ],
      "metadata": {
        "colab": {
          "base_uri": "https://localhost:8080/",
          "height": 452
        },
        "id": "Icoq_HVUCdN7",
        "outputId": "61c697e8-96b3-4235-e490-2aa920959fd3"
      },
      "execution_count": null,
      "outputs": [
        {
          "output_type": "execute_result",
          "data": {
            "text/plain": [
              "<matplotlib.collections.PathCollection at 0x78f6bc7a0a90>"
            ]
          },
          "metadata": {},
          "execution_count": 2
        },
        {
          "output_type": "display_data",
          "data": {
            "text/plain": [
              "<Figure size 640x480 with 1 Axes>"
            ],
            "image/png": "[encoded data removed]"
          },
          "metadata": {}
        }
      ]
    },
    {
      "cell_type": "markdown",
      "source": [
        "# Input and Output shapes"
      ],
      "metadata": {
        "id": "ujhGeExwDPI1"
      }
    },
    {
      "cell_type": "code",
      "source": [
        "# Crete a demo tensor for our housing price prediction problem\n",
        "house_info=tf.constant([\"bedroom\",\"bathroom\",\"garage\"])\n",
        "house_price=tf.constant([939700])\n",
        "house_info,house_price"
      ],
      "metadata": {
        "colab": {
          "base_uri": "https://localhost:8080/"
        },
        "id": "PPcUmgvuDyui",
        "outputId": "e17d2cfb-33cb-46c1-cbec-ecfa6853c37d"
      },
      "execution_count": null,
      "outputs": [
        {
          "output_type": "execute_result",
          "data": {
            "text/plain": [
              "(<tf.Tensor: shape=(3,), dtype=string, numpy=array([b'bedroom', b'bathroom', b'garage'], dtype=object)>,\n",
              " <tf.Tensor: shape=(1,), dtype=int32, numpy=array([939700], dtype=int32)>)"
            ]
          },
          "metadata": {},
          "execution_count": 3
        }
      ]
    },
    {
      "cell_type": "code",
      "source": [
        "input_shape=X.shape\n",
        "output_shape=y.shape\n",
        "input_shape,output_shape"
      ],
      "metadata": {
        "colab": {
          "base_uri": "https://localhost:8080/"
        },
        "id": "KIaloZIyFJ73",
        "outputId": "6ca827b1-2788-4069-8c2f-370994410968"
      },
      "execution_count": null,
      "outputs": [
        {
          "output_type": "execute_result",
          "data": {
            "text/plain": [
              "((8,), (8,))"
            ]
          },
          "metadata": {},
          "execution_count": 4
        }
      ]
    },
    {
      "cell_type": "code",
      "source": [
        "# Turn numpy arrays into tensors\n",
        "X=tf.constant(X)\n",
        "y=tf.constant(y)\n",
        "X,y"
      ],
      "metadata": {
        "colab": {
          "base_uri": "https://localhost:8080/"
        },
        "id": "kYhfSTDHFZkn",
        "outputId": "5f71fbc1-09fa-44b9-f2e8-0eb7c5ede614"
      },
      "execution_count": null,
      "outputs": [
        {
          "output_type": "execute_result",
          "data": {
            "text/plain": [
              "(<tf.Tensor: shape=(8,), dtype=float64, numpy=array([-7., -4., -1.,  2.,  5.,  8., 11., 14.])>,\n",
              " <tf.Tensor: shape=(8,), dtype=float64, numpy=array([ 3.,  6.,  9., 12., 15., 18., 21., 24.])>)"
            ]
          },
          "metadata": {},
          "execution_count": 5
        }
      ]
    },
    {
      "cell_type": "markdown",
      "source": [
        "## Steps in modelling with TensorFlow\n",
        "\n",
        "1. **Creating a model** - define the input and output layers, as well as the hidden layers of a deep learning model.\n",
        "2. **Compile a model** - define the loss function (in other words, the function which tells our model how wrong it is) and the optimizer (tells our model how to improve the patterns its learning) and evaluation matrix (what we can use to interpret the performance of our model).\n",
        "3. Fitting a model - letting the model try to find patterns between X and y(features and labels)"
      ],
      "metadata": {
        "id": "j941hmM0P-l4"
      }
    },
    {
      "cell_type": "code",
      "source": [
        "# Set random seed\n",
        "tf.random.set_seed(42)\n",
        "\n",
        "# 1. Create a model using the Sequential API\n",
        "model = tf.keras.Sequential([\n",
        "    tf.keras.layers.Dense(1)\n",
        "])\n",
        "\n",
        "# 2. Compile the model\n",
        "model.compile(loss=tf.keras.losses.mae, # mean absolute error\n",
        "              optimizer=tf.keras.optimizers.SGD(), # Stochastic Gradient Descent)\n",
        "              metrics=[\"mae\"])\n",
        "\n",
        "# 3. Fit the model\n",
        "model.fit(tf.expand_dims(X,axis=-1),y,epochs=5)\n"
      ],
      "metadata": {
        "colab": {
          "base_uri": "https://localhost:8080/"
        },
        "id": "9cQrwewiRTgE",
        "outputId": "b922f6c9-98a7-4a58-aec3-9a86e4f0c770"
      },
      "execution_count": null,
      "outputs": [
        {
          "output_type": "stream",
          "name": "stdout",
          "text": [
            "Epoch 1/5\n",
            "1/1 [==============================] - 0s 462ms/step - loss: 22.0181 - mae: 22.0181\n",
            "Epoch 2/5\n",
            "1/1 [==============================] - 0s 13ms/step - loss: 21.6250 - mae: 21.6250\n",
            "Epoch 3/5\n",
            "1/1 [==============================] - 0s 13ms/step - loss: 21.2318 - mae: 21.2318\n",
            "Epoch 4/5\n",
            "1/1 [==============================] - 0s 11ms/step - loss: 20.8387 - mae: 20.8387\n",
            "Epoch 5/5\n",
            "1/1 [==============================] - 0s 11ms/step - loss: 20.4677 - mae: 20.4677\n"
          ]
        },
        {
          "output_type": "execute_result",
          "data": {
            "text/plain": [
              "<keras.src.callbacks.History at 0x78f6b8583fa0>"
            ]
          },
          "metadata": {},
          "execution_count": 6
        }
      ]
    },
    {
      "cell_type": "code",
      "source": [
        "# Check out X and y\n",
        "X,y"
      ],
      "metadata": {
        "colab": {
          "base_uri": "https://localhost:8080/"
        },
        "id": "1uK8FADASUsp",
        "outputId": "b99b5127-f6c2-4c9c-e6df-feb767d57a70"
      },
      "execution_count": null,
      "outputs": [
        {
          "output_type": "execute_result",
          "data": {
            "text/plain": [
              "(<tf.Tensor: shape=(8,), dtype=float64, numpy=array([-7., -4., -1.,  2.,  5.,  8., 11., 14.])>,\n",
              " <tf.Tensor: shape=(8,), dtype=float64, numpy=array([ 3.,  6.,  9., 12., 15., 18., 21., 24.])>)"
            ]
          },
          "metadata": {},
          "execution_count": 7
        }
      ]
    },
    {
      "cell_type": "code",
      "source": [
        "# Try and make a prediction\n",
        "model.predict([17])"
      ],
      "metadata": {
        "colab": {
          "base_uri": "https://localhost:8080/"
        },
        "id": "yufEzecjXjBk",
        "outputId": "bc38f9a3-e5a5-42df-9fa3-e0c35cb23975"
      },
      "execution_count": null,
      "outputs": [
        {
          "output_type": "stream",
          "name": "stdout",
          "text": [
            "1/1 [==============================] - 0s 110ms/step\n"
          ]
        },
        {
          "output_type": "execute_result",
          "data": {
            "text/plain": [
              "array([[-24.119204]], dtype=float32)"
            ]
          },
          "metadata": {},
          "execution_count": 8
        }
      ]
    },
    {
      "cell_type": "markdown",
      "source": [
        "# Improving our model\n",
        "\n",
        "We can improve the moodel, by altering the steps we took to create a model.\n",
        "\n",
        "1. **Creating a model** - Here we might add more layers, increase the number of hidden units (also called neurons) within each of the hidden layers, change the activation function of each layer.\n",
        "2. **Compiling a a model** - Here we might change the optimization function or perhaps the **learning rate** of the optimization function.\n",
        "3. **Fitting a model** - Here we might fit a model for more **epochs** (leave it training for longer) or on more data (give the model more examples to learn from)."
      ],
      "metadata": {
        "id": "A3lXtJaFXm0k"
      }
    },
    {
      "cell_type": "code",
      "source": [
        "# Lets rebuild our model\n",
        "# 1. Create the model\n",
        "model=tf.keras.Sequential([\n",
        "    tf.keras.layers.Dense(1)\n",
        "])\n",
        "\n",
        "# 2. Compile the model\n",
        "model.compile(loss=tf.keras.losses.mae,\n",
        "              optimizer=tf.keras.optimizers.SGD(),\n",
        "              metrics=[\"mae\"])\n",
        "\n",
        "# 3. Fit the model\n",
        "model.fit(tf.expand_dims(X,axis=-1),y,epochs=100)"
      ],
      "metadata": {
        "colab": {
          "base_uri": "https://localhost:8080/"
        },
        "id": "Dc3VjYPNYDs-",
        "outputId": "8d829b89-e232-47ab-d9ef-69e939c5034f"
      },
      "execution_count": null,
      "outputs": [
        {
          "output_type": "stream",
          "name": "stdout",
          "text": [
            "Epoch 1/100\n",
            "1/1 [==============================] - 0s 409ms/step - loss: 9.8645 - mae: 9.8645\n",
            "Epoch 2/100\n",
            "1/1 [==============================] - 0s 12ms/step - loss: 9.7320 - mae: 9.7320\n",
            "Epoch 3/100\n",
            "1/1 [==============================] - 0s 13ms/step - loss: 9.5995 - mae: 9.5995\n",
            "Epoch 4/100\n",
            "1/1 [==============================] - 0s 13ms/step - loss: 9.4670 - mae: 9.4670\n",
            "Epoch 5/100\n",
            "1/1 [==============================] - 0s 12ms/step - loss: 9.3345 - mae: 9.3345\n",
            "Epoch 6/100\n",
            "1/1 [==============================] - 0s 10ms/step - loss: 9.2020 - mae: 9.2020\n",
            "Epoch 7/100\n",
            "1/1 [==============================] - 0s 11ms/step - loss: 9.0695 - mae: 9.0695\n",
            "Epoch 8/100\n",
            "1/1 [==============================] - 0s 13ms/step - loss: 8.9370 - mae: 8.9370\n",
            "Epoch 9/100\n",
            "1/1 [==============================] - 0s 11ms/step - loss: 8.8045 - mae: 8.8045\n",
            "Epoch 10/100\n",
            "1/1 [==============================] - 0s 11ms/step - loss: 8.6720 - mae: 8.6720\n",
            "Epoch 11/100\n",
            "1/1 [==============================] - 0s 11ms/step - loss: 8.5395 - mae: 8.5395\n",
            "Epoch 12/100\n",
            "1/1 [==============================] - 0s 11ms/step - loss: 8.4070 - mae: 8.4070\n",
            "Epoch 13/100\n",
            "1/1 [==============================] - 0s 11ms/step - loss: 8.2745 - mae: 8.2745\n",
            "Epoch 14/100\n",
            "1/1 [==============================] - 0s 11ms/step - loss: 8.1420 - mae: 8.1420\n",
            "Epoch 15/100\n",
            "1/1 [==============================] - 0s 12ms/step - loss: 8.0095 - mae: 8.0095\n",
            "Epoch 16/100\n",
            "1/1 [==============================] - 0s 14ms/step - loss: 7.8770 - mae: 7.8770\n",
            "Epoch 17/100\n",
            "1/1 [==============================] - 0s 11ms/step - loss: 7.7445 - mae: 7.7445\n",
            "Epoch 18/100\n",
            "1/1 [==============================] - 0s 14ms/step - loss: 7.6120 - mae: 7.6120\n",
            "Epoch 19/100\n",
            "1/1 [==============================] - 0s 12ms/step - loss: 7.4795 - mae: 7.4795\n",
            "Epoch 20/100\n",
            "1/1 [==============================] - 0s 12ms/step - loss: 7.3575 - mae: 7.3575\n",
            "Epoch 21/100\n",
            "1/1 [==============================] - 0s 11ms/step - loss: 7.3519 - mae: 7.3519\n",
            "Epoch 22/100\n",
            "1/1 [==============================] - 0s 12ms/step - loss: 7.3463 - mae: 7.3463\n",
            "Epoch 23/100\n",
            "1/1 [==============================] - 0s 11ms/step - loss: 7.3406 - mae: 7.3406\n",
            "Epoch 24/100\n",
            "1/1 [==============================] - 0s 17ms/step - loss: 7.3350 - mae: 7.3350\n",
            "Epoch 25/100\n",
            "1/1 [==============================] - 0s 13ms/step - loss: 7.3294 - mae: 7.3294\n",
            "Epoch 26/100\n",
            "1/1 [==============================] - 0s 13ms/step - loss: 7.3238 - mae: 7.3238\n",
            "Epoch 27/100\n",
            "1/1 [==============================] - 0s 11ms/step - loss: 7.3181 - mae: 7.3181\n",
            "Epoch 28/100\n",
            "1/1 [==============================] - 0s 13ms/step - loss: 7.3125 - mae: 7.3125\n",
            "Epoch 29/100\n",
            "1/1 [==============================] - 0s 11ms/step - loss: 7.3069 - mae: 7.3069\n",
            "Epoch 30/100\n",
            "1/1 [==============================] - 0s 12ms/step - loss: 7.3012 - mae: 7.3012\n",
            "Epoch 31/100\n",
            "1/1 [==============================] - 0s 14ms/step - loss: 7.2956 - mae: 7.2956\n",
            "Epoch 32/100\n",
            "1/1 [==============================] - 0s 15ms/step - loss: 7.2900 - mae: 7.2900\n",
            "Epoch 33/100\n",
            "1/1 [==============================] - 0s 13ms/step - loss: 7.2844 - mae: 7.2844\n",
            "Epoch 34/100\n",
            "1/1 [==============================] - 0s 10ms/step - loss: 7.2788 - mae: 7.2788\n",
            "Epoch 35/100\n",
            "1/1 [==============================] - 0s 14ms/step - loss: 7.2731 - mae: 7.2731\n",
            "Epoch 36/100\n",
            "1/1 [==============================] - 0s 13ms/step - loss: 7.2675 - mae: 7.2675\n",
            "Epoch 37/100\n",
            "1/1 [==============================] - 0s 10ms/step - loss: 7.2619 - mae: 7.2619\n",
            "Epoch 38/100\n",
            "1/1 [==============================] - 0s 9ms/step - loss: 7.2563 - mae: 7.2563\n",
            "Epoch 39/100\n",
            "1/1 [==============================] - 0s 9ms/step - loss: 7.2506 - mae: 7.2506\n",
            "Epoch 40/100\n",
            "1/1 [==============================] - 0s 9ms/step - loss: 7.2450 - mae: 7.2450\n",
            "Epoch 41/100\n",
            "1/1 [==============================] - 0s 10ms/step - loss: 7.2394 - mae: 7.2394\n",
            "Epoch 42/100\n",
            "1/1 [==============================] - 0s 9ms/step - loss: 7.2338 - mae: 7.2338\n",
            "Epoch 43/100\n",
            "1/1 [==============================] - 0s 9ms/step - loss: 7.2281 - mae: 7.2281\n",
            "Epoch 44/100\n",
            "1/1 [==============================] - 0s 10ms/step - loss: 7.2225 - mae: 7.2225\n",
            "Epoch 45/100\n",
            "1/1 [==============================] - 0s 9ms/step - loss: 7.2169 - mae: 7.2169\n",
            "Epoch 46/100\n",
            "1/1 [==============================] - 0s 9ms/step - loss: 7.2113 - mae: 7.2113\n",
            "Epoch 47/100\n",
            "1/1 [==============================] - 0s 9ms/step - loss: 7.2056 - mae: 7.2056\n",
            "Epoch 48/100\n",
            "1/1 [==============================] - 0s 9ms/step - loss: 7.2000 - mae: 7.2000\n",
            "Epoch 49/100\n",
            "1/1 [==============================] - 0s 9ms/step - loss: 7.1944 - mae: 7.1944\n",
            "Epoch 50/100\n",
            "1/1 [==============================] - 0s 9ms/step - loss: 7.1888 - mae: 7.1888\n",
            "Epoch 51/100\n",
            "1/1 [==============================] - 0s 9ms/step - loss: 7.1831 - mae: 7.1831\n",
            "Epoch 52/100\n",
            "1/1 [==============================] - 0s 11ms/step - loss: 7.1775 - mae: 7.1775\n",
            "Epoch 53/100\n",
            "1/1 [==============================] - 0s 10ms/step - loss: 7.1719 - mae: 7.1719\n",
            "Epoch 54/100\n",
            "1/1 [==============================] - 0s 10ms/step - loss: 7.1663 - mae: 7.1663\n",
            "Epoch 55/100\n",
            "1/1 [==============================] - 0s 10ms/step - loss: 7.1606 - mae: 7.1606\n",
            "Epoch 56/100\n",
            "1/1 [==============================] - 0s 9ms/step - loss: 7.1550 - mae: 7.1550\n",
            "Epoch 57/100\n",
            "1/1 [==============================] - 0s 10ms/step - loss: 7.1494 - mae: 7.1494\n",
            "Epoch 58/100\n",
            "1/1 [==============================] - 0s 10ms/step - loss: 7.1438 - mae: 7.1438\n",
            "Epoch 59/100\n",
            "1/1 [==============================] - 0s 10ms/step - loss: 7.1381 - mae: 7.1381\n",
            "Epoch 60/100\n",
            "1/1 [==============================] - 0s 10ms/step - loss: 7.1325 - mae: 7.1325\n",
            "Epoch 61/100\n",
            "1/1 [==============================] - 0s 9ms/step - loss: 7.1269 - mae: 7.1269\n",
            "Epoch 62/100\n",
            "1/1 [==============================] - 0s 10ms/step - loss: 7.1213 - mae: 7.1213\n",
            "Epoch 63/100\n",
            "1/1 [==============================] - 0s 9ms/step - loss: 7.1156 - mae: 7.1156\n",
            "Epoch 64/100\n",
            "1/1 [==============================] - 0s 27ms/step - loss: 7.1100 - mae: 7.1100\n",
            "Epoch 65/100\n",
            "1/1 [==============================] - 0s 11ms/step - loss: 7.1044 - mae: 7.1044\n",
            "Epoch 66/100\n",
            "1/1 [==============================] - 0s 11ms/step - loss: 7.0988 - mae: 7.0988\n",
            "Epoch 67/100\n",
            "1/1 [==============================] - 0s 10ms/step - loss: 7.0931 - mae: 7.0931\n",
            "Epoch 68/100\n",
            "1/1 [==============================] - 0s 12ms/step - loss: 7.0875 - mae: 7.0875\n",
            "Epoch 69/100\n",
            "1/1 [==============================] - 0s 10ms/step - loss: 7.0819 - mae: 7.0819\n",
            "Epoch 70/100\n",
            "1/1 [==============================] - 0s 9ms/step - loss: 7.0763 - mae: 7.0763\n",
            "Epoch 71/100\n",
            "1/1 [==============================] - 0s 12ms/step - loss: 7.0706 - mae: 7.0706\n",
            "Epoch 72/100\n",
            "1/1 [==============================] - 0s 10ms/step - loss: 7.0650 - mae: 7.0650\n",
            "Epoch 73/100\n",
            "1/1 [==============================] - 0s 9ms/step - loss: 7.0594 - mae: 7.0594\n",
            "Epoch 74/100\n",
            "1/1 [==============================] - 0s 9ms/step - loss: 7.0538 - mae: 7.0538\n",
            "Epoch 75/100\n",
            "1/1 [==============================] - 0s 11ms/step - loss: 7.0481 - mae: 7.0481\n",
            "Epoch 76/100\n",
            "1/1 [==============================] - 0s 11ms/step - loss: 7.0425 - mae: 7.0425\n",
            "Epoch 77/100\n",
            "1/1 [==============================] - 0s 9ms/step - loss: 7.0369 - mae: 7.0369\n",
            "Epoch 78/100\n",
            "1/1 [==============================] - 0s 11ms/step - loss: 7.0313 - mae: 7.0313\n",
            "Epoch 79/100\n",
            "1/1 [==============================] - 0s 10ms/step - loss: 7.0256 - mae: 7.0256\n",
            "Epoch 80/100\n",
            "1/1 [==============================] - 0s 9ms/step - loss: 7.0200 - mae: 7.0200\n",
            "Epoch 81/100\n",
            "1/1 [==============================] - 0s 10ms/step - loss: 7.0144 - mae: 7.0144\n",
            "Epoch 82/100\n",
            "1/1 [==============================] - 0s 9ms/step - loss: 7.0088 - mae: 7.0088\n",
            "Epoch 83/100\n",
            "1/1 [==============================] - 0s 10ms/step - loss: 7.0031 - mae: 7.0031\n",
            "Epoch 84/100\n",
            "1/1 [==============================] - 0s 10ms/step - loss: 6.9975 - mae: 6.9975\n",
            "Epoch 85/100\n",
            "1/1 [==============================] - 0s 10ms/step - loss: 6.9919 - mae: 6.9919\n",
            "Epoch 86/100\n",
            "1/1 [==============================] - 0s 10ms/step - loss: 6.9863 - mae: 6.9863\n",
            "Epoch 87/100\n",
            "1/1 [==============================] - 0s 11ms/step - loss: 6.9806 - mae: 6.9806\n",
            "Epoch 88/100\n",
            "1/1 [==============================] - 0s 10ms/step - loss: 6.9750 - mae: 6.9750\n",
            "Epoch 89/100\n",
            "1/1 [==============================] - 0s 12ms/step - loss: 6.9694 - mae: 6.9694\n",
            "Epoch 90/100\n",
            "1/1 [==============================] - 0s 10ms/step - loss: 6.9638 - mae: 6.9638\n",
            "Epoch 91/100\n",
            "1/1 [==============================] - 0s 10ms/step - loss: 6.9581 - mae: 6.9581\n",
            "Epoch 92/100\n",
            "1/1 [==============================] - 0s 10ms/step - loss: 6.9525 - mae: 6.9525\n",
            "Epoch 93/100\n",
            "1/1 [==============================] - 0s 13ms/step - loss: 6.9469 - mae: 6.9469\n",
            "Epoch 94/100\n",
            "1/1 [==============================] - 0s 25ms/step - loss: 6.9413 - mae: 6.9413\n",
            "Epoch 95/100\n",
            "1/1 [==============================] - 0s 28ms/step - loss: 6.9356 - mae: 6.9356\n",
            "Epoch 96/100\n",
            "1/1 [==============================] - 0s 23ms/step - loss: 6.9300 - mae: 6.9300\n",
            "Epoch 97/100\n",
            "1/1 [==============================] - 0s 22ms/step - loss: 6.9244 - mae: 6.9244\n",
            "Epoch 98/100\n",
            "1/1 [==============================] - 0s 22ms/step - loss: 6.9188 - mae: 6.9188\n",
            "Epoch 99/100\n",
            "1/1 [==============================] - 0s 19ms/step - loss: 6.9131 - mae: 6.9131\n",
            "Epoch 100/100\n",
            "1/1 [==============================] - 0s 27ms/step - loss: 6.9075 - mae: 6.9075\n"
          ]
        },
        {
          "output_type": "execute_result",
          "data": {
            "text/plain": [
              "<keras.src.callbacks.History at 0x78f6b83f7280>"
            ]
          },
          "metadata": {},
          "execution_count": 9
        }
      ]
    },
    {
      "cell_type": "code",
      "source": [
        "# Remind ourselves of the data\n",
        "X,y"
      ],
      "metadata": {
        "colab": {
          "base_uri": "https://localhost:8080/"
        },
        "id": "2kOmNlTcbPxT",
        "outputId": "bfb5203d-54b1-4602-89ca-98f242009feb"
      },
      "execution_count": null,
      "outputs": [
        {
          "output_type": "execute_result",
          "data": {
            "text/plain": [
              "(<tf.Tensor: shape=(8,), dtype=float64, numpy=array([-7., -4., -1.,  2.,  5.,  8., 11., 14.])>,\n",
              " <tf.Tensor: shape=(8,), dtype=float64, numpy=array([ 3.,  6.,  9., 12., 15., 18., 21., 24.])>)"
            ]
          },
          "metadata": {},
          "execution_count": 10
        }
      ]
    },
    {
      "cell_type": "code",
      "source": [
        "# Let's see if our model's prediction has improved\n",
        "model.predict([17])"
      ],
      "metadata": {
        "colab": {
          "base_uri": "https://localhost:8080/"
        },
        "id": "6IcryI8Lbpyi",
        "outputId": "6abd2eaa-c574-4bfa-e69b-9e8602bfa208"
      },
      "execution_count": null,
      "outputs": [
        {
          "output_type": "stream",
          "name": "stdout",
          "text": [
            "1/1 [==============================] - 0s 132ms/step\n"
          ]
        },
        {
          "output_type": "execute_result",
          "data": {
            "text/plain": [
              "array([[29.760424]], dtype=float32)"
            ]
          },
          "metadata": {},
          "execution_count": 11
        }
      ]
    },
    {
      "cell_type": "code",
      "source": [
        "# Let's see if we can make another to imrove our model\n",
        "\n",
        "# 1. Create the model (this time with extra hidden layers)\n",
        "model=tf.keras.Sequential([\n",
        "    tf.keras.layers.Dense(100,activation=\"relu\"),\n",
        "    tf.keras.layers.Dense(1)\n",
        "])\n",
        "\n",
        "# 2.Compile the model\n",
        "model.compile(loss=tf.keras.losses.mae,\n",
        "             optimizer=tf.keras.optimizers.SGD(),\n",
        "              metrics=[\"mae\"])\n",
        "\n",
        "# 3. Fit the model\n",
        "model.fit(tf.expand_dims(X,axis=-1),y,epochs=100)"
      ],
      "metadata": {
        "colab": {
          "base_uri": "https://localhost:8080/"
        },
        "id": "biePQiTPb5Kh",
        "outputId": "253b0fc7-eb5a-40f9-baee-5f33233769fc"
      },
      "execution_count": null,
      "outputs": [
        {
          "output_type": "stream",
          "name": "stdout",
          "text": [
            "Epoch 1/100\n",
            "1/1 [==============================] - 2s 2s/step - loss: 13.3888 - mae: 13.3888\n",
            "Epoch 2/100\n",
            "1/1 [==============================] - 0s 26ms/step - loss: 12.8637 - mae: 12.8637\n",
            "Epoch 3/100\n",
            "1/1 [==============================] - 0s 24ms/step - loss: 12.3470 - mae: 12.3470\n",
            "Epoch 4/100\n",
            "1/1 [==============================] - 0s 26ms/step - loss: 11.8188 - mae: 11.8188\n",
            "Epoch 5/100\n",
            "1/1 [==============================] - 0s 14ms/step - loss: 11.2843 - mae: 11.2843\n",
            "Epoch 6/100\n",
            "1/1 [==============================] - 0s 24ms/step - loss: 10.7373 - mae: 10.7373\n",
            "Epoch 7/100\n",
            "1/1 [==============================] - 0s 17ms/step - loss: 10.1651 - mae: 10.1651\n",
            "Epoch 8/100\n",
            "1/1 [==============================] - 0s 23ms/step - loss: 9.5629 - mae: 9.5629\n",
            "Epoch 9/100\n",
            "1/1 [==============================] - 0s 18ms/step - loss: 8.9254 - mae: 8.9254\n",
            "Epoch 10/100\n",
            "1/1 [==============================] - 0s 18ms/step - loss: 8.2484 - mae: 8.2484\n",
            "Epoch 11/100\n",
            "1/1 [==============================] - 0s 22ms/step - loss: 7.5248 - mae: 7.5248\n",
            "Epoch 12/100\n",
            "1/1 [==============================] - 0s 17ms/step - loss: 6.7508 - mae: 6.7508\n",
            "Epoch 13/100\n",
            "1/1 [==============================] - 0s 38ms/step - loss: 5.9155 - mae: 5.9155\n",
            "Epoch 14/100\n",
            "1/1 [==============================] - 0s 31ms/step - loss: 5.0107 - mae: 5.0107\n",
            "Epoch 15/100\n",
            "1/1 [==============================] - 0s 24ms/step - loss: 4.3381 - mae: 4.3381\n",
            "Epoch 16/100\n",
            "1/1 [==============================] - 0s 24ms/step - loss: 4.1975 - mae: 4.1975\n",
            "Epoch 17/100\n",
            "1/1 [==============================] - 0s 48ms/step - loss: 4.1156 - mae: 4.1156\n",
            "Epoch 18/100\n",
            "1/1 [==============================] - 0s 33ms/step - loss: 4.0830 - mae: 4.0830\n",
            "Epoch 19/100\n",
            "1/1 [==============================] - 0s 31ms/step - loss: 4.0334 - mae: 4.0334\n",
            "Epoch 20/100\n",
            "1/1 [==============================] - 0s 21ms/step - loss: 3.9668 - mae: 3.9668\n",
            "Epoch 21/100\n",
            "1/1 [==============================] - 0s 25ms/step - loss: 3.9497 - mae: 3.9497\n",
            "Epoch 22/100\n",
            "1/1 [==============================] - 0s 20ms/step - loss: 3.8754 - mae: 3.8754\n",
            "Epoch 23/100\n",
            "1/1 [==============================] - 0s 19ms/step - loss: 3.9378 - mae: 3.9378\n",
            "Epoch 24/100\n",
            "1/1 [==============================] - 0s 23ms/step - loss: 3.8706 - mae: 3.8706\n",
            "Epoch 25/100\n",
            "1/1 [==============================] - 0s 25ms/step - loss: 3.9227 - mae: 3.9227\n",
            "Epoch 26/100\n",
            "1/1 [==============================] - 0s 20ms/step - loss: 3.8804 - mae: 3.8804\n",
            "Epoch 27/100\n",
            "1/1 [==============================] - 0s 29ms/step - loss: 3.9039 - mae: 3.9039\n",
            "Epoch 28/100\n",
            "1/1 [==============================] - 0s 21ms/step - loss: 3.8921 - mae: 3.8921\n",
            "Epoch 29/100\n",
            "1/1 [==============================] - 0s 19ms/step - loss: 3.8779 - mae: 3.8779\n",
            "Epoch 30/100\n",
            "1/1 [==============================] - 0s 18ms/step - loss: 3.8990 - mae: 3.8990\n",
            "Epoch 31/100\n",
            "1/1 [==============================] - 0s 22ms/step - loss: 3.8518 - mae: 3.8518\n",
            "Epoch 32/100\n",
            "1/1 [==============================] - 0s 24ms/step - loss: 3.9062 - mae: 3.9062\n",
            "Epoch 33/100\n",
            "1/1 [==============================] - 0s 13ms/step - loss: 3.8394 - mae: 3.8394\n",
            "Epoch 34/100\n",
            "1/1 [==============================] - 0s 33ms/step - loss: 3.9005 - mae: 3.9005\n",
            "Epoch 35/100\n",
            "1/1 [==============================] - 0s 30ms/step - loss: 3.8541 - mae: 3.8541\n",
            "Epoch 36/100\n",
            "1/1 [==============================] - 0s 25ms/step - loss: 3.8796 - mae: 3.8796\n",
            "Epoch 37/100\n",
            "1/1 [==============================] - 0s 25ms/step - loss: 3.8612 - mae: 3.8612\n",
            "Epoch 38/100\n",
            "1/1 [==============================] - 0s 23ms/step - loss: 3.8534 - mae: 3.8534\n",
            "Epoch 39/100\n",
            "1/1 [==============================] - 0s 23ms/step - loss: 3.8684 - mae: 3.8684\n",
            "Epoch 40/100\n",
            "1/1 [==============================] - 0s 17ms/step - loss: 3.8269 - mae: 3.8269\n",
            "Epoch 41/100\n",
            "1/1 [==============================] - 0s 20ms/step - loss: 3.8758 - mae: 3.8758\n",
            "Epoch 42/100\n",
            "1/1 [==============================] - 0s 22ms/step - loss: 3.8094 - mae: 3.8094\n",
            "Epoch 43/100\n",
            "1/1 [==============================] - 0s 24ms/step - loss: 3.8808 - mae: 3.8808\n",
            "Epoch 44/100\n",
            "1/1 [==============================] - 0s 18ms/step - loss: 3.8243 - mae: 3.8243\n",
            "Epoch 45/100\n",
            "1/1 [==============================] - 0s 15ms/step - loss: 3.8538 - mae: 3.8538\n",
            "Epoch 46/100\n",
            "1/1 [==============================] - 0s 16ms/step - loss: 3.8317 - mae: 3.8317\n",
            "Epoch 47/100\n",
            "1/1 [==============================] - 0s 35ms/step - loss: 3.8273 - mae: 3.8273\n",
            "Epoch 48/100\n",
            "1/1 [==============================] - 0s 20ms/step - loss: 3.8391 - mae: 3.8391\n",
            "Epoch 49/100\n",
            "1/1 [==============================] - 0s 20ms/step - loss: 3.8005 - mae: 3.8005\n",
            "Epoch 50/100\n",
            "1/1 [==============================] - 0s 21ms/step - loss: 3.8467 - mae: 3.8467\n",
            "Epoch 51/100\n",
            "1/1 [==============================] - 0s 19ms/step - loss: 3.7861 - mae: 3.7861\n",
            "Epoch 52/100\n",
            "1/1 [==============================] - 0s 16ms/step - loss: 3.8535 - mae: 3.8535\n",
            "Epoch 53/100\n",
            "1/1 [==============================] - 0s 15ms/step - loss: 3.7957 - mae: 3.7957\n",
            "Epoch 54/100\n",
            "1/1 [==============================] - 0s 23ms/step - loss: 3.8267 - mae: 3.8267\n",
            "Epoch 55/100\n",
            "1/1 [==============================] - 0s 21ms/step - loss: 3.8033 - mae: 3.8033\n",
            "Epoch 56/100\n",
            "1/1 [==============================] - 0s 24ms/step - loss: 3.7999 - mae: 3.7999\n",
            "Epoch 57/100\n",
            "1/1 [==============================] - 0s 24ms/step - loss: 3.8109 - mae: 3.8109\n",
            "Epoch 58/100\n",
            "1/1 [==============================] - 0s 24ms/step - loss: 3.7729 - mae: 3.7729\n",
            "Epoch 59/100\n",
            "1/1 [==============================] - 0s 21ms/step - loss: 3.8219 - mae: 3.8219\n",
            "Epoch 60/100\n",
            "1/1 [==============================] - 0s 41ms/step - loss: 3.7606 - mae: 3.7606\n",
            "Epoch 61/100\n",
            "1/1 [==============================] - 0s 37ms/step - loss: 3.8254 - mae: 3.8254\n",
            "Epoch 62/100\n",
            "1/1 [==============================] - 0s 26ms/step - loss: 3.7682 - mae: 3.7682\n",
            "Epoch 63/100\n",
            "1/1 [==============================] - 0s 19ms/step - loss: 3.7984 - mae: 3.7984\n",
            "Epoch 64/100\n",
            "1/1 [==============================] - 0s 30ms/step - loss: 3.7760 - mae: 3.7760\n",
            "Epoch 65/100\n",
            "1/1 [==============================] - 0s 44ms/step - loss: 3.7712 - mae: 3.7712\n",
            "Epoch 66/100\n",
            "1/1 [==============================] - 0s 44ms/step - loss: 3.7839 - mae: 3.7839\n",
            "Epoch 67/100\n",
            "1/1 [==============================] - 0s 15ms/step - loss: 3.7451 - mae: 3.7451\n",
            "Epoch 68/100\n",
            "1/1 [==============================] - 0s 29ms/step - loss: 3.7995 - mae: 3.7995\n",
            "Epoch 69/100\n",
            "1/1 [==============================] - 0s 18ms/step - loss: 3.7339 - mae: 3.7339\n",
            "Epoch 70/100\n",
            "1/1 [==============================] - 0s 18ms/step - loss: 3.7961 - mae: 3.7961\n",
            "Epoch 71/100\n",
            "1/1 [==============================] - 0s 27ms/step - loss: 3.7418 - mae: 3.7418\n",
            "Epoch 72/100\n",
            "1/1 [==============================] - 0s 28ms/step - loss: 3.7687 - mae: 3.7687\n",
            "Epoch 73/100\n",
            "1/1 [==============================] - 0s 19ms/step - loss: 3.7498 - mae: 3.7498\n",
            "Epoch 74/100\n",
            "1/1 [==============================] - 0s 37ms/step - loss: 3.7413 - mae: 3.7413\n",
            "Epoch 75/100\n",
            "1/1 [==============================] - 0s 28ms/step - loss: 3.7579 - mae: 3.7579\n",
            "Epoch 76/100\n",
            "1/1 [==============================] - 0s 21ms/step - loss: 3.7195 - mae: 3.7195\n",
            "Epoch 77/100\n",
            "1/1 [==============================] - 0s 24ms/step - loss: 3.7736 - mae: 3.7736\n",
            "Epoch 78/100\n",
            "1/1 [==============================] - 0s 22ms/step - loss: 3.7083 - mae: 3.7083\n",
            "Epoch 79/100\n",
            "1/1 [==============================] - 0s 21ms/step - loss: 3.7655 - mae: 3.7655\n",
            "Epoch 80/100\n",
            "1/1 [==============================] - 0s 22ms/step - loss: 3.7164 - mae: 3.7164\n",
            "Epoch 81/100\n",
            "1/1 [==============================] - 0s 26ms/step - loss: 3.7378 - mae: 3.7378\n",
            "Epoch 82/100\n",
            "1/1 [==============================] - 0s 20ms/step - loss: 3.7246 - mae: 3.7246\n",
            "Epoch 83/100\n",
            "1/1 [==============================] - 0s 20ms/step - loss: 3.7100 - mae: 3.7100\n",
            "Epoch 84/100\n",
            "1/1 [==============================] - 0s 21ms/step - loss: 3.7358 - mae: 3.7358\n",
            "Epoch 85/100\n",
            "1/1 [==============================] - 0s 18ms/step - loss: 3.6890 - mae: 3.6890\n",
            "Epoch 86/100\n",
            "1/1 [==============================] - 0s 17ms/step - loss: 3.7489 - mae: 3.7489\n",
            "Epoch 87/100\n",
            "1/1 [==============================] - 0s 18ms/step - loss: 3.6837 - mae: 3.6837\n",
            "Epoch 88/100\n",
            "1/1 [==============================] - 0s 16ms/step - loss: 3.7334 - mae: 3.7334\n",
            "Epoch 89/100\n",
            "1/1 [==============================] - 0s 17ms/step - loss: 3.6920 - mae: 3.6920\n",
            "Epoch 90/100\n",
            "1/1 [==============================] - 0s 17ms/step - loss: 3.7054 - mae: 3.7054\n",
            "Epoch 91/100\n",
            "1/1 [==============================] - 0s 16ms/step - loss: 3.7004 - mae: 3.7004\n",
            "Epoch 92/100\n",
            "1/1 [==============================] - 0s 16ms/step - loss: 3.6778 - mae: 3.6778\n",
            "Epoch 93/100\n",
            "1/1 [==============================] - 0s 16ms/step - loss: 3.7165 - mae: 3.7165\n",
            "Epoch 94/100\n",
            "1/1 [==============================] - 0s 15ms/step - loss: 3.6560 - mae: 3.6560\n",
            "Epoch 95/100\n",
            "1/1 [==============================] - 0s 16ms/step - loss: 3.7250 - mae: 3.7250\n",
            "Epoch 96/100\n",
            "1/1 [==============================] - 0s 18ms/step - loss: 3.6600 - mae: 3.6600\n",
            "Epoch 97/100\n",
            "1/1 [==============================] - 0s 17ms/step - loss: 3.7001 - mae: 3.7001\n",
            "Epoch 98/100\n",
            "1/1 [==============================] - 0s 36ms/step - loss: 3.6685 - mae: 3.6685\n",
            "Epoch 99/100\n",
            "1/1 [==============================] - 0s 22ms/step - loss: 3.6718 - mae: 3.6718\n",
            "Epoch 100/100\n",
            "1/1 [==============================] - 0s 17ms/step - loss: 3.6771 - mae: 3.6771\n"
          ]
        },
        {
          "output_type": "execute_result",
          "data": {
            "text/plain": [
              "<keras.src.callbacks.History at 0x78f6b8110280>"
            ]
          },
          "metadata": {},
          "execution_count": 12
        }
      ]
    },
    {
      "cell_type": "code",
      "source": [
        "# Let's see if our model's prediction has improved\n",
        "model.predict([17])"
      ],
      "metadata": {
        "colab": {
          "base_uri": "https://localhost:8080/"
        },
        "id": "bf9rhaj_dFR-",
        "outputId": "9879095d-a54a-4710-c649-37f40c8a6550"
      },
      "execution_count": null,
      "outputs": [
        {
          "output_type": "stream",
          "name": "stdout",
          "text": [
            "1/1 [==============================] - 0s 268ms/step\n"
          ]
        },
        {
          "output_type": "execute_result",
          "data": {
            "text/plain": [
              "array([[31.677595]], dtype=float32)"
            ]
          },
          "metadata": {},
          "execution_count": 13
        }
      ]
    },
    {
      "cell_type": "markdown",
      "source": [
        "Overfitting the data"
      ],
      "metadata": {
        "id": "BKfV617khWMw"
      }
    },
    {
      "cell_type": "code",
      "source": [
        "# Let's see if we can make another to imrove our model\n",
        "\n",
        "# 1. Create the model\n",
        "model=tf.keras.Sequential([\n",
        "    tf.keras.layers.Dense(50,activation=None),\n",
        "    tf.keras.layers.Dense(1)\n",
        "])\n",
        "\n",
        "# 2.Compile the model\n",
        "model.compile(loss=tf.keras.losses.mae,\n",
        "             optimizer=tf.keras.optimizers.Adam(lr=0.01),\n",
        "              metrics=[\"mae\"])\n",
        "\n",
        "# 3. Fit the model\n",
        "model.fit(tf.expand_dims(X,axis=-1),y,epochs=100)"
      ],
      "metadata": {
        "colab": {
          "base_uri": "https://localhost:8080/"
        },
        "id": "HG1XMV9bd7LT",
        "outputId": "9809a8f1-c390-4a36-94b2-fd368dcd7acc"
      },
      "execution_count": null,
      "outputs": [
        {
          "output_type": "stream",
          "name": "stderr",
          "text": [
            "WARNING:absl:`lr` is deprecated in Keras optimizer, please use `learning_rate` or use the legacy optimizer, e.g.,tf.keras.optimizers.legacy.Adam.\n"
          ]
        },
        {
          "output_type": "stream",
          "name": "stdout",
          "text": [
            "Epoch 1/100\n",
            "1/1 [==============================] - 1s 1s/step - loss: 13.5475 - mae: 13.5475\n",
            "Epoch 2/100\n",
            "1/1 [==============================] - 0s 21ms/step - loss: 13.4763 - mae: 13.4763\n",
            "Epoch 3/100\n",
            "1/1 [==============================] - 0s 20ms/step - loss: 13.4051 - mae: 13.4051\n",
            "Epoch 4/100\n",
            "1/1 [==============================] - 0s 29ms/step - loss: 13.3339 - mae: 13.3339\n",
            "Epoch 5/100\n",
            "1/1 [==============================] - 0s 21ms/step - loss: 13.2627 - mae: 13.2627\n",
            "Epoch 6/100\n",
            "1/1 [==============================] - 0s 19ms/step - loss: 13.1914 - mae: 13.1914\n",
            "Epoch 7/100\n",
            "1/1 [==============================] - 0s 17ms/step - loss: 13.1201 - mae: 13.1201\n",
            "Epoch 8/100\n",
            "1/1 [==============================] - 0s 30ms/step - loss: 13.0488 - mae: 13.0488\n",
            "Epoch 9/100\n",
            "1/1 [==============================] - 0s 12ms/step - loss: 12.9775 - mae: 12.9775\n",
            "Epoch 10/100\n",
            "1/1 [==============================] - 0s 11ms/step - loss: 12.9062 - mae: 12.9062\n",
            "Epoch 11/100\n",
            "1/1 [==============================] - 0s 16ms/step - loss: 12.8348 - mae: 12.8348\n",
            "Epoch 12/100\n",
            "1/1 [==============================] - 0s 11ms/step - loss: 12.7634 - mae: 12.7634\n",
            "Epoch 13/100\n",
            "1/1 [==============================] - 0s 17ms/step - loss: 12.6920 - mae: 12.6920\n",
            "Epoch 14/100\n",
            "1/1 [==============================] - 0s 19ms/step - loss: 12.6205 - mae: 12.6205\n",
            "Epoch 15/100\n",
            "1/1 [==============================] - 0s 19ms/step - loss: 12.5490 - mae: 12.5490\n",
            "Epoch 16/100\n",
            "1/1 [==============================] - 0s 15ms/step - loss: 12.4774 - mae: 12.4774\n",
            "Epoch 17/100\n",
            "1/1 [==============================] - 0s 13ms/step - loss: 12.4058 - mae: 12.4058\n",
            "Epoch 18/100\n",
            "1/1 [==============================] - 0s 15ms/step - loss: 12.3341 - mae: 12.3341\n",
            "Epoch 19/100\n",
            "1/1 [==============================] - 0s 17ms/step - loss: 12.2624 - mae: 12.2624\n",
            "Epoch 20/100\n",
            "1/1 [==============================] - 0s 13ms/step - loss: 12.1906 - mae: 12.1906\n",
            "Epoch 21/100\n",
            "1/1 [==============================] - 0s 13ms/step - loss: 12.1187 - mae: 12.1187\n",
            "Epoch 22/100\n",
            "1/1 [==============================] - 0s 12ms/step - loss: 12.0467 - mae: 12.0467\n",
            "Epoch 23/100\n",
            "1/1 [==============================] - 0s 17ms/step - loss: 11.9747 - mae: 11.9747\n",
            "Epoch 24/100\n",
            "1/1 [==============================] - 0s 20ms/step - loss: 11.9025 - mae: 11.9025\n",
            "Epoch 25/100\n",
            "1/1 [==============================] - 0s 19ms/step - loss: 11.8303 - mae: 11.8303\n",
            "Epoch 26/100\n",
            "1/1 [==============================] - 0s 14ms/step - loss: 11.7579 - mae: 11.7579\n",
            "Epoch 27/100\n",
            "1/1 [==============================] - 0s 17ms/step - loss: 11.6854 - mae: 11.6854\n",
            "Epoch 28/100\n",
            "1/1 [==============================] - 0s 27ms/step - loss: 11.6128 - mae: 11.6128\n",
            "Epoch 29/100\n",
            "1/1 [==============================] - 0s 28ms/step - loss: 11.5401 - mae: 11.5401\n",
            "Epoch 30/100\n",
            "1/1 [==============================] - 0s 30ms/step - loss: 11.4672 - mae: 11.4672\n",
            "Epoch 31/100\n",
            "1/1 [==============================] - 0s 24ms/step - loss: 11.3942 - mae: 11.3942\n",
            "Epoch 32/100\n",
            "1/1 [==============================] - 0s 30ms/step - loss: 11.3210 - mae: 11.3210\n",
            "Epoch 33/100\n",
            "1/1 [==============================] - 0s 24ms/step - loss: 11.2476 - mae: 11.2476\n",
            "Epoch 34/100\n",
            "1/1 [==============================] - 0s 43ms/step - loss: 11.1741 - mae: 11.1741\n",
            "Epoch 35/100\n",
            "1/1 [==============================] - 0s 35ms/step - loss: 11.1003 - mae: 11.1003\n",
            "Epoch 36/100\n",
            "1/1 [==============================] - 0s 21ms/step - loss: 11.0264 - mae: 11.0264\n",
            "Epoch 37/100\n",
            "1/1 [==============================] - 0s 20ms/step - loss: 10.9523 - mae: 10.9523\n",
            "Epoch 38/100\n",
            "1/1 [==============================] - 0s 22ms/step - loss: 10.8780 - mae: 10.8780\n",
            "Epoch 39/100\n",
            "1/1 [==============================] - 0s 20ms/step - loss: 10.8034 - mae: 10.8034\n",
            "Epoch 40/100\n",
            "1/1 [==============================] - 0s 16ms/step - loss: 10.7286 - mae: 10.7286\n",
            "Epoch 41/100\n",
            "1/1 [==============================] - 0s 42ms/step - loss: 10.6536 - mae: 10.6536\n",
            "Epoch 42/100\n",
            "1/1 [==============================] - 0s 16ms/step - loss: 10.5783 - mae: 10.5783\n",
            "Epoch 43/100\n",
            "1/1 [==============================] - 0s 25ms/step - loss: 10.5028 - mae: 10.5028\n",
            "Epoch 44/100\n",
            "1/1 [==============================] - 0s 23ms/step - loss: 10.4269 - mae: 10.4269\n",
            "Epoch 45/100\n",
            "1/1 [==============================] - 0s 25ms/step - loss: 10.3508 - mae: 10.3508\n",
            "Epoch 46/100\n",
            "1/1 [==============================] - 0s 24ms/step - loss: 10.2744 - mae: 10.2744\n",
            "Epoch 47/100\n",
            "1/1 [==============================] - 0s 33ms/step - loss: 10.1977 - mae: 10.1977\n",
            "Epoch 48/100\n",
            "1/1 [==============================] - 0s 27ms/step - loss: 10.1207 - mae: 10.1207\n",
            "Epoch 49/100\n",
            "1/1 [==============================] - 0s 35ms/step - loss: 10.0434 - mae: 10.0434\n",
            "Epoch 50/100\n",
            "1/1 [==============================] - 0s 21ms/step - loss: 9.9657 - mae: 9.9657\n",
            "Epoch 51/100\n",
            "1/1 [==============================] - 0s 24ms/step - loss: 9.8877 - mae: 9.8877\n",
            "Epoch 52/100\n",
            "1/1 [==============================] - 0s 20ms/step - loss: 9.8093 - mae: 9.8093\n",
            "Epoch 53/100\n",
            "1/1 [==============================] - 0s 27ms/step - loss: 9.7306 - mae: 9.7306\n",
            "Epoch 54/100\n",
            "1/1 [==============================] - 0s 20ms/step - loss: 9.6515 - mae: 9.6515\n",
            "Epoch 55/100\n",
            "1/1 [==============================] - 0s 22ms/step - loss: 9.5720 - mae: 9.5720\n",
            "Epoch 56/100\n",
            "1/1 [==============================] - 0s 22ms/step - loss: 9.4922 - mae: 9.4922\n",
            "Epoch 57/100\n",
            "1/1 [==============================] - 0s 24ms/step - loss: 9.4119 - mae: 9.4119\n",
            "Epoch 58/100\n",
            "1/1 [==============================] - 0s 27ms/step - loss: 9.3312 - mae: 9.3312\n",
            "Epoch 59/100\n",
            "1/1 [==============================] - 0s 27ms/step - loss: 9.2501 - mae: 9.2501\n",
            "Epoch 60/100\n",
            "1/1 [==============================] - 0s 24ms/step - loss: 9.1686 - mae: 9.1686\n",
            "Epoch 61/100\n",
            "1/1 [==============================] - 0s 19ms/step - loss: 9.0866 - mae: 9.0866\n",
            "Epoch 62/100\n",
            "1/1 [==============================] - 0s 13ms/step - loss: 9.0042 - mae: 9.0042\n",
            "Epoch 63/100\n",
            "1/1 [==============================] - 0s 15ms/step - loss: 8.9214 - mae: 8.9214\n",
            "Epoch 64/100\n",
            "1/1 [==============================] - 0s 27ms/step - loss: 8.8381 - mae: 8.8381\n",
            "Epoch 65/100\n",
            "1/1 [==============================] - 0s 37ms/step - loss: 8.7543 - mae: 8.7543\n",
            "Epoch 66/100\n",
            "1/1 [==============================] - 0s 64ms/step - loss: 8.6700 - mae: 8.6700\n",
            "Epoch 67/100\n",
            "1/1 [==============================] - 0s 15ms/step - loss: 8.5853 - mae: 8.5853\n",
            "Epoch 68/100\n",
            "1/1 [==============================] - 0s 27ms/step - loss: 8.5000 - mae: 8.5000\n",
            "Epoch 69/100\n",
            "1/1 [==============================] - 0s 36ms/step - loss: 8.4143 - mae: 8.4143\n",
            "Epoch 70/100\n",
            "1/1 [==============================] - 0s 16ms/step - loss: 8.3280 - mae: 8.3280\n",
            "Epoch 71/100\n",
            "1/1 [==============================] - 0s 28ms/step - loss: 8.2413 - mae: 8.2413\n",
            "Epoch 72/100\n",
            "1/1 [==============================] - 0s 41ms/step - loss: 8.1540 - mae: 8.1540\n",
            "Epoch 73/100\n",
            "1/1 [==============================] - 0s 15ms/step - loss: 8.0662 - mae: 8.0662\n",
            "Epoch 74/100\n",
            "1/1 [==============================] - 0s 23ms/step - loss: 7.9778 - mae: 7.9778\n",
            "Epoch 75/100\n",
            "1/1 [==============================] - 0s 15ms/step - loss: 7.8889 - mae: 7.8889\n",
            "Epoch 76/100\n",
            "1/1 [==============================] - 0s 27ms/step - loss: 7.7995 - mae: 7.7995\n",
            "Epoch 77/100\n",
            "1/1 [==============================] - 0s 13ms/step - loss: 7.7095 - mae: 7.7095\n",
            "Epoch 78/100\n",
            "1/1 [==============================] - 0s 21ms/step - loss: 7.6189 - mae: 7.6189\n",
            "Epoch 79/100\n",
            "1/1 [==============================] - 0s 20ms/step - loss: 7.5278 - mae: 7.5278\n",
            "Epoch 80/100\n",
            "1/1 [==============================] - 0s 32ms/step - loss: 7.4360 - mae: 7.4360\n",
            "Epoch 81/100\n",
            "1/1 [==============================] - 0s 21ms/step - loss: 7.3437 - mae: 7.3437\n",
            "Epoch 82/100\n",
            "1/1 [==============================] - 0s 19ms/step - loss: 7.2509 - mae: 7.2509\n",
            "Epoch 83/100\n",
            "1/1 [==============================] - 0s 31ms/step - loss: 7.1574 - mae: 7.1574\n",
            "Epoch 84/100\n",
            "1/1 [==============================] - 0s 21ms/step - loss: 7.0633 - mae: 7.0633\n",
            "Epoch 85/100\n",
            "1/1 [==============================] - 0s 26ms/step - loss: 6.9686 - mae: 6.9686\n",
            "Epoch 86/100\n",
            "1/1 [==============================] - 0s 29ms/step - loss: 6.8734 - mae: 6.8734\n",
            "Epoch 87/100\n",
            "1/1 [==============================] - 0s 23ms/step - loss: 6.7775 - mae: 6.7775\n",
            "Epoch 88/100\n",
            "1/1 [==============================] - 0s 52ms/step - loss: 6.7409 - mae: 6.7409\n",
            "Epoch 89/100\n",
            "1/1 [==============================] - 0s 20ms/step - loss: 6.7295 - mae: 6.7295\n",
            "Epoch 90/100\n",
            "1/1 [==============================] - 0s 18ms/step - loss: 6.7183 - mae: 6.7183\n",
            "Epoch 91/100\n",
            "1/1 [==============================] - 0s 28ms/step - loss: 6.7074 - mae: 6.7074\n",
            "Epoch 92/100\n",
            "1/1 [==============================] - 0s 20ms/step - loss: 6.6967 - mae: 6.6967\n",
            "Epoch 93/100\n",
            "1/1 [==============================] - 0s 14ms/step - loss: 6.6862 - mae: 6.6862\n",
            "Epoch 94/100\n",
            "1/1 [==============================] - 0s 18ms/step - loss: 6.6758 - mae: 6.6758\n",
            "Epoch 95/100\n",
            "1/1 [==============================] - 0s 66ms/step - loss: 6.6656 - mae: 6.6656\n",
            "Epoch 96/100\n",
            "1/1 [==============================] - 0s 26ms/step - loss: 6.6556 - mae: 6.6556\n",
            "Epoch 97/100\n",
            "1/1 [==============================] - 0s 16ms/step - loss: 6.6456 - mae: 6.6456\n",
            "Epoch 98/100\n",
            "1/1 [==============================] - 0s 18ms/step - loss: 6.6358 - mae: 6.6358\n",
            "Epoch 99/100\n",
            "1/1 [==============================] - 0s 26ms/step - loss: 6.6493 - mae: 6.6493\n",
            "Epoch 100/100\n",
            "1/1 [==============================] - 0s 27ms/step - loss: 6.6585 - mae: 6.6585\n"
          ]
        },
        {
          "output_type": "execute_result",
          "data": {
            "text/plain": [
              "<keras.src.callbacks.History at 0x78f6b1f916c0>"
            ]
          },
          "metadata": {},
          "execution_count": 14
        }
      ]
    },
    {
      "cell_type": "code",
      "source": [
        "# Let's see if our model's prediction has improved\n",
        "model.predict([17])"
      ],
      "metadata": {
        "colab": {
          "base_uri": "https://localhost:8080/"
        },
        "id": "yYp4-04bhQC4",
        "outputId": "31948e00-3997-47d8-f6db-d6081ccdae45"
      },
      "execution_count": null,
      "outputs": [
        {
          "output_type": "stream",
          "name": "stdout",
          "text": [
            "1/1 [==============================] - 0s 171ms/step\n"
          ]
        },
        {
          "output_type": "execute_result",
          "data": {
            "text/plain": [
              "array([[32.13213]], dtype=float32)"
            ]
          },
          "metadata": {},
          "execution_count": 15
        }
      ]
    },
    {
      "cell_type": "markdown",
      "source": [
        "## Evaluating a model\n",
        "\n",
        "In practice, a typical workflow you'll go through when building neural network is:\n",
        "\n",
        "```\n",
        "Build a model -> fit it -> evaluate it -> tweak a model -> fit it -> evaluate it  -> tweak a model -> fit it -> evaluate it...\n",
        "```"
      ],
      "metadata": {
        "id": "SvKvEmG2hTQz"
      }
    },
    {
      "cell_type": "markdown",
      "source": [
        "Evaluation involves visualisation\n",
        "\n",
        "It's a good idea to visualize:\n",
        "* The data - what data are we working with? What does it look like?\n",
        "* The model itself - what does our model look like?\n",
        "* The training of a model - how does a model perform while it learns?\n",
        "* The predicition of the model - how do the predicctions of a model line up  truth (original label)?"
      ],
      "metadata": {
        "id": "qXscGIujijPv"
      }
    },
    {
      "cell_type": "code",
      "source": [
        "# Make a bigger dataset\n",
        "X=tf.range(-100,100,4)\n",
        "y=X+10\n",
        "\n",
        "#Visualize the data\n",
        "plt.scatter(X,y);\n"
      ],
      "metadata": {
        "colab": {
          "base_uri": "https://localhost:8080/",
          "height": 430
        },
        "id": "wKoeZI6Zjnsq",
        "outputId": "2705fee3-0476-4780-d2e7-d2179bd5a3a7"
      },
      "execution_count": null,
      "outputs": [
        {
          "output_type": "display_data",
          "data": {
            "text/plain": [
              "<Figure size 640x480 with 1 Axes>"
            ],
            "image/png": "[encoded data removed]"
          },
          "metadata": {}
        }
      ]
    },
    {
      "cell_type": "markdown",
      "source": [
        "### The 3 sets...\n",
        "\n",
        "* Training set - the model learns from this data, which is typically 70-80% of the total data you have available.\n",
        "* Validation set - the model gets tuned on this data, which is typically 10-15% of the data available.\n",
        "* Test set - the model gets evaluated on this data to test what it has learned, this set is typically 10-15% of the total data available.\n"
      ],
      "metadata": {
        "id": "s9tY0Vegj93P"
      }
    },
    {
      "cell_type": "code",
      "source": [
        "# Check the length of how many samples we have\n",
        "len(X)"
      ],
      "metadata": {
        "colab": {
          "base_uri": "https://localhost:8080/"
        },
        "id": "7ePEcyG0hiTn",
        "outputId": "a9521e3b-5dc5-4b1f-c15e-8fe5ee7e7ffc"
      },
      "execution_count": null,
      "outputs": [
        {
          "output_type": "execute_result",
          "data": {
            "text/plain": [
              "50"
            ]
          },
          "metadata": {},
          "execution_count": 17
        }
      ]
    },
    {
      "cell_type": "code",
      "source": [
        "# Split the data ino train and test sets\n",
        "X_train=X[:40]  # first 40 are training samples (80% of the data)\n",
        "y_train=y[:40]\n",
        "\n",
        "X_test=X[40:]   # last 10 are testing samples (20% of the data)\n",
        "y_test=y[40:]"
      ],
      "metadata": {
        "id": "OpQwvKKGhp19"
      },
      "execution_count": null,
      "outputs": []
    },
    {
      "cell_type": "markdown",
      "source": [
        "### Visualising the data\n",
        "Now we've got our data in training and test sets...let's visualize it again\n",
        "\n"
      ],
      "metadata": {
        "id": "0AWRsO4YiM3l"
      }
    },
    {
      "cell_type": "code",
      "source": [
        "plt.figure(figsize=(10,7))\n",
        "plt.scatter(X_train,y_train,c=\"b\",label=\"Training data\")\n",
        "plt.scatter(X_test,y_test,c=\"g\",label=\"Testing data\")\n",
        "plt.legend();"
      ],
      "metadata": {
        "colab": {
          "base_uri": "https://localhost:8080/",
          "height": 468
        },
        "id": "eehh-S8Xiepp",
        "outputId": "1413e9df-0206-4378-be85-b883397a06ba"
      },
      "execution_count": null,
      "outputs": [
        {
          "output_type": "display_data",
          "data": {
            "text/plain": [
              "<Figure size 1000x700 with 1 Axes>"
            ],
            "image/png": "[encoded data removed]"
          },
          "metadata": {}
        }
      ]
    },
    {
      "cell_type": "code",
      "source": [
        " # Let's have a look at how to build a neural network for our data\n",
        "\n",
        " # 1. Create a model\n",
        " model=tf.keras.Sequential([\n",
        "    tf.keras.layers.Dense(10,input_shape=[1],name=\"input_layer\"),\n",
        "    tf.keras.layers.Dense(1,name=\"output_layer\")\n",
        " ], name=\"model_1\")\n",
        "\n",
        " # 2. Compile the model\n",
        " model.compile(loss=tf.keras.losses.mae,\n",
        "               optimizer=tf.keras.optimizers.SGD(),\n",
        "               metrics=[\"mae\"])\n",
        "\n",
        " # 3. Fit the model\n",
        " model.fit(tf.expand_dims(X_train,axis=-1),y_train,epochs=100,verbose=0)"
      ],
      "metadata": {
        "colab": {
          "base_uri": "https://localhost:8080/"
        },
        "id": "neZJUqk9jAVd",
        "outputId": "7a49f8fd-e269-47e6-86ec-698127f6f19d"
      },
      "execution_count": null,
      "outputs": [
        {
          "output_type": "execute_result",
          "data": {
            "text/plain": [
              "<keras.src.callbacks.History at 0x78f6b1a5f100>"
            ]
          },
          "metadata": {},
          "execution_count": 20
        }
      ]
    },
    {
      "cell_type": "code",
      "source": [
        "model.summary()"
      ],
      "metadata": {
        "colab": {
          "base_uri": "https://localhost:8080/"
        },
        "id": "MF5hNCbwNrqc",
        "outputId": "699be21d-49dd-4012-a95b-cd02e558363b"
      },
      "execution_count": null,
      "outputs": [
        {
          "output_type": "stream",
          "name": "stdout",
          "text": [
            "Model: \"model_1\"\n",
            "_________________________________________________________________\n",
            " Layer (type)                Output Shape              Param #   \n",
            "=================================================================\n",
            " input_layer (Dense)         (None, 10)                20        \n",
            "                                                                 \n",
            " output_layer (Dense)        (None, 1)                 11        \n",
            "                                                                 \n",
            "=================================================================\n",
            "Total params: 31 (124.00 Byte)\n",
            "Trainable params: 31 (124.00 Byte)\n",
            "Non-trainable params: 0 (0.00 Byte)\n",
            "_________________________________________________________________\n"
          ]
        }
      ]
    },
    {
      "cell_type": "markdown",
      "source": [
        "### Visualizing the model"
      ],
      "metadata": {
        "id": "AsSZgJigmQC-"
      }
    },
    {
      "cell_type": "code",
      "source": [],
      "metadata": {
        "id": "SuIc-Zl1Nea9"
      },
      "execution_count": null,
      "outputs": []
    },
    {
      "cell_type": "markdown",
      "source": [
        "* Total params - total number of parameters in the model\n",
        "* Trainable parameters - these are the parameters (patterns) the model can update as it trains\n",
        "* Non-trainable params - these parameters aren't updated during training (this is typical when you bring in already learn patterns or parameters from other models during **transfer learning**)"
      ],
      "metadata": {
        "id": "FrcJW5BTmpbQ"
      }
    },
    {
      "cell_type": "code",
      "source": [
        "from  tensorflow.keras.utils import plot_model\n",
        "plot_model(model=model,show_shapes=True)"
      ],
      "metadata": {
        "colab": {
          "base_uri": "https://localhost:8080/",
          "height": 312
        },
        "id": "vw7Wb3a2nzmG",
        "outputId": "a3d47f91-7c47-4854-967f-cf235f7fb037"
      },
      "execution_count": null,
      "outputs": [
        {
          "output_type": "execute_result",
          "data": {
            "image/png": "[encoded data removed]",
            "text/plain": [
              "<IPython.core.display.Image object>"
            ]
          },
          "metadata": {},
          "execution_count": 22
        }
      ]
    },
    {
      "cell_type": "markdown",
      "source": [
        "### Visualizing our model's predictions\n",
        "\n",
        "To visualize predicitions, it's a good idea to plot them against the ground truth labels.\n",
        "\n"
      ],
      "metadata": {
        "id": "4M8pLCpsLPig"
      }
    },
    {
      "cell_type": "code",
      "source": [
        "# 1. Create a model\n",
        "model=tf.keras.Sequential([\n",
        "        tf.keras.layers.Dense(10),\n",
        "        tf.keras.layers.Dense(1)\n",
        "])\n",
        "\n",
        "# 2. Compile the model\n",
        "model.compile(loss=tf.keras.losses.mae,\n",
        "               optimizer=tf.keras.optimizers.SGD(),\n",
        "               metrics=[\"mae\"])\n",
        "\n",
        "# 3. Fit the model\n",
        "model.fit(tf.expand_dims(X_train,axis=-1),y_train,epochs=200)"
      ],
      "metadata": {
        "colab": {
          "base_uri": "https://localhost:8080/"
        },
        "id": "v_oAEAgVNwmS",
        "outputId": "3bda9903-3fe9-4818-88d8-785c834dddcf"
      },
      "execution_count": null,
      "outputs": [
        {
          "output_type": "stream",
          "name": "stdout",
          "text": [
            "Epoch 1/200\n",
            "2/2 [==============================] - 1s 29ms/step - loss: 32.7006 - mae: 32.7006\n",
            "Epoch 2/200\n",
            "2/2 [==============================] - 0s 14ms/step - loss: 20.2603 - mae: 20.2603\n",
            "Epoch 3/200\n",
            "2/2 [==============================] - 0s 15ms/step - loss: 26.9008 - mae: 26.9008\n",
            "Epoch 4/200\n",
            "2/2 [==============================] - 0s 18ms/step - loss: 12.8696 - mae: 12.8696\n",
            "Epoch 5/200\n",
            "2/2 [==============================] - 0s 13ms/step - loss: 15.8654 - mae: 15.8654\n",
            "Epoch 6/200\n",
            "2/2 [==============================] - 0s 9ms/step - loss: 12.5629 - mae: 12.5629\n",
            "Epoch 7/200\n",
            "2/2 [==============================] - 0s 13ms/step - loss: 11.8135 - mae: 11.8135\n",
            "Epoch 8/200\n",
            "2/2 [==============================] - 0s 11ms/step - loss: 10.8131 - mae: 10.8131\n",
            "Epoch 9/200\n",
            "2/2 [==============================] - 0s 11ms/step - loss: 36.9488 - mae: 36.9488\n",
            "Epoch 10/200\n",
            "2/2 [==============================] - 0s 17ms/step - loss: 24.7021 - mae: 24.7021\n",
            "Epoch 11/200\n",
            "2/2 [==============================] - 0s 37ms/step - loss: 11.0288 - mae: 11.0288\n",
            "Epoch 12/200\n",
            "2/2 [==============================] - 0s 14ms/step - loss: 24.5010 - mae: 24.5010\n",
            "Epoch 13/200\n",
            "2/2 [==============================] - 0s 14ms/step - loss: 19.1607 - mae: 19.1607\n",
            "Epoch 14/200\n",
            "2/2 [==============================] - 0s 16ms/step - loss: 23.3527 - mae: 23.3527\n",
            "Epoch 15/200\n",
            "2/2 [==============================] - 0s 16ms/step - loss: 15.1811 - mae: 15.1811\n",
            "Epoch 16/200\n",
            "2/2 [==============================] - 0s 18ms/step - loss: 11.3125 - mae: 11.3125\n",
            "Epoch 17/200\n",
            "2/2 [==============================] - 0s 15ms/step - loss: 23.0933 - mae: 23.0933\n",
            "Epoch 18/200\n",
            "2/2 [==============================] - 0s 17ms/step - loss: 11.7297 - mae: 11.7297\n",
            "Epoch 19/200\n",
            "2/2 [==============================] - 0s 18ms/step - loss: 16.3927 - mae: 16.3927\n",
            "Epoch 20/200\n",
            "2/2 [==============================] - 0s 15ms/step - loss: 8.2321 - mae: 8.2321\n",
            "Epoch 21/200\n",
            "2/2 [==============================] - 0s 14ms/step - loss: 14.4424 - mae: 14.4424\n",
            "Epoch 22/200\n",
            "2/2 [==============================] - 0s 15ms/step - loss: 12.8644 - mae: 12.8644\n",
            "Epoch 23/200\n",
            "2/2 [==============================] - 0s 14ms/step - loss: 15.4914 - mae: 15.4914\n",
            "Epoch 24/200\n",
            "2/2 [==============================] - 0s 12ms/step - loss: 15.2841 - mae: 15.2841\n",
            "Epoch 25/200\n",
            "2/2 [==============================] - 0s 14ms/step - loss: 14.3442 - mae: 14.3442\n",
            "Epoch 26/200\n",
            "2/2 [==============================] - 0s 12ms/step - loss: 19.3670 - mae: 19.3670\n",
            "Epoch 27/200\n",
            "2/2 [==============================] - 0s 18ms/step - loss: 11.4231 - mae: 11.4231\n",
            "Epoch 28/200\n",
            "2/2 [==============================] - 0s 9ms/step - loss: 29.0183 - mae: 29.0183\n",
            "Epoch 29/200\n",
            "2/2 [==============================] - 0s 43ms/step - loss: 9.2356 - mae: 9.2356\n",
            "Epoch 30/200\n",
            "2/2 [==============================] - 0s 29ms/step - loss: 29.7755 - mae: 29.7755\n",
            "Epoch 31/200\n",
            "2/2 [==============================] - 0s 8ms/step - loss: 54.0173 - mae: 54.0173\n",
            "Epoch 32/200\n",
            "2/2 [==============================] - 0s 23ms/step - loss: 9.5389 - mae: 9.5389\n",
            "Epoch 33/200\n",
            "2/2 [==============================] - 0s 28ms/step - loss: 12.1288 - mae: 12.1288\n",
            "Epoch 34/200\n",
            "2/2 [==============================] - 0s 19ms/step - loss: 23.8289 - mae: 23.8289\n",
            "Epoch 35/200\n",
            "2/2 [==============================] - 0s 32ms/step - loss: 12.6199 - mae: 12.6199\n",
            "Epoch 36/200\n",
            "2/2 [==============================] - 0s 12ms/step - loss: 21.5537 - mae: 21.5537\n",
            "Epoch 37/200\n",
            "2/2 [==============================] - 0s 17ms/step - loss: 11.3408 - mae: 11.3408\n",
            "Epoch 38/200\n",
            "2/2 [==============================] - 0s 35ms/step - loss: 13.4158 - mae: 13.4158\n",
            "Epoch 39/200\n",
            "2/2 [==============================] - 0s 23ms/step - loss: 10.7563 - mae: 10.7563\n",
            "Epoch 40/200\n",
            "2/2 [==============================] - 0s 16ms/step - loss: 16.5423 - mae: 16.5423\n",
            "Epoch 41/200\n",
            "2/2 [==============================] - 0s 17ms/step - loss: 10.9319 - mae: 10.9319\n",
            "Epoch 42/200\n",
            "2/2 [==============================] - 0s 16ms/step - loss: 9.2669 - mae: 9.2669\n",
            "Epoch 43/200\n",
            "2/2 [==============================] - 0s 16ms/step - loss: 9.5729 - mae: 9.5729\n",
            "Epoch 44/200\n",
            "2/2 [==============================] - 0s 18ms/step - loss: 27.9357 - mae: 27.9357\n",
            "Epoch 45/200\n",
            "2/2 [==============================] - 0s 14ms/step - loss: 11.2531 - mae: 11.2531\n",
            "Epoch 46/200\n",
            "2/2 [==============================] - 0s 16ms/step - loss: 14.0240 - mae: 14.0240\n",
            "Epoch 47/200\n",
            "2/2 [==============================] - 0s 16ms/step - loss: 13.5090 - mae: 13.5090\n",
            "Epoch 48/200\n",
            "2/2 [==============================] - 0s 35ms/step - loss: 17.3500 - mae: 17.3500\n",
            "Epoch 49/200\n",
            "2/2 [==============================] - 0s 17ms/step - loss: 9.4904 - mae: 9.4904\n",
            "Epoch 50/200\n",
            "2/2 [==============================] - 0s 8ms/step - loss: 13.6723 - mae: 13.6723\n",
            "Epoch 51/200\n",
            "2/2 [==============================] - 0s 8ms/step - loss: 11.5382 - mae: 11.5382\n",
            "Epoch 52/200\n",
            "2/2 [==============================] - 0s 16ms/step - loss: 30.1884 - mae: 30.1884\n",
            "Epoch 53/200\n",
            "2/2 [==============================] - 0s 21ms/step - loss: 13.7097 - mae: 13.7097\n",
            "Epoch 54/200\n",
            "2/2 [==============================] - 0s 15ms/step - loss: 26.4132 - mae: 26.4132\n",
            "Epoch 55/200\n",
            "2/2 [==============================] - 0s 15ms/step - loss: 25.9974 - mae: 25.9974\n",
            "Epoch 56/200\n",
            "2/2 [==============================] - 0s 15ms/step - loss: 11.2130 - mae: 11.2130\n",
            "Epoch 57/200\n",
            "2/2 [==============================] - 0s 12ms/step - loss: 13.1902 - mae: 13.1902\n",
            "Epoch 58/200\n",
            "2/2 [==============================] - 0s 15ms/step - loss: 9.8488 - mae: 9.8488\n",
            "Epoch 59/200\n",
            "2/2 [==============================] - 0s 32ms/step - loss: 13.3892 - mae: 13.3892\n",
            "Epoch 60/200\n",
            "2/2 [==============================] - 0s 14ms/step - loss: 10.9147 - mae: 10.9147\n",
            "Epoch 61/200\n",
            "2/2 [==============================] - 0s 13ms/step - loss: 13.5418 - mae: 13.5418\n",
            "Epoch 62/200\n",
            "2/2 [==============================] - 0s 24ms/step - loss: 17.8725 - mae: 17.8725\n",
            "Epoch 63/200\n",
            "2/2 [==============================] - 0s 17ms/step - loss: 8.7212 - mae: 8.7212\n",
            "Epoch 64/200\n",
            "2/2 [==============================] - 0s 36ms/step - loss: 16.1293 - mae: 16.1293\n",
            "Epoch 65/200\n",
            "2/2 [==============================] - 0s 27ms/step - loss: 10.7297 - mae: 10.7297\n",
            "Epoch 66/200\n",
            "2/2 [==============================] - 0s 21ms/step - loss: 22.1905 - mae: 22.1905\n",
            "Epoch 67/200\n",
            "2/2 [==============================] - 0s 12ms/step - loss: 10.2540 - mae: 10.2540\n",
            "Epoch 68/200\n",
            "2/2 [==============================] - 0s 12ms/step - loss: 13.4668 - mae: 13.4668\n",
            "Epoch 69/200\n",
            "2/2 [==============================] - 0s 28ms/step - loss: 11.4224 - mae: 11.4224\n",
            "Epoch 70/200\n",
            "2/2 [==============================] - 0s 25ms/step - loss: 13.6073 - mae: 13.6073\n",
            "Epoch 71/200\n",
            "2/2 [==============================] - 0s 13ms/step - loss: 15.6316 - mae: 15.6316\n",
            "Epoch 72/200\n",
            "2/2 [==============================] - 0s 19ms/step - loss: 11.8438 - mae: 11.8438\n",
            "Epoch 73/200\n",
            "2/2 [==============================] - 0s 18ms/step - loss: 16.6341 - mae: 16.6341\n",
            "Epoch 74/200\n",
            "2/2 [==============================] - 0s 17ms/step - loss: 24.1832 - mae: 24.1832\n",
            "Epoch 75/200\n",
            "2/2 [==============================] - 0s 12ms/step - loss: 9.6257 - mae: 9.6257\n",
            "Epoch 76/200\n",
            "2/2 [==============================] - 0s 13ms/step - loss: 12.4798 - mae: 12.4798\n",
            "Epoch 77/200\n",
            "2/2 [==============================] - 0s 11ms/step - loss: 16.7450 - mae: 16.7450\n",
            "Epoch 78/200\n",
            "2/2 [==============================] - 0s 20ms/step - loss: 9.0735 - mae: 9.0735\n",
            "Epoch 79/200\n",
            "2/2 [==============================] - 0s 14ms/step - loss: 24.0854 - mae: 24.0854\n",
            "Epoch 80/200\n",
            "2/2 [==============================] - 0s 12ms/step - loss: 26.8879 - mae: 26.8879\n",
            "Epoch 81/200\n",
            "2/2 [==============================] - 0s 13ms/step - loss: 11.7348 - mae: 11.7348\n",
            "Epoch 82/200\n",
            "2/2 [==============================] - 0s 16ms/step - loss: 11.9853 - mae: 11.9853\n",
            "Epoch 83/200\n",
            "2/2 [==============================] - 0s 12ms/step - loss: 17.3695 - mae: 17.3695\n",
            "Epoch 84/200\n",
            "2/2 [==============================] - 0s 11ms/step - loss: 7.2533 - mae: 7.2533\n",
            "Epoch 85/200\n",
            "2/2 [==============================] - 0s 21ms/step - loss: 14.9268 - mae: 14.9268\n",
            "Epoch 86/200\n",
            "2/2 [==============================] - 0s 14ms/step - loss: 15.2562 - mae: 15.2562\n",
            "Epoch 87/200\n",
            "2/2 [==============================] - 0s 12ms/step - loss: 19.0496 - mae: 19.0496\n",
            "Epoch 88/200\n",
            "2/2 [==============================] - 0s 21ms/step - loss: 29.9764 - mae: 29.9764\n",
            "Epoch 89/200\n",
            "2/2 [==============================] - 0s 17ms/step - loss: 10.1963 - mae: 10.1963\n",
            "Epoch 90/200\n",
            "2/2 [==============================] - 0s 13ms/step - loss: 21.6465 - mae: 21.6465\n",
            "Epoch 91/200\n",
            "2/2 [==============================] - 0s 13ms/step - loss: 10.6005 - mae: 10.6005\n",
            "Epoch 92/200\n",
            "2/2 [==============================] - 0s 17ms/step - loss: 18.5047 - mae: 18.5047\n",
            "Epoch 93/200\n",
            "2/2 [==============================] - 0s 13ms/step - loss: 8.1527 - mae: 8.1527\n",
            "Epoch 94/200\n",
            "2/2 [==============================] - 0s 23ms/step - loss: 11.3627 - mae: 11.3627\n",
            "Epoch 95/200\n",
            "2/2 [==============================] - 0s 11ms/step - loss: 25.4214 - mae: 25.4214\n",
            "Epoch 96/200\n",
            "2/2 [==============================] - 0s 25ms/step - loss: 10.9819 - mae: 10.9819\n",
            "Epoch 97/200\n",
            "2/2 [==============================] - 0s 25ms/step - loss: 16.2906 - mae: 16.2906\n",
            "Epoch 98/200\n",
            "2/2 [==============================] - 0s 12ms/step - loss: 7.0792 - mae: 7.0792\n",
            "Epoch 99/200\n",
            "2/2 [==============================] - 0s 46ms/step - loss: 9.8943 - mae: 9.8943\n",
            "Epoch 100/200\n",
            "2/2 [==============================] - 0s 37ms/step - loss: 19.4046 - mae: 19.4046\n",
            "Epoch 101/200\n",
            "2/2 [==============================] - 0s 30ms/step - loss: 16.0641 - mae: 16.0641\n",
            "Epoch 102/200\n",
            "2/2 [==============================] - 0s 39ms/step - loss: 11.1693 - mae: 11.1693\n",
            "Epoch 103/200\n",
            "2/2 [==============================] - 0s 24ms/step - loss: 9.3043 - mae: 9.3043\n",
            "Epoch 104/200\n",
            "2/2 [==============================] - 0s 17ms/step - loss: 24.9736 - mae: 24.9736\n",
            "Epoch 105/200\n",
            "2/2 [==============================] - 0s 13ms/step - loss: 11.9752 - mae: 11.9752\n",
            "Epoch 106/200\n",
            "2/2 [==============================] - 0s 25ms/step - loss: 10.0675 - mae: 10.0675\n",
            "Epoch 107/200\n",
            "2/2 [==============================] - 0s 18ms/step - loss: 22.5479 - mae: 22.5479\n",
            "Epoch 108/200\n",
            "2/2 [==============================] - 0s 14ms/step - loss: 8.1149 - mae: 8.1149\n",
            "Epoch 109/200\n",
            "2/2 [==============================] - 0s 11ms/step - loss: 13.3432 - mae: 13.3432\n",
            "Epoch 110/200\n",
            "2/2 [==============================] - 0s 17ms/step - loss: 7.9684 - mae: 7.9684\n",
            "Epoch 111/200\n",
            "2/2 [==============================] - 0s 15ms/step - loss: 15.7332 - mae: 15.7332\n",
            "Epoch 112/200\n",
            "2/2 [==============================] - 0s 15ms/step - loss: 8.7394 - mae: 8.7394\n",
            "Epoch 113/200\n",
            "2/2 [==============================] - 0s 18ms/step - loss: 22.7196 - mae: 22.7196\n",
            "Epoch 114/200\n",
            "2/2 [==============================] - 0s 16ms/step - loss: 19.0604 - mae: 19.0604\n",
            "Epoch 115/200\n",
            "2/2 [==============================] - 0s 14ms/step - loss: 11.0852 - mae: 11.0852\n",
            "Epoch 116/200\n",
            "2/2 [==============================] - 0s 18ms/step - loss: 23.1704 - mae: 23.1704\n",
            "Epoch 117/200\n",
            "2/2 [==============================] - 0s 21ms/step - loss: 9.5728 - mae: 9.5728\n",
            "Epoch 118/200\n",
            "2/2 [==============================] - 0s 14ms/step - loss: 10.6402 - mae: 10.6402\n",
            "Epoch 119/200\n",
            "2/2 [==============================] - 0s 13ms/step - loss: 8.0297 - mae: 8.0297\n",
            "Epoch 120/200\n",
            "2/2 [==============================] - 0s 13ms/step - loss: 29.5092 - mae: 29.5092\n",
            "Epoch 121/200\n",
            "2/2 [==============================] - 0s 12ms/step - loss: 8.0669 - mae: 8.0669\n",
            "Epoch 122/200\n",
            "2/2 [==============================] - 0s 12ms/step - loss: 28.1618 - mae: 28.1618\n",
            "Epoch 123/200\n",
            "2/2 [==============================] - 0s 15ms/step - loss: 32.7195 - mae: 32.7195\n",
            "Epoch 124/200\n",
            "2/2 [==============================] - 0s 12ms/step - loss: 19.4930 - mae: 19.4930\n",
            "Epoch 125/200\n",
            "2/2 [==============================] - 0s 14ms/step - loss: 9.5555 - mae: 9.5555\n",
            "Epoch 126/200\n",
            "2/2 [==============================] - 0s 11ms/step - loss: 9.6231 - mae: 9.6231\n",
            "Epoch 127/200\n",
            "2/2 [==============================] - 0s 36ms/step - loss: 12.8110 - mae: 12.8110\n",
            "Epoch 128/200\n",
            "2/2 [==============================] - 0s 21ms/step - loss: 13.3474 - mae: 13.3474\n",
            "Epoch 129/200\n",
            "2/2 [==============================] - 0s 21ms/step - loss: 10.1916 - mae: 10.1916\n",
            "Epoch 130/200\n",
            "2/2 [==============================] - 0s 22ms/step - loss: 17.5102 - mae: 17.5102\n",
            "Epoch 131/200\n",
            "2/2 [==============================] - 0s 14ms/step - loss: 9.5027 - mae: 9.5027\n",
            "Epoch 132/200\n",
            "2/2 [==============================] - 0s 12ms/step - loss: 17.4153 - mae: 17.4153\n",
            "Epoch 133/200\n",
            "2/2 [==============================] - 0s 12ms/step - loss: 7.0913 - mae: 7.0913\n",
            "Epoch 134/200\n",
            "2/2 [==============================] - 0s 14ms/step - loss: 23.8256 - mae: 23.8256\n",
            "Epoch 135/200\n",
            "2/2 [==============================] - 0s 13ms/step - loss: 16.6670 - mae: 16.6670\n",
            "Epoch 136/200\n",
            "2/2 [==============================] - 0s 17ms/step - loss: 14.8799 - mae: 14.8799\n",
            "Epoch 137/200\n",
            "2/2 [==============================] - 0s 13ms/step - loss: 23.1767 - mae: 23.1767\n",
            "Epoch 138/200\n",
            "2/2 [==============================] - 0s 9ms/step - loss: 9.1350 - mae: 9.1350\n",
            "Epoch 139/200\n",
            "2/2 [==============================] - 0s 25ms/step - loss: 8.9157 - mae: 8.9157\n",
            "Epoch 140/200\n",
            "2/2 [==============================] - 0s 14ms/step - loss: 16.4810 - mae: 16.4810\n",
            "Epoch 141/200\n",
            "2/2 [==============================] - 0s 16ms/step - loss: 8.4158 - mae: 8.4158\n",
            "Epoch 142/200\n",
            "2/2 [==============================] - 0s 21ms/step - loss: 36.9774 - mae: 36.9774\n",
            "Epoch 143/200\n",
            "2/2 [==============================] - 0s 17ms/step - loss: 25.5974 - mae: 25.5974\n",
            "Epoch 144/200\n",
            "2/2 [==============================] - 0s 19ms/step - loss: 9.5337 - mae: 9.5337\n",
            "Epoch 145/200\n",
            "2/2 [==============================] - 0s 12ms/step - loss: 26.6005 - mae: 26.6005\n",
            "Epoch 146/200\n",
            "2/2 [==============================] - 0s 22ms/step - loss: 8.7259 - mae: 8.7259\n",
            "Epoch 147/200\n",
            "2/2 [==============================] - 0s 12ms/step - loss: 15.6097 - mae: 15.6097\n",
            "Epoch 148/200\n",
            "2/2 [==============================] - 0s 23ms/step - loss: 18.2988 - mae: 18.2988\n",
            "Epoch 149/200\n",
            "2/2 [==============================] - 0s 18ms/step - loss: 8.1994 - mae: 8.1994\n",
            "Epoch 150/200\n",
            "2/2 [==============================] - 0s 9ms/step - loss: 7.4928 - mae: 7.4928\n",
            "Epoch 151/200\n",
            "2/2 [==============================] - 0s 10ms/step - loss: 18.3503 - mae: 18.3503\n",
            "Epoch 152/200\n",
            "2/2 [==============================] - 0s 9ms/step - loss: 10.2879 - mae: 10.2879\n",
            "Epoch 153/200\n",
            "2/2 [==============================] - 0s 15ms/step - loss: 29.6644 - mae: 29.6644\n",
            "Epoch 154/200\n",
            "2/2 [==============================] - 0s 15ms/step - loss: 10.5482 - mae: 10.5482\n",
            "Epoch 155/200\n",
            "2/2 [==============================] - 0s 17ms/step - loss: 15.4475 - mae: 15.4475\n",
            "Epoch 156/200\n",
            "2/2 [==============================] - 0s 40ms/step - loss: 17.0068 - mae: 17.0068\n",
            "Epoch 157/200\n",
            "2/2 [==============================] - 0s 18ms/step - loss: 32.8476 - mae: 32.8476\n",
            "Epoch 158/200\n",
            "2/2 [==============================] - 0s 13ms/step - loss: 10.7051 - mae: 10.7051\n",
            "Epoch 159/200\n",
            "2/2 [==============================] - 0s 14ms/step - loss: 8.9034 - mae: 8.9034\n",
            "Epoch 160/200\n",
            "2/2 [==============================] - 0s 14ms/step - loss: 22.1499 - mae: 22.1499\n",
            "Epoch 161/200\n",
            "2/2 [==============================] - 0s 12ms/step - loss: 11.7143 - mae: 11.7143\n",
            "Epoch 162/200\n",
            "2/2 [==============================] - 0s 18ms/step - loss: 21.5903 - mae: 21.5903\n",
            "Epoch 163/200\n",
            "2/2 [==============================] - 0s 23ms/step - loss: 19.2633 - mae: 19.2633\n",
            "Epoch 164/200\n",
            "2/2 [==============================] - 0s 13ms/step - loss: 11.0206 - mae: 11.0206\n",
            "Epoch 165/200\n",
            "2/2 [==============================] - 0s 20ms/step - loss: 9.6133 - mae: 9.6133\n",
            "Epoch 166/200\n",
            "2/2 [==============================] - 0s 23ms/step - loss: 21.5816 - mae: 21.5816\n",
            "Epoch 167/200\n",
            "2/2 [==============================] - 0s 20ms/step - loss: 26.3076 - mae: 26.3076\n",
            "Epoch 168/200\n",
            "2/2 [==============================] - 0s 16ms/step - loss: 9.8510 - mae: 9.8510\n",
            "Epoch 169/200\n",
            "2/2 [==============================] - 0s 9ms/step - loss: 22.5867 - mae: 22.5867\n",
            "Epoch 170/200\n",
            "2/2 [==============================] - 0s 10ms/step - loss: 10.1430 - mae: 10.1430\n",
            "Epoch 171/200\n",
            "2/2 [==============================] - 0s 14ms/step - loss: 18.0356 - mae: 18.0356\n",
            "Epoch 172/200\n",
            "2/2 [==============================] - 0s 23ms/step - loss: 28.8634 - mae: 28.8634\n",
            "Epoch 173/200\n",
            "2/2 [==============================] - 0s 24ms/step - loss: 16.5464 - mae: 16.5464\n",
            "Epoch 174/200\n",
            "2/2 [==============================] - 0s 30ms/step - loss: 11.2064 - mae: 11.2064\n",
            "Epoch 175/200\n",
            "2/2 [==============================] - 0s 15ms/step - loss: 27.5777 - mae: 27.5777\n",
            "Epoch 176/200\n",
            "2/2 [==============================] - 0s 12ms/step - loss: 8.2697 - mae: 8.2697\n",
            "Epoch 177/200\n",
            "2/2 [==============================] - 0s 16ms/step - loss: 9.2575 - mae: 9.2575\n",
            "Epoch 178/200\n",
            "2/2 [==============================] - 0s 28ms/step - loss: 18.1635 - mae: 18.1635\n",
            "Epoch 179/200\n",
            "2/2 [==============================] - 0s 43ms/step - loss: 10.5897 - mae: 10.5897\n",
            "Epoch 180/200\n",
            "2/2 [==============================] - 0s 21ms/step - loss: 7.8973 - mae: 7.8973\n",
            "Epoch 181/200\n",
            "2/2 [==============================] - 0s 26ms/step - loss: 17.4186 - mae: 17.4186\n",
            "Epoch 182/200\n",
            "2/2 [==============================] - 0s 22ms/step - loss: 11.0112 - mae: 11.0112\n",
            "Epoch 183/200\n",
            "2/2 [==============================] - 0s 22ms/step - loss: 11.7091 - mae: 11.7091\n",
            "Epoch 184/200\n",
            "2/2 [==============================] - 0s 16ms/step - loss: 30.4354 - mae: 30.4354\n",
            "Epoch 185/200\n",
            "2/2 [==============================] - 0s 43ms/step - loss: 7.5481 - mae: 7.5481\n",
            "Epoch 186/200\n",
            "2/2 [==============================] - 0s 31ms/step - loss: 15.9800 - mae: 15.9800\n",
            "Epoch 187/200\n",
            "2/2 [==============================] - 0s 34ms/step - loss: 8.5552 - mae: 8.5552\n",
            "Epoch 188/200\n",
            "2/2 [==============================] - 0s 26ms/step - loss: 28.7626 - mae: 28.7626\n",
            "Epoch 189/200\n",
            "2/2 [==============================] - 0s 31ms/step - loss: 13.1614 - mae: 13.1614\n",
            "Epoch 190/200\n",
            "2/2 [==============================] - 0s 38ms/step - loss: 18.3018 - mae: 18.3018\n",
            "Epoch 191/200\n",
            "2/2 [==============================] - 0s 20ms/step - loss: 13.7283 - mae: 13.7283\n",
            "Epoch 192/200\n",
            "2/2 [==============================] - 0s 18ms/step - loss: 13.7046 - mae: 13.7046\n",
            "Epoch 193/200\n",
            "2/2 [==============================] - 0s 11ms/step - loss: 28.5779 - mae: 28.5779\n",
            "Epoch 194/200\n",
            "2/2 [==============================] - 0s 14ms/step - loss: 7.0730 - mae: 7.0730\n",
            "Epoch 195/200\n",
            "2/2 [==============================] - 0s 11ms/step - loss: 7.0495 - mae: 7.0495\n",
            "Epoch 196/200\n",
            "2/2 [==============================] - 0s 40ms/step - loss: 21.9959 - mae: 21.9959\n",
            "Epoch 197/200\n",
            "2/2 [==============================] - 0s 16ms/step - loss: 20.8656 - mae: 20.8656\n",
            "Epoch 198/200\n",
            "2/2 [==============================] - 0s 26ms/step - loss: 12.4818 - mae: 12.4818\n",
            "Epoch 199/200\n",
            "2/2 [==============================] - 0s 33ms/step - loss: 17.9276 - mae: 17.9276\n",
            "Epoch 200/200\n",
            "2/2 [==============================] - 0s 29ms/step - loss: 13.7649 - mae: 13.7649\n"
          ]
        },
        {
          "output_type": "execute_result",
          "data": {
            "text/plain": [
              "<keras.src.callbacks.History at 0x78f6b07c4d30>"
            ]
          },
          "metadata": {},
          "execution_count": 23
        }
      ]
    },
    {
      "cell_type": "code",
      "source": [
        "# Make some predictions\n",
        "y_preds=model.predict(X_test)\n",
        "y_preds"
      ],
      "metadata": {
        "colab": {
          "base_uri": "https://localhost:8080/"
        },
        "id": "qaH69nBDM1mT",
        "outputId": "4dd8fe64-09cd-4d00-b619-608cadeae508"
      },
      "execution_count": null,
      "outputs": [
        {
          "output_type": "stream",
          "name": "stderr",
          "text": [
            "WARNING:tensorflow:5 out of the last 5 calls to <function Model.make_predict_function.<locals>.predict_function at 0x78f6b07beb00> triggered tf.function retracing. Tracing is expensive and the excessive number of tracings could be due to (1) creating @tf.function repeatedly in a loop, (2) passing tensors with different shapes, (3) passing Python objects instead of tensors. For (1), please define your @tf.function outside of the loop. For (2), @tf.function has reduce_retracing=True option that can avoid unnecessary retracing. For (3), please refer to https://www.tensorflow.org/guide/function#controlling_retracing and https://www.tensorflow.org/api_docs/python/tf/function for  more details.\n"
          ]
        },
        {
          "output_type": "stream",
          "name": "stdout",
          "text": [
            "1/1 [==============================] - 0s 278ms/step\n"
          ]
        },
        {
          "output_type": "execute_result",
          "data": {
            "text/plain": [
              "array([[58.40115 ],\n",
              "       [62.09393 ],\n",
              "       [65.78672 ],\n",
              "       [69.4795  ],\n",
              "       [73.17229 ],\n",
              "       [76.865074],\n",
              "       [80.55785 ],\n",
              "       [84.25064 ],\n",
              "       [87.943436],\n",
              "       [91.63621 ]], dtype=float32)"
            ]
          },
          "metadata": {},
          "execution_count": 24
        }
      ]
    },
    {
      "cell_type": "code",
      "source": [
        "y_test"
      ],
      "metadata": {
        "colab": {
          "base_uri": "https://localhost:8080/"
        },
        "id": "bHqFN_otM8EN",
        "outputId": "4823fd05-e702-410d-a6aa-b5fe51195f87"
      },
      "execution_count": null,
      "outputs": [
        {
          "output_type": "execute_result",
          "data": {
            "text/plain": [
              "<tf.Tensor: shape=(10,), dtype=int32, numpy=array([ 70,  74,  78,  82,  86,  90,  94,  98, 102, 106], dtype=int32)>"
            ]
          },
          "metadata": {},
          "execution_count": 25
        }
      ]
    },
    {
      "cell_type": "code",
      "source": [
        "# Let's create a plotting function\n",
        "def plot_predicitions(train_data=X_train,\n",
        "                      train_labels=y_train,\n",
        "                      test_data=X_test,\n",
        "                      test_labels=y_test,\n",
        "                      predictions=y_preds):\n",
        "  \"\"\"\n",
        "  Plots training data, test data and compares predictions to ground truth labels\n",
        "  \"\"\"\n",
        "  plt.figure(figsize=(10,7))\n",
        "  # Plot training data in blue\n",
        "  plt.scatter(train_data,train_labels,c=\"b\",label=\"Training data\")\n",
        "  # Plot testing data in green\n",
        "  plt.scatter(test_data,test_labels,c=\"g\",label=\"Testing data\")\n",
        "  # Plot model's predicitions in red\n",
        "  plt.scatter(test_data,predictions,c=\"r\",label=\"Predictions\")\n",
        "  # Show the legend\n",
        "  plt.legend()\n"
      ],
      "metadata": {
        "id": "sfSILoOkNC9Q"
      },
      "execution_count": null,
      "outputs": []
    },
    {
      "cell_type": "code",
      "source": [
        "plot_predicitions()"
      ],
      "metadata": {
        "colab": {
          "base_uri": "https://localhost:8080/",
          "height": 468
        },
        "id": "-gcCR3gVQgQO",
        "outputId": "7e8cd4c4-cb52-4769-8fc7-1de3a12a90b9"
      },
      "execution_count": null,
      "outputs": [
        {
          "output_type": "display_data",
          "data": {
            "text/plain": [
              "<Figure size 1000x700 with 1 Axes>"
            ],
            "image/png": "[encoded data removed]"
          },
          "metadata": {}
        }
      ]
    },
    {
      "cell_type": "markdown",
      "source": [
        "### Evaluating our model's prediction with regression evaluations metrics\n",
        "\n",
        "Depending on the problem you're working on, there will be different evaluation metrics to evaluate your model's performance.\n",
        "\n",
        "Since we're working on a regression, two of the main metrics:\n",
        "* MAE - mean absolute error, \"on average, how wrong is each of my model's predictions\"\n",
        "* MSE - mean square error, \"square the average erros\""
      ],
      "metadata": {
        "id": "_cVGpv65Qlbk"
      }
    },
    {
      "cell_type": "code",
      "source": [
        "# Evaluate the model on the test\n",
        "model.evaluate(X_test,y_test)"
      ],
      "metadata": {
        "colab": {
          "base_uri": "https://localhost:8080/"
        },
        "id": "cpuYtSy9SHTu",
        "outputId": "1f4ead58-cb1d-408c-8982-5e1430e9a131"
      },
      "execution_count": null,
      "outputs": [
        {
          "output_type": "stream",
          "name": "stdout",
          "text": [
            "1/1 [==============================] - 0s 269ms/step - loss: 12.9813 - mae: 12.9813\n"
          ]
        },
        {
          "output_type": "execute_result",
          "data": {
            "text/plain": [
              "[12.981321334838867, 12.981321334838867]"
            ]
          },
          "metadata": {},
          "execution_count": 28
        }
      ]
    },
    {
      "cell_type": "code",
      "source": [
        "# Calculate the mean absolute error\n",
        "tf.metrics.mean_absolute_error(y_test,y_preds)"
      ],
      "metadata": {
        "colab": {
          "base_uri": "https://localhost:8080/"
        },
        "id": "-2LQzBjtTWbn",
        "outputId": "af01ac8f-7f19-468d-fb6e-69b49ab8d5dc"
      },
      "execution_count": null,
      "outputs": [
        {
          "output_type": "execute_result",
          "data": {
            "text/plain": [
              "<tf.Tensor: shape=(10,), dtype=float32, numpy=\n",
              "array([29.59885  , 25.90607  , 22.21328  , 18.5205   , 15.462171 ,\n",
              "       13.0809555, 11.376859 , 10.349872 , 10.       , 10.327242 ],\n",
              "      dtype=float32)>"
            ]
          },
          "metadata": {},
          "execution_count": 29
        }
      ]
    },
    {
      "cell_type": "code",
      "source": [
        "tf.constant(y_preds)"
      ],
      "metadata": {
        "colab": {
          "base_uri": "https://localhost:8080/"
        },
        "id": "sdm2OR5BbbFZ",
        "outputId": "c2003d2a-35db-4d06-e7df-d06090894198"
      },
      "execution_count": null,
      "outputs": [
        {
          "output_type": "execute_result",
          "data": {
            "text/plain": [
              "<tf.Tensor: shape=(10, 1), dtype=float32, numpy=\n",
              "array([[58.40115 ],\n",
              "       [62.09393 ],\n",
              "       [65.78672 ],\n",
              "       [69.4795  ],\n",
              "       [73.17229 ],\n",
              "       [76.865074],\n",
              "       [80.55785 ],\n",
              "       [84.25064 ],\n",
              "       [87.943436],\n",
              "       [91.63621 ]], dtype=float32)>"
            ]
          },
          "metadata": {},
          "execution_count": 30
        }
      ]
    },
    {
      "cell_type": "code",
      "source": [
        "y_test"
      ],
      "metadata": {
        "colab": {
          "base_uri": "https://localhost:8080/"
        },
        "id": "QwdBxPZvbwUe",
        "outputId": "55521e07-07f8-4d51-892a-63813d6324ca"
      },
      "execution_count": null,
      "outputs": [
        {
          "output_type": "execute_result",
          "data": {
            "text/plain": [
              "<tf.Tensor: shape=(10,), dtype=int32, numpy=array([ 70,  74,  78,  82,  86,  90,  94,  98, 102, 106], dtype=int32)>"
            ]
          },
          "metadata": {},
          "execution_count": 31
        }
      ]
    },
    {
      "cell_type": "code",
      "source": [
        "tf.squeeze(y_preds)"
      ],
      "metadata": {
        "colab": {
          "base_uri": "https://localhost:8080/"
        },
        "id": "mLiciQ-cbyl8",
        "outputId": "4af05541-fcb5-47af-c221-3cd24d349a91"
      },
      "execution_count": null,
      "outputs": [
        {
          "output_type": "execute_result",
          "data": {
            "text/plain": [
              "<tf.Tensor: shape=(10,), dtype=float32, numpy=\n",
              "array([58.40115 , 62.09393 , 65.78672 , 69.4795  , 73.17229 , 76.865074,\n",
              "       80.55785 , 84.25064 , 87.943436, 91.63621 ], dtype=float32)>"
            ]
          },
          "metadata": {},
          "execution_count": 32
        }
      ]
    },
    {
      "cell_type": "code",
      "source": [
        "# Calculate the mean absolute error\n",
        "mae=tf.metrics.mean_absolute_error(y_test,tf.squeeze(y_preds))"
      ],
      "metadata": {
        "id": "mxIwzpGhb37W"
      },
      "execution_count": null,
      "outputs": []
    },
    {
      "cell_type": "markdown",
      "source": [
        "In the previous metrics calculation, y_preds and y_test were not in the same size"
      ],
      "metadata": {
        "id": "-VwDUKb6cJRJ"
      }
    },
    {
      "cell_type": "code",
      "source": [
        "# Calculate the mean squared the error\n",
        "mse=tf.metrics.mean_squared_error(y_test,tf.squeeze(y_preds))\n",
        "mse"
      ],
      "metadata": {
        "colab": {
          "base_uri": "https://localhost:8080/"
        },
        "id": "g89kSIjOb9Ig",
        "outputId": "bfaea1ce-7de8-4d0b-fe84-8577b34689c0"
      },
      "execution_count": null,
      "outputs": [
        {
          "output_type": "execute_result",
          "data": {
            "text/plain": [
              "<tf.Tensor: shape=(), dtype=float32, numpy=169.29332>"
            ]
          },
          "metadata": {},
          "execution_count": 34
        }
      ]
    },
    {
      "cell_type": "code",
      "source": [
        "# Make some functions to reuse MAE & MSE\n",
        "def mae(y_true,y_preds):\n",
        "  return tf.metrics.mean_absolute_error(y_true,tf.squeeze(y_preds))\n",
        "\n",
        "def mse(y_true,y_preds):\n",
        "  return tf.metrics.mean_squared_error(y_true,tf.squeeze(y_preds))"
      ],
      "metadata": {
        "id": "5fr32tN3ctar"
      },
      "execution_count": null,
      "outputs": []
    },
    {
      "cell_type": "markdown",
      "source": [
        "### Running experiments to improve our model\n",
        "\n",
        "```\n",
        "Build a model -> fit it -> evaluate it -> tweak it -> fit it-> evaluate it -> tweak it -> fit it -> evaluate it\n",
        "```\n",
        "\n",
        "1. Get more data - get more examples for ypur model to train on (more opportunities to learn patterns or relationships between features and labels).\n",
        "2. Make your model larger (using a more complex model) - this might come in the form of more layers or more hidden units in each layer.\n",
        "3. Train for longer - give your model more of a chance to find patterns in the data\n",
        "\n",
        "Let's do 3 modelling experiments:\n",
        "1. `model_1` - same as the original model, 1 layer, trained for 100 epochs\n",
        "2. `model_2` - 2 layers, trained for 100 epochs\n",
        "3. `model_3` - 2 layers, trained for 500 epochs\n",
        "\n",
        "**Build `model_1`**"
      ],
      "metadata": {
        "id": "XvomrWDedSYA"
      }
    },
    {
      "cell_type": "code",
      "source": [
        "# Set random seed\n",
        "tf.random.set_seed(42)\n",
        "\n",
        "# 1. Create the model\n",
        "model_1=tf.keras.Sequential([\n",
        "    tf.keras.layers.Dense(1)\n",
        "])\n",
        "\n",
        "# 2. Compile the model\n",
        "model_1.compile(loss=tf.keras.losses.mae,\n",
        "                optimizer=tf.keras.optimizers.SGD(),\n",
        "                metrics=[\"mae\"])\n",
        "\n",
        "# 3. Fit the model\n",
        "model_1.fit(tf.expand_dims(X_train,axis=-1),y_train,epochs=100)"
      ],
      "metadata": {
        "colab": {
          "base_uri": "https://localhost:8080/"
        },
        "id": "UlazS6mmeCRa",
        "outputId": "589f2cb6-8510-4fff-d2da-49d042d6e9c7"
      },
      "execution_count": null,
      "outputs": [
        {
          "output_type": "stream",
          "name": "stdout",
          "text": [
            "Epoch 1/100\n",
            "2/2 [==============================] - 1s 27ms/step - loss: 13.2731 - mae: 13.2731\n",
            "Epoch 2/100\n",
            "2/2 [==============================] - 0s 10ms/step - loss: 9.8832 - mae: 9.8832\n",
            "Epoch 3/100\n",
            "2/2 [==============================] - 0s 21ms/step - loss: 11.3277 - mae: 11.3277\n",
            "Epoch 4/100\n",
            "2/2 [==============================] - 0s 13ms/step - loss: 9.5354 - mae: 9.5354\n",
            "Epoch 5/100\n",
            "2/2 [==============================] - 0s 12ms/step - loss: 10.4404 - mae: 10.4404\n",
            "Epoch 6/100\n",
            "2/2 [==============================] - 0s 13ms/step - loss: 9.6700 - mae: 9.6700\n",
            "Epoch 7/100\n",
            "2/2 [==============================] - 0s 18ms/step - loss: 8.7704 - mae: 8.7704\n",
            "Epoch 8/100\n",
            "2/2 [==============================] - 0s 12ms/step - loss: 9.0593 - mae: 9.0593\n",
            "Epoch 9/100\n",
            "2/2 [==============================] - 0s 10ms/step - loss: 19.2560 - mae: 19.2560\n",
            "Epoch 10/100\n",
            "2/2 [==============================] - 0s 9ms/step - loss: 10.3935 - mae: 10.3935\n",
            "Epoch 11/100\n",
            "2/2 [==============================] - 0s 10ms/step - loss: 8.5056 - mae: 8.5056\n",
            "Epoch 12/100\n",
            "2/2 [==============================] - 0s 32ms/step - loss: 10.8870 - mae: 10.8870\n",
            "Epoch 13/100\n",
            "2/2 [==============================] - 0s 35ms/step - loss: 9.9273 - mae: 9.9273\n",
            "Epoch 14/100\n",
            "2/2 [==============================] - 0s 9ms/step - loss: 9.4821 - mae: 9.4821\n",
            "Epoch 15/100\n",
            "2/2 [==============================] - 0s 9ms/step - loss: 13.7113 - mae: 13.7113\n",
            "Epoch 16/100\n",
            "2/2 [==============================] - 0s 12ms/step - loss: 8.9477 - mae: 8.9477\n",
            "Epoch 17/100\n",
            "2/2 [==============================] - 0s 13ms/step - loss: 12.8632 - mae: 12.8632\n",
            "Epoch 18/100\n",
            "2/2 [==============================] - 0s 13ms/step - loss: 10.4997 - mae: 10.4997\n",
            "Epoch 19/100\n",
            "2/2 [==============================] - 0s 15ms/step - loss: 19.1995 - mae: 19.1995\n",
            "Epoch 20/100\n",
            "2/2 [==============================] - 0s 13ms/step - loss: 15.8658 - mae: 15.8658\n",
            "Epoch 21/100\n",
            "2/2 [==============================] - 0s 13ms/step - loss: 11.7007 - mae: 11.7007\n",
            "Epoch 22/100\n",
            "2/2 [==============================] - 0s 13ms/step - loss: 8.8991 - mae: 8.8991\n",
            "Epoch 23/100\n",
            "2/2 [==============================] - 0s 14ms/step - loss: 10.0816 - mae: 10.0816\n",
            "Epoch 24/100\n",
            "2/2 [==============================] - 0s 13ms/step - loss: 15.5922 - mae: 15.5922\n",
            "Epoch 25/100\n",
            "2/2 [==============================] - 0s 14ms/step - loss: 12.0707 - mae: 12.0707\n",
            "Epoch 26/100\n",
            "2/2 [==============================] - 0s 12ms/step - loss: 13.1750 - mae: 13.1750\n",
            "Epoch 27/100\n",
            "2/2 [==============================] - 0s 14ms/step - loss: 10.6509 - mae: 10.6509\n",
            "Epoch 28/100\n",
            "2/2 [==============================] - 0s 23ms/step - loss: 12.8654 - mae: 12.8654\n",
            "Epoch 29/100\n",
            "2/2 [==============================] - 0s 16ms/step - loss: 9.5026 - mae: 9.5026\n",
            "Epoch 30/100\n",
            "2/2 [==============================] - 0s 20ms/step - loss: 16.3812 - mae: 16.3812\n",
            "Epoch 31/100\n",
            "2/2 [==============================] - 0s 14ms/step - loss: 23.6034 - mae: 23.6034\n",
            "Epoch 32/100\n",
            "2/2 [==============================] - 0s 13ms/step - loss: 7.6096 - mae: 7.6096\n",
            "Epoch 33/100\n",
            "2/2 [==============================] - 0s 31ms/step - loss: 9.3082 - mae: 9.3082\n",
            "Epoch 34/100\n",
            "2/2 [==============================] - 0s 9ms/step - loss: 13.6975 - mae: 13.6975\n",
            "Epoch 35/100\n",
            "2/2 [==============================] - 0s 11ms/step - loss: 11.1395 - mae: 11.1395\n",
            "Epoch 36/100\n",
            "2/2 [==============================] - 0s 17ms/step - loss: 13.3521 - mae: 13.3521\n",
            "Epoch 37/100\n",
            "2/2 [==============================] - 0s 21ms/step - loss: 9.4577 - mae: 9.4577\n",
            "Epoch 38/100\n",
            "2/2 [==============================] - 0s 15ms/step - loss: 10.1135 - mae: 10.1135\n",
            "Epoch 39/100\n",
            "2/2 [==============================] - 0s 27ms/step - loss: 10.1914 - mae: 10.1914\n",
            "Epoch 40/100\n",
            "2/2 [==============================] - 0s 12ms/step - loss: 10.9326 - mae: 10.9326\n",
            "Epoch 41/100\n",
            "2/2 [==============================] - 0s 11ms/step - loss: 7.9195 - mae: 7.9195\n",
            "Epoch 42/100\n",
            "2/2 [==============================] - 0s 11ms/step - loss: 10.0699 - mae: 10.0699\n",
            "Epoch 43/100\n",
            "2/2 [==============================] - 0s 11ms/step - loss: 8.6885 - mae: 8.6885\n",
            "Epoch 44/100\n",
            "2/2 [==============================] - 0s 12ms/step - loss: 12.1707 - mae: 12.1707\n",
            "Epoch 45/100\n",
            "2/2 [==============================] - 0s 12ms/step - loss: 13.8215 - mae: 13.8215\n",
            "Epoch 46/100\n",
            "2/2 [==============================] - 0s 14ms/step - loss: 8.4829 - mae: 8.4829\n",
            "Epoch 47/100\n",
            "2/2 [==============================] - 0s 11ms/step - loss: 9.1141 - mae: 9.1141\n",
            "Epoch 48/100\n",
            "2/2 [==============================] - 0s 9ms/step - loss: 10.5932 - mae: 10.5932\n",
            "Epoch 49/100\n",
            "2/2 [==============================] - 0s 9ms/step - loss: 7.7333 - mae: 7.7333\n",
            "Epoch 50/100\n",
            "2/2 [==============================] - 0s 9ms/step - loss: 9.5169 - mae: 9.5169\n",
            "Epoch 51/100\n",
            "2/2 [==============================] - 0s 9ms/step - loss: 9.1488 - mae: 9.1488\n",
            "Epoch 52/100\n",
            "2/2 [==============================] - 0s 11ms/step - loss: 16.3214 - mae: 16.3214\n",
            "Epoch 53/100\n",
            "2/2 [==============================] - 0s 11ms/step - loss: 14.1431 - mae: 14.1431\n",
            "Epoch 54/100\n",
            "2/2 [==============================] - 0s 12ms/step - loss: 21.1661 - mae: 21.1661\n",
            "Epoch 55/100\n",
            "2/2 [==============================] - 0s 12ms/step - loss: 16.3572 - mae: 16.3572\n",
            "Epoch 56/100\n",
            "2/2 [==============================] - 0s 13ms/step - loss: 10.0046 - mae: 10.0046\n",
            "Epoch 57/100\n",
            "2/2 [==============================] - 0s 12ms/step - loss: 9.9384 - mae: 9.9384\n",
            "Epoch 58/100\n",
            "2/2 [==============================] - 0s 13ms/step - loss: 9.2007 - mae: 9.2007\n",
            "Epoch 59/100\n",
            "2/2 [==============================] - 0s 12ms/step - loss: 8.4046 - mae: 8.4046\n",
            "Epoch 60/100\n",
            "2/2 [==============================] - 0s 13ms/step - loss: 9.4701 - mae: 9.4701\n",
            "Epoch 61/100\n",
            "2/2 [==============================] - 0s 31ms/step - loss: 11.4060 - mae: 11.4060\n",
            "Epoch 62/100\n",
            "2/2 [==============================] - 0s 15ms/step - loss: 11.7119 - mae: 11.7119\n",
            "Epoch 63/100\n",
            "2/2 [==============================] - 0s 19ms/step - loss: 7.0695 - mae: 7.0695\n",
            "Epoch 64/100\n",
            "2/2 [==============================] - 0s 23ms/step - loss: 16.9933 - mae: 16.9933\n",
            "Epoch 65/100\n",
            "2/2 [==============================] - 0s 16ms/step - loss: 12.4771 - mae: 12.4771\n",
            "Epoch 66/100\n",
            "2/2 [==============================] - 0s 18ms/step - loss: 13.0426 - mae: 13.0426\n",
            "Epoch 67/100\n",
            "2/2 [==============================] - 0s 27ms/step - loss: 8.0652 - mae: 8.0652\n",
            "Epoch 68/100\n",
            "2/2 [==============================] - 0s 14ms/step - loss: 10.2015 - mae: 10.2015\n",
            "Epoch 69/100\n",
            "2/2 [==============================] - 0s 13ms/step - loss: 12.3893 - mae: 12.3893\n",
            "Epoch 70/100\n",
            "2/2 [==============================] - 0s 16ms/step - loss: 9.0318 - mae: 9.0318\n",
            "Epoch 71/100\n",
            "2/2 [==============================] - 0s 27ms/step - loss: 10.0165 - mae: 10.0165\n",
            "Epoch 72/100\n",
            "2/2 [==============================] - 0s 13ms/step - loss: 10.0342 - mae: 10.0342\n",
            "Epoch 73/100\n",
            "2/2 [==============================] - 0s 12ms/step - loss: 12.5835 - mae: 12.5835\n",
            "Epoch 74/100\n",
            "2/2 [==============================] - 0s 13ms/step - loss: 10.4069 - mae: 10.4069\n",
            "Epoch 75/100\n",
            "2/2 [==============================] - 0s 15ms/step - loss: 9.7037 - mae: 9.7037\n",
            "Epoch 76/100\n",
            "2/2 [==============================] - 0s 26ms/step - loss: 11.2002 - mae: 11.2002\n",
            "Epoch 77/100\n",
            "2/2 [==============================] - 0s 17ms/step - loss: 8.3464 - mae: 8.3464\n",
            "Epoch 78/100\n",
            "2/2 [==============================] - 0s 12ms/step - loss: 9.0980 - mae: 9.0980\n",
            "Epoch 79/100\n",
            "2/2 [==============================] - 0s 14ms/step - loss: 19.5429 - mae: 19.5429\n",
            "Epoch 80/100\n",
            "2/2 [==============================] - 0s 24ms/step - loss: 14.8577 - mae: 14.8577\n",
            "Epoch 81/100\n",
            "2/2 [==============================] - 0s 10ms/step - loss: 9.0325 - mae: 9.0325\n",
            "Epoch 82/100\n",
            "2/2 [==============================] - 0s 10ms/step - loss: 12.9890 - mae: 12.9890\n",
            "Epoch 83/100\n",
            "2/2 [==============================] - 0s 11ms/step - loss: 7.9063 - mae: 7.9063\n",
            "Epoch 84/100\n",
            "2/2 [==============================] - 0s 13ms/step - loss: 7.6909 - mae: 7.6909\n",
            "Epoch 85/100\n",
            "2/2 [==============================] - 0s 11ms/step - loss: 10.0486 - mae: 10.0486\n",
            "Epoch 86/100\n",
            "2/2 [==============================] - 0s 18ms/step - loss: 9.2519 - mae: 9.2519\n",
            "Epoch 87/100\n",
            "2/2 [==============================] - 0s 16ms/step - loss: 12.0410 - mae: 12.0410\n",
            "Epoch 88/100\n",
            "2/2 [==============================] - 0s 17ms/step - loss: 10.6597 - mae: 10.6597\n",
            "Epoch 89/100\n",
            "2/2 [==============================] - 0s 16ms/step - loss: 7.2635 - mae: 7.2635\n",
            "Epoch 90/100\n",
            "2/2 [==============================] - 0s 20ms/step - loss: 12.8026 - mae: 12.8026\n",
            "Epoch 91/100\n",
            "2/2 [==============================] - 0s 19ms/step - loss: 7.4765 - mae: 7.4765\n",
            "Epoch 92/100\n",
            "2/2 [==============================] - 0s 23ms/step - loss: 6.7466 - mae: 6.7466\n",
            "Epoch 93/100\n",
            "2/2 [==============================] - 0s 15ms/step - loss: 11.9520 - mae: 11.9520\n",
            "Epoch 94/100\n",
            "2/2 [==============================] - 0s 13ms/step - loss: 8.8815 - mae: 8.8815\n",
            "Epoch 95/100\n",
            "2/2 [==============================] - 0s 13ms/step - loss: 7.7185 - mae: 7.7185\n",
            "Epoch 96/100\n",
            "2/2 [==============================] - 0s 13ms/step - loss: 6.7462 - mae: 6.7462\n",
            "Epoch 97/100\n",
            "2/2 [==============================] - 0s 13ms/step - loss: 8.6340 - mae: 8.6340\n",
            "Epoch 98/100\n",
            "2/2 [==============================] - 0s 15ms/step - loss: 9.3844 - mae: 9.3844\n",
            "Epoch 99/100\n",
            "2/2 [==============================] - 0s 24ms/step - loss: 9.1209 - mae: 9.1209\n",
            "Epoch 100/100\n",
            "2/2 [==============================] - 0s 16ms/step - loss: 10.4759 - mae: 10.4759\n"
          ]
        },
        {
          "output_type": "execute_result",
          "data": {
            "text/plain": [
              "<keras.src.callbacks.History at 0x78f6b05a1bd0>"
            ]
          },
          "metadata": {},
          "execution_count": 36
        }
      ]
    },
    {
      "cell_type": "code",
      "source": [],
      "metadata": {
        "id": "r4qLLnDpfJpj"
      },
      "execution_count": null,
      "outputs": []
    },
    {
      "cell_type": "code",
      "source": [
        "# Make and plot predictions for model_1\n",
        "y_preds_1=model_1.predict(X_test)\n",
        "plot_predicitions(predictions=y_preds_1)"
      ],
      "metadata": {
        "colab": {
          "base_uri": "https://localhost:8080/",
          "height": 523
        },
        "id": "iKmN-EWGhjKb",
        "outputId": "ac850ebc-53be-491d-a040-fe543f79372f"
      },
      "execution_count": null,
      "outputs": [
        {
          "output_type": "stream",
          "name": "stderr",
          "text": [
            "WARNING:tensorflow:6 out of the last 6 calls to <function Model.make_predict_function.<locals>.predict_function at 0x78f6ba698430> triggered tf.function retracing. Tracing is expensive and the excessive number of tracings could be due to (1) creating @tf.function repeatedly in a loop, (2) passing tensors with different shapes, (3) passing Python objects instead of tensors. For (1), please define your @tf.function outside of the loop. For (2), @tf.function has reduce_retracing=True option that can avoid unnecessary retracing. For (3), please refer to https://www.tensorflow.org/guide/function#controlling_retracing and https://www.tensorflow.org/api_docs/python/tf/function for  more details.\n"
          ]
        },
        {
          "output_type": "stream",
          "name": "stdout",
          "text": [
            "1/1 [==============================] - 0s 105ms/step\n"
          ]
        },
        {
          "output_type": "display_data",
          "data": {
            "text/plain": [
              "<Figure size 1000x700 with 1 Axes>"
            ],
            "image/png": "[encoded data removed]"
          },
          "metadata": {}
        }
      ]
    },
    {
      "cell_type": "code",
      "source": [
        "# Calculate model_1 evaluation metrics\n",
        "mae_1=mae(y_test,tf.squeeze(y_preds_1))\n",
        "mse_1=mse(y_test,tf.squeeze(y_preds_1))\n",
        "mae_1,mse_1"
      ],
      "metadata": {
        "colab": {
          "base_uri": "https://localhost:8080/"
        },
        "id": "M2dH20taiGnf",
        "outputId": "c8813073-7c30-4b77-f6df-4005027f926a"
      },
      "execution_count": null,
      "outputs": [
        {
          "output_type": "execute_result",
          "data": {
            "text/plain": [
              "(<tf.Tensor: shape=(), dtype=float32, numpy=14.909155>,\n",
              " <tf.Tensor: shape=(), dtype=float32, numpy=223.1206>)"
            ]
          },
          "metadata": {},
          "execution_count": 38
        }
      ]
    },
    {
      "cell_type": "markdown",
      "source": [
        "**Build `model_2`**\n",
        "* 2 dense layers, trained for 100 epochs"
      ],
      "metadata": {
        "id": "L1jK9bxgiei-"
      }
    },
    {
      "cell_type": "code",
      "source": [
        "# Set random seed\n",
        "tf.random.set_seed(42)\n",
        "\n",
        "# Replicate model_1 and add an extra layer\n",
        "model_2 = tf.keras.Sequential([\n",
        "  tf.keras.layers.Dense(1),\n",
        "  tf.keras.layers.Dense(1) # add a second layer\n",
        "])\n",
        "\n",
        "# Compile the model\n",
        "model_2.compile(loss=tf.keras.losses.mae,\n",
        "                optimizer=tf.keras.optimizers.SGD(),\n",
        "                metrics=['mae'])\n",
        "\n",
        "# Fit the model\n",
        "model_2.fit(tf.expand_dims(X_train, axis=-1), y_train, epochs=100, verbose=0) # set verbose to 0 for less output\n"
      ],
      "metadata": {
        "colab": {
          "base_uri": "https://localhost:8080/"
        },
        "id": "SYTYTxYJjC-x",
        "outputId": "3dfad992-0ab5-4512-d8de-fe24efbf677b"
      },
      "execution_count": null,
      "outputs": [
        {
          "output_type": "execute_result",
          "data": {
            "text/plain": [
              "<keras.src.callbacks.History at 0x78f6b2e30130>"
            ]
          },
          "metadata": {},
          "execution_count": 39
        }
      ]
    },
    {
      "cell_type": "code",
      "source": [
        "# Make and plot predictions for model_1\n",
        "y_preds_2=model_2.predict(X_test)\n",
        "plot_predicitions(predictions=y_preds_2)"
      ],
      "metadata": {
        "colab": {
          "base_uri": "https://localhost:8080/",
          "height": 480
        },
        "id": "4ULdV9ksjl1y",
        "outputId": "93edc9be-0cc4-4b82-df34-e4ee1032ee70"
      },
      "execution_count": null,
      "outputs": [
        {
          "output_type": "stream",
          "name": "stdout",
          "text": [
            "1/1 [==============================] - 0s 193ms/step\n"
          ]
        },
        {
          "output_type": "display_data",
          "data": {
            "text/plain": [
              "<Figure size 1000x700 with 1 Axes>"
            ],
            "image/png": "[encoded data removed]"
          },
          "metadata": {}
        }
      ]
    },
    {
      "cell_type": "code",
      "source": [
        "# Calculate model_2 metrics\n",
        "mae_2 = mae(y_test, y_preds_2.squeeze()).numpy()\n",
        "mse_2 = mse(y_test, y_preds_2.squeeze()).numpy()\n",
        "mae_2, mse_2"
      ],
      "metadata": {
        "colab": {
          "base_uri": "https://localhost:8080/"
        },
        "id": "TnSHKlUjjsfl",
        "outputId": "9e6204b7-5bfe-4e95-a769-9f09eaf7416e"
      },
      "execution_count": null,
      "outputs": [
        {
          "output_type": "execute_result",
          "data": {
            "text/plain": [
              "(3.0716262, 12.2277775)"
            ]
          },
          "metadata": {},
          "execution_count": 41
        }
      ]
    },
    {
      "cell_type": "markdown",
      "source": [
        "**Build `model_3`**\n",
        "* For our 3rd model, we'll keep everything the same as model_2 except this time we'll train for longer (500 epochs instead of 100).\n",
        "\n",
        "This will give our model more of a chance to learn the patterns in the data."
      ],
      "metadata": {
        "id": "0YDBmIdtkE9I"
      }
    },
    {
      "cell_type": "code",
      "source": [
        "# Set random seed\n",
        "tf.random.set_seed(42)\n",
        "\n",
        "# Replicate model_2\n",
        "model_3 = tf.keras.Sequential([\n",
        "  tf.keras.layers.Dense(10),\n",
        "  tf.keras.layers.Dense(1)\n",
        "])\n",
        "\n",
        "# Compile the model\n",
        "model_3.compile(loss=tf.keras.losses.mae,\n",
        "                optimizer=tf.keras.optimizers.SGD(),\n",
        "                metrics=['mae'])\n",
        "\n",
        "# Fit the model (this time for 500 epochs, not 100)\n",
        "model_3.fit(tf.expand_dims(X_train, axis=-1), y_train, epochs=500, verbose=0) # set verb"
      ],
      "metadata": {
        "colab": {
          "base_uri": "https://localhost:8080/"
        },
        "id": "YiXTt0FYkkDp",
        "outputId": "ead9ce2a-d8f6-49e4-f352-7ec1181ef5f0"
      },
      "execution_count": null,
      "outputs": [
        {
          "output_type": "execute_result",
          "data": {
            "text/plain": [
              "<keras.src.callbacks.History at 0x78f6b37e2530>"
            ]
          },
          "metadata": {},
          "execution_count": 42
        }
      ]
    },
    {
      "cell_type": "code",
      "source": [
        "# Make and plot predictions for model_3\n",
        "y_preds_3 = model_3.predict(X_test)\n",
        "plot_predicitions(predictions=y_preds_3)"
      ],
      "metadata": {
        "colab": {
          "base_uri": "https://localhost:8080/",
          "height": 485
        },
        "id": "z0vKvoqhktEW",
        "outputId": "68f34fab-bff6-4345-8264-4a847f05b23f"
      },
      "execution_count": null,
      "outputs": [
        {
          "output_type": "stream",
          "name": "stdout",
          "text": [
            "1/1 [==============================] - 0s 62ms/step\n"
          ]
        },
        {
          "output_type": "display_data",
          "data": {
            "text/plain": [
              "<Figure size 1000x700 with 1 Axes>"
            ],
            "image/png": "[encoded data removed]"
          },
          "metadata": {}
        }
      ]
    },
    {
      "cell_type": "markdown",
      "source": [
        "Strange, we trained for longer but our model performed worse?\n",
        "\n",
        "As it turns out, our model might've trained too long and has thus resulted in worse results (we'll see ways to prevent training for too long later on)."
      ],
      "metadata": {
        "id": "k3bT11qnk-8H"
      }
    },
    {
      "cell_type": "code",
      "source": [
        "# Calculate model_3 metrics\n",
        "mae_3 = mae(y_test, y_preds_3.squeeze()).numpy()\n",
        "mse_3 = mse(y_test, y_preds_3.squeeze()).numpy()\n",
        "mae_3, mse_3\n"
      ],
      "metadata": {
        "colab": {
          "base_uri": "https://localhost:8080/"
        },
        "id": "0u6Fb31tku_Z",
        "outputId": "951bbcdd-8d89-4106-c205-f626294cfe1b"
      },
      "execution_count": null,
      "outputs": [
        {
          "output_type": "execute_result",
          "data": {
            "text/plain": [
              "(67.11461, 4586.8916)"
            ]
          },
          "metadata": {},
          "execution_count": 44
        }
      ]
    },
    {
      "cell_type": "markdown",
      "source": [
        "🔑**Note:** You want to start with small experiments (small models) and amke sure they work and then increase their scale when necessary"
      ],
      "metadata": {
        "id": "ReITXZihnMrt"
      }
    },
    {
      "cell_type": "markdown",
      "source": [
        "### Comparing the results of our experiments\n",
        "We've run a few experiments, let's compare the results."
      ],
      "metadata": {
        "id": "FWfQLadlk8y_"
      }
    },
    {
      "cell_type": "code",
      "source": [
        "import pandas as pd\n",
        "model_results=[[\"model_1\",mae_1.numpy(),mse_1.numpy()],\n",
        "               [\"model_2\",mae_2,mse_2],\n",
        "               [\"model_3\",mae_3,mse_3]]\n",
        "all_results=pd.DataFrame(model_results,columns=[\"model\",\"MAE\",\"MSE\"])\n",
        "all_results"
      ],
      "metadata": {
        "colab": {
          "base_uri": "https://localhost:8080/",
          "height": 143
        },
        "id": "DInKxMAFm7ju",
        "outputId": "f2c4ee34-f7f5-4cf0-8c02-f7e3ec189ef7"
      },
      "execution_count": null,
      "outputs": [
        {
          "output_type": "execute_result",
          "data": {
            "text/plain": [
              "     model        MAE          MSE\n",
              "0  model_1  14.909155   223.120605\n",
              "1  model_2   3.071626    12.227777\n",
              "2  model_3  67.114609  4586.891602"
            ],
            "text/html": [
              "\n",
              "  <div id=\"df-b3ae86c6-4916-477d-a3eb-541bdeba822b\" class=\"colab-df-container\">\n",
              "    <div>\n",
              "<style scoped>\n",
              "    .dataframe tbody tr th:only-of-type {\n",
              "        vertical-align: middle;\n",
              "    }\n",
              "\n",
              "    .dataframe tbody tr th {\n",
              "        vertical-align: top;\n",
              "    }\n",
              "\n",
              "    .dataframe thead th {\n",
              "        text-align: right;\n",
              "    }\n",
              "</style>\n",
              "<table border=\"1\" class=\"dataframe\">\n",
              "  <thead>\n",
              "    <tr style=\"text-align: right;\">\n",
              "      <th></th>\n",
              "      <th>model</th>\n",
              "      <th>MAE</th>\n",
              "      <th>MSE</th>\n",
              "    </tr>\n",
              "  </thead>\n",
              "  <tbody>\n",
              "    <tr>\n",
              "      <th>0</th>\n",
              "      <td>model_1</td>\n",
              "      <td>14.909155</td>\n",
              "      <td>223.120605</td>\n",
              "    </tr>\n",
              "    <tr>\n",
              "      <th>1</th>\n",
              "      <td>model_2</td>\n",
              "      <td>3.071626</td>\n",
              "      <td>12.227777</td>\n",
              "    </tr>\n",
              "    <tr>\n",
              "      <th>2</th>\n",
              "      <td>model_3</td>\n",
              "      <td>67.114609</td>\n",
              "      <td>4586.891602</td>\n",
              "    </tr>\n",
              "  </tbody>\n",
              "</table>\n",
              "</div>\n",
              "    <div class=\"colab-df-buttons\">\n",
              "\n",
              "  <div class=\"colab-df-container\">\n",
              "    <button class=\"colab-df-convert\" onclick=\"convertToInteractive('df-b3ae86c6-4916-477d-a3eb-541bdeba822b')\"\n",
              "            title=\"Convert this dataframe to an interactive table.\"\n",
              "            style=\"display:none;\">\n",
              "\n",
              "  <svg xmlns=\"http://www.w3.org/2000/svg\" height=\"24px\" viewBox=\"0 -960 960 960\">\n",
              "    <path d=\"M120-120v-720h720v720H120Zm60-500h600v-160H180v160Zm220 220h160v-160H400v160Zm0 220h160v-160H400v160ZM180-400h160v-160H180v160Zm440 0h160v-160H620v160ZM180-180h160v-160H180v160Zm440 0h160v-160H620v160Z\"/>\n",
              "  </svg>\n",
              "    </button>\n",
              "\n",
              "  <style>\n",
              "    .colab-df-container {\n",
              "      display:flex;\n",
              "      gap: 12px;\n",
              "    }\n",
              "\n",
              "    .colab-df-convert {\n",
              "      background-color: #E8F0FE;\n",
              "      border: none;\n",
              "      border-radius: 50%;\n",
              "      cursor: pointer;\n",
              "      display: none;\n",
              "      fill: #1967D2;\n",
              "      height: 32px;\n",
              "      padding: 0 0 0 0;\n",
              "      width: 32px;\n",
              "    }\n",
              "\n",
              "    .colab-df-convert:hover {\n",
              "      background-color: #E2EBFA;\n",
              "      box-shadow: 0px 1px 2px rgba(60, 64, 67, 0.3), 0px 1px 3px 1px rgba(60, 64, 67, 0.15);\n",
              "      fill: #174EA6;\n",
              "    }\n",
              "\n",
              "    .colab-df-buttons div {\n",
              "      margin-bottom: 4px;\n",
              "    }\n",
              "\n",
              "    [theme=dark] .colab-df-convert {\n",
              "      background-color: #3B4455;\n",
              "      fill: #D2E3FC;\n",
              "    }\n",
              "\n",
              "    [theme=dark] .colab-df-convert:hover {\n",
              "      background-color: #434B5C;\n",
              "      box-shadow: 0px 1px 3px 1px rgba(0, 0, 0, 0.15);\n",
              "      filter: drop-shadow(0px 1px 2px rgba(0, 0, 0, 0.3));\n",
              "      fill: #FFFFFF;\n",
              "    }\n",
              "  </style>\n",
              "\n",
              "    <script>\n",
              "      const buttonEl =\n",
              "        document.querySelector('#df-b3ae86c6-4916-477d-a3eb-541bdeba822b button.colab-df-convert');\n",
              "      buttonEl.style.display =\n",
              "        google.colab.kernel.accessAllowed ? 'block' : 'none';\n",
              "\n",
              "      async function convertToInteractive(key) {\n",
              "        const element = document.querySelector('#df-b3ae86c6-4916-477d-a3eb-541bdeba822b');\n",
              "        const dataTable =\n",
              "          await google.colab.kernel.invokeFunction('convertToInteractive',\n",
              "                                                    [key], {});\n",
              "        if (!dataTable) return;\n",
              "\n",
              "        const docLinkHtml = 'Like what you see? Visit the ' +\n",
              "          '<a target=\"_blank\" href=https://colab.research.google.com/notebooks/data_table.ipynb>data table notebook</a>'\n",
              "          + ' to learn more about interactive tables.';\n",
              "        element.innerHTML = '';\n",
              "        dataTable['output_type'] = 'display_data';\n",
              "        await google.colab.output.renderOutput(dataTable, element);\n",
              "        const docLink = document.createElement('div');\n",
              "        docLink.innerHTML = docLinkHtml;\n",
              "        element.appendChild(docLink);\n",
              "      }\n",
              "    </script>\n",
              "  </div>\n",
              "\n",
              "\n",
              "<div id=\"df-e1ecbcd7-df03-4a4e-9776-e9a78c7f39a4\">\n",
              "  <button class=\"colab-df-quickchart\" onclick=\"quickchart('df-e1ecbcd7-df03-4a4e-9776-e9a78c7f39a4')\"\n",
              "            title=\"Suggest charts.\"\n",
              "            style=\"display:none;\">\n",
              "\n",
              "<svg xmlns=\"http://www.w3.org/2000/svg\" height=\"24px\"viewBox=\"0 0 24 24\"\n",
              "     width=\"24px\">\n",
              "    <g>\n",
              "        <path d=\"M19 3H5c-1.1 0-2 .9-2 2v14c0 1.1.9 2 2 2h14c1.1 0 2-.9 2-2V5c0-1.1-.9-2-2-2zM9 17H7v-7h2v7zm4 0h-2V7h2v10zm4 0h-2v-4h2v4z\"/>\n",
              "    </g>\n",
              "</svg>\n",
              "  </button>\n",
              "\n",
              "<style>\n",
              "  .colab-df-quickchart {\n",
              "      --bg-color: #E8F0FE;\n",
              "      --fill-color: #1967D2;\n",
              "      --hover-bg-color: #E2EBFA;\n",
              "      --hover-fill-color: #174EA6;\n",
              "      --disabled-fill-color: #AAA;\n",
              "      --disabled-bg-color: #DDD;\n",
              "  }\n",
              "\n",
              "  [theme=dark] .colab-df-quickchart {\n",
              "      --bg-color: #3B4455;\n",
              "      --fill-color: #D2E3FC;\n",
              "      --hover-bg-color: #434B5C;\n",
              "      --hover-fill-color: #FFFFFF;\n",
              "      --disabled-bg-color: #3B4455;\n",
              "      --disabled-fill-color: #666;\n",
              "  }\n",
              "\n",
              "  .colab-df-quickchart {\n",
              "    background-color: var(--bg-color);\n",
              "    border: none;\n",
              "    border-radius: 50%;\n",
              "    cursor: pointer;\n",
              "    display: none;\n",
              "    fill: var(--fill-color);\n",
              "    height: 32px;\n",
              "    padding: 0;\n",
              "    width: 32px;\n",
              "  }\n",
              "\n",
              "  .colab-df-quickchart:hover {\n",
              "    background-color: var(--hover-bg-color);\n",
              "    box-shadow: 0 1px 2px rgba(60, 64, 67, 0.3), 0 1px 3px 1px rgba(60, 64, 67, 0.15);\n",
              "    fill: var(--button-hover-fill-color);\n",
              "  }\n",
              "\n",
              "  .colab-df-quickchart-complete:disabled,\n",
              "  .colab-df-quickchart-complete:disabled:hover {\n",
              "    background-color: var(--disabled-bg-color);\n",
              "    fill: var(--disabled-fill-color);\n",
              "    box-shadow: none;\n",
              "  }\n",
              "\n",
              "  .colab-df-spinner {\n",
              "    border: 2px solid var(--fill-color);\n",
              "    border-color: transparent;\n",
              "    border-bottom-color: var(--fill-color);\n",
              "    animation:\n",
              "      spin 1s steps(1) infinite;\n",
              "  }\n",
              "\n",
              "  @keyframes spin {\n",
              "    0% {\n",
              "      border-color: transparent;\n",
              "      border-bottom-color: var(--fill-color);\n",
              "      border-left-color: var(--fill-color);\n",
              "    }\n",
              "    20% {\n",
              "      border-color: transparent;\n",
              "      border-left-color: var(--fill-color);\n",
              "      border-top-color: var(--fill-color);\n",
              "    }\n",
              "    30% {\n",
              "      border-color: transparent;\n",
              "      border-left-color: var(--fill-color);\n",
              "      border-top-color: var(--fill-color);\n",
              "      border-right-color: var(--fill-color);\n",
              "    }\n",
              "    40% {\n",
              "      border-color: transparent;\n",
              "      border-right-color: var(--fill-color);\n",
              "      border-top-color: var(--fill-color);\n",
              "    }\n",
              "    60% {\n",
              "      border-color: transparent;\n",
              "      border-right-color: var(--fill-color);\n",
              "    }\n",
              "    80% {\n",
              "      border-color: transparent;\n",
              "      border-right-color: var(--fill-color);\n",
              "      border-bottom-color: var(--fill-color);\n",
              "    }\n",
              "    90% {\n",
              "      border-color: transparent;\n",
              "      border-bottom-color: var(--fill-color);\n",
              "    }\n",
              "  }\n",
              "</style>\n",
              "\n",
              "  <script>\n",
              "    async function quickchart(key) {\n",
              "      const quickchartButtonEl =\n",
              "        document.querySelector('#' + key + ' button');\n",
              "      quickchartButtonEl.disabled = true;  // To prevent multiple clicks.\n",
              "      quickchartButtonEl.classList.add('colab-df-spinner');\n",
              "      try {\n",
              "        const charts = await google.colab.kernel.invokeFunction(\n",
              "            'suggestCharts', [key], {});\n",
              "      } catch (error) {\n",
              "        console.error('Error during call to suggestCharts:', error);\n",
              "      }\n",
              "      quickchartButtonEl.classList.remove('colab-df-spinner');\n",
              "      quickchartButtonEl.classList.add('colab-df-quickchart-complete');\n",
              "    }\n",
              "    (() => {\n",
              "      let quickchartButtonEl =\n",
              "        document.querySelector('#df-e1ecbcd7-df03-4a4e-9776-e9a78c7f39a4 button');\n",
              "      quickchartButtonEl.style.display =\n",
              "        google.colab.kernel.accessAllowed ? 'block' : 'none';\n",
              "    })();\n",
              "  </script>\n",
              "</div>\n",
              "    </div>\n",
              "  </div>\n"
            ]
          },
          "metadata": {},
          "execution_count": 45
        }
      ]
    },
    {
      "cell_type": "markdown",
      "source": [
        "Looks lime `model_2` performed the best..."
      ],
      "metadata": {
        "id": "cFOwwLUIo3hP"
      }
    },
    {
      "cell_type": "code",
      "source": [
        "model_2.summary()"
      ],
      "metadata": {
        "colab": {
          "base_uri": "https://localhost:8080/"
        },
        "id": "qDdctweMo3UF",
        "outputId": "f3a8c175-03ce-4f35-a0e4-8050965f3c95"
      },
      "execution_count": null,
      "outputs": [
        {
          "output_type": "stream",
          "name": "stdout",
          "text": [
            "Model: \"sequential_6\"\n",
            "_________________________________________________________________\n",
            " Layer (type)                Output Shape              Param #   \n",
            "=================================================================\n",
            " dense_9 (Dense)             (None, 1)                 2         \n",
            "                                                                 \n",
            " dense_10 (Dense)            (None, 1)                 2         \n",
            "                                                                 \n",
            "=================================================================\n",
            "Total params: 4 (16.00 Byte)\n",
            "Trainable params: 4 (16.00 Byte)\n",
            "Non-trainable params: 0 (0.00 Byte)\n",
            "_________________________________________________________________\n"
          ]
        }
      ]
    },
    {
      "cell_type": "markdown",
      "source": [
        "🔑 Note: One of your main goals should be to minimize the time between your experiments. The more experiments you do, the more things you'll figure out which don't work and in turn, get closer to figuring out what does work. Remember the machine learning practitioner's motto: \"experiment, experiment, experiment\"."
      ],
      "metadata": {
        "id": "NSDRkZCVoQ18"
      }
    },
    {
      "cell_type": "markdown",
      "source": [
        "###Tracking your experiments\n",
        "\n",
        "One really good habit to get into is tracking your modelling experiments to see which perform better than others.\n",
        "\n",
        "And when doing so, it can be tedious if you're running lots of experiments.\n",
        "\n",
        "Luckily, there are tools to help us!\n",
        "\n",
        "**Resource:** As you build more models, you'll want to look into using:\n",
        "\n",
        "* TensorBoard - a component of the TensorFlow library to help track modelling experiments (we'll see this later).\n",
        "* Weights & Biases - a tool for tracking all kinds of machine learning experiments (the good news for Weights & Biases is it plugs into TensorBoard).\n"
      ],
      "metadata": {
        "id": "Yw5Q5fPHozsm"
      }
    },
    {
      "cell_type": "markdown",
      "source": [
        "### Saving our models\n",
        "\n",
        "Saving our models allows us to use them outside of Google Colab (or wherever they were trained) such as in a web application or a mobile app\n",
        "\n",
        "There are two main formats we can save our model's :\n",
        "1. The SavedModel format\n",
        "2. The HDF5 format"
      ],
      "metadata": {
        "id": "SUWijSPUpkb0"
      }
    },
    {
      "cell_type": "code",
      "source": [
        "# Save model using the SavedModel format\n",
        "model_2.save(\"best_model_SavedModel_format\")"
      ],
      "metadata": {
        "id": "eHIDiDowvN7M"
      },
      "execution_count": null,
      "outputs": []
    },
    {
      "cell_type": "code",
      "source": [
        "# Save model using the HDF5 format\n",
        "model.save(\"best_model_HDF5_format.h5\")"
      ],
      "metadata": {
        "colab": {
          "base_uri": "https://localhost:8080/"
        },
        "id": "syjPShl6wLMV",
        "outputId": "0433ce35-1138-4081-9c09-10c5bba53203"
      },
      "execution_count": null,
      "outputs": [
        {
          "output_type": "stream",
          "name": "stderr",
          "text": [
            "/usr/local/lib/python3.10/dist-packages/keras/src/engine/training.py:3000: UserWarning: You are saving your model as an HDF5 file via `model.save()`. This file format is considered legacy. We recommend using instead the native Keras format, e.g. `model.save('my_model.keras')`.\n",
            "  saving_api.save_model(\n"
          ]
        }
      ]
    },
    {
      "cell_type": "markdown",
      "source": [
        "## Loading in a saved model"
      ],
      "metadata": {
        "id": "fx38txqrwnlm"
      }
    },
    {
      "cell_type": "code",
      "source": [
        "loaded_SavedModel_format=tf.keras.models.load_model(\"/content/best_model_SavedModel_format\")"
      ],
      "metadata": {
        "id": "J9073icV1pHx"
      },
      "execution_count": null,
      "outputs": []
    },
    {
      "cell_type": "code",
      "source": [
        "loaded_SavedModel_format.summary()"
      ],
      "metadata": {
        "colab": {
          "base_uri": "https://localhost:8080/"
        },
        "id": "B2pfWadM12d1",
        "outputId": "c94aa0cb-b690-41be-93fc-64621d368688"
      },
      "execution_count": null,
      "outputs": [
        {
          "output_type": "stream",
          "name": "stdout",
          "text": [
            "Model: \"sequential_6\"\n",
            "_________________________________________________________________\n",
            " Layer (type)                Output Shape              Param #   \n",
            "=================================================================\n",
            " dense_9 (Dense)             (None, 1)                 2         \n",
            "                                                                 \n",
            " dense_10 (Dense)            (None, 1)                 2         \n",
            "                                                                 \n",
            "=================================================================\n",
            "Total params: 4 (16.00 Byte)\n",
            "Trainable params: 4 (16.00 Byte)\n",
            "Non-trainable params: 0 (0.00 Byte)\n",
            "_________________________________________________________________\n"
          ]
        }
      ]
    },
    {
      "cell_type": "code",
      "source": [
        "model_2.summary()"
      ],
      "metadata": {
        "colab": {
          "base_uri": "https://localhost:8080/"
        },
        "id": "NfPcDR2h194_",
        "outputId": "cfef0bab-2bd6-433a-9dbe-09e55e163333"
      },
      "execution_count": null,
      "outputs": [
        {
          "output_type": "stream",
          "name": "stdout",
          "text": [
            "Model: \"sequential_6\"\n",
            "_________________________________________________________________\n",
            " Layer (type)                Output Shape              Param #   \n",
            "=================================================================\n",
            " dense_9 (Dense)             (None, 1)                 2         \n",
            "                                                                 \n",
            " dense_10 (Dense)            (None, 1)                 2         \n",
            "                                                                 \n",
            "=================================================================\n",
            "Total params: 4 (16.00 Byte)\n",
            "Trainable params: 4 (16.00 Byte)\n",
            "Non-trainable params: 0 (0.00 Byte)\n",
            "_________________________________________________________________\n"
          ]
        }
      ]
    },
    {
      "cell_type": "code",
      "source": [
        "# Compare model_2 predictions with SavedModel format model predictions\n",
        "model_2.predict(X_test)==loaded_SavedModel_format.predict(X_test)"
      ],
      "metadata": {
        "colab": {
          "base_uri": "https://localhost:8080/"
        },
        "id": "VVJzsUoa2GaZ",
        "outputId": "773158a1-f432-451a-b8b6-efbc6586e45a"
      },
      "execution_count": null,
      "outputs": [
        {
          "output_type": "stream",
          "name": "stdout",
          "text": [
            "1/1 [==============================] - 0s 32ms/step\n",
            "1/1 [==============================] - 0s 59ms/step\n"
          ]
        },
        {
          "output_type": "execute_result",
          "data": {
            "text/plain": [
              "array([[ True],\n",
              "       [ True],\n",
              "       [ True],\n",
              "       [ True],\n",
              "       [ True],\n",
              "       [ True],\n",
              "       [ True],\n",
              "       [ True],\n",
              "       [ True],\n",
              "       [ True]])"
            ]
          },
          "metadata": {},
          "execution_count": 52
        }
      ]
    },
    {
      "cell_type": "code",
      "source": [
        "# Load in a model using the .h5 format\n",
        "loaded_h5_model=tf.keras.models.load_model(\"/content/best_model_HDF5_format.h5\")"
      ],
      "metadata": {
        "id": "lGFQSbzU2lIS"
      },
      "execution_count": null,
      "outputs": []
    },
    {
      "cell_type": "code",
      "source": [
        "# Compare model predictions with .h5 format model predictions\n",
        "model.predict(X_test)==loaded_h5_model.predict(X_test)"
      ],
      "metadata": {
        "colab": {
          "base_uri": "https://localhost:8080/"
        },
        "id": "ry-jGw1R3OAQ",
        "outputId": "7a51437e-37bd-4576-923f-35c43c41de21"
      },
      "execution_count": null,
      "outputs": [
        {
          "output_type": "stream",
          "name": "stdout",
          "text": [
            "1/1 [==============================] - 0s 34ms/step\n",
            "1/1 [==============================] - 0s 59ms/step\n"
          ]
        },
        {
          "output_type": "execute_result",
          "data": {
            "text/plain": [
              "array([[ True],\n",
              "       [ True],\n",
              "       [ True],\n",
              "       [ True],\n",
              "       [ True],\n",
              "       [ True],\n",
              "       [ True],\n",
              "       [ True],\n",
              "       [ True],\n",
              "       [ True]])"
            ]
          },
          "metadata": {},
          "execution_count": 54
        }
      ]
    },
    {
      "cell_type": "markdown",
      "source": [
        "## Download a model (or any other file) from Google Colab\n",
        "* Right click on the file in the files pane and click 'download'.\n",
        "* Use the code below.\n",
        "* Save it to Googel Drive by connecting Google Drive and copying it there"
      ],
      "metadata": {
        "id": "UkGDr8aV3XPd"
      }
    },
    {
      "cell_type": "code",
      "source": [
        "# Download the model (or any file) from Google Colab\n",
        "from google.colab import files\n",
        "files.download(\"best_model_HDF5_format.h5\")"
      ],
      "metadata": {
        "colab": {
          "base_uri": "https://localhost:8080/",
          "height": 17
        },
        "id": "uvJwWQWR3kRy",
        "outputId": "9b403d92-49d4-464f-b856-e5efe1090b95"
      },
      "execution_count": null,
      "outputs": [
        {
          "output_type": "display_data",
          "data": {
            "text/plain": [
              "<IPython.core.display.Javascript object>"
            ],
            "application/javascript": [
              "\n",
              "    async function download(id, filename, size) {\n",
              "      if (!google.colab.kernel.accessAllowed) {\n",
              "        return;\n",
              "      }\n",
              "      const div = document.createElement('div');\n",
              "      const label = document.createElement('label');\n",
              "      label.textContent = `Downloading \"${filename}\": `;\n",
              "      div.appendChild(label);\n",
              "      const progress = document.createElement('progress');\n",
              "      progress.max = size;\n",
              "      div.appendChild(progress);\n",
              "      document.body.appendChild(div);\n",
              "\n",
              "      const buffers = [];\n",
              "      let downloaded = 0;\n",
              "\n",
              "      const channel = await google.colab.kernel.comms.open(id);\n",
              "      // Send a message to notify the kernel that we're ready.\n",
              "      channel.send({})\n",
              "\n",
              "      for await (const message of channel.messages) {\n",
              "        // Send a message to notify the kernel that we're ready.\n",
              "        channel.send({})\n",
              "        if (message.buffers) {\n",
              "          for (const buffer of message.buffers) {\n",
              "            buffers.push(buffer);\n",
              "            downloaded += buffer.byteLength;\n",
              "            progress.value = downloaded;\n",
              "          }\n",
              "        }\n",
              "      }\n",
              "      const blob = new Blob(buffers, {type: 'application/binary'});\n",
              "      const a = document.createElement('a');\n",
              "      a.href = window.URL.createObjectURL(blob);\n",
              "      a.download = filename;\n",
              "      div.appendChild(a);\n",
              "      a.click();\n",
              "      div.remove();\n",
              "    }\n",
              "  "
            ]
          },
          "metadata": {}
        },
        {
          "output_type": "display_data",
          "data": {
            "text/plain": [
              "<IPython.core.display.Javascript object>"
            ],
            "application/javascript": [
              "download(\"download_dfc7f77c-7706-436c-885b-61e8ee0fcaa2\", \"best_model_HDF5_format.h5\", 21952)"
            ]
          },
          "metadata": {}
        }
      ]
    },
    {
      "cell_type": "markdown",
      "source": [
        "### A larger example"
      ],
      "metadata": {
        "id": "7wxjI1Gm4etB"
      }
    },
    {
      "cell_type": "code",
      "source": [
        "# Important Required Libraries\n",
        "import tensorflow as tf\n",
        "import pandas as pd\n",
        "import numpy as np\n",
        "import matplotlib.pyplot as plt"
      ],
      "metadata": {
        "id": "YIQ1ZOTa6G5n"
      },
      "execution_count": null,
      "outputs": []
    },
    {
      "cell_type": "code",
      "source": [
        "# Read in the insurance dataset\n",
        "insurance = pd.read_csv(\"https://raw.githubusercontent.com/stedy/Machine-Learning-with-R-datasets/master/insurance.csv\")\n",
        "insurance"
      ],
      "metadata": {
        "colab": {
          "base_uri": "https://localhost:8080/",
          "height": 423
        },
        "id": "OqPuYLNF6W3F",
        "outputId": "3a9b8978-93e4-4876-bcf6-1f5273211b6a"
      },
      "execution_count": null,
      "outputs": [
        {
          "output_type": "execute_result",
          "data": {
            "text/plain": [
              "      age     sex     bmi  children smoker     region      charges\n",
              "0      19  female  27.900         0    yes  southwest  16884.92400\n",
              "1      18    male  33.770         1     no  southeast   1725.55230\n",
              "2      28    male  33.000         3     no  southeast   4449.46200\n",
              "3      33    male  22.705         0     no  northwest  21984.47061\n",
              "4      32    male  28.880         0     no  northwest   3866.85520\n",
              "...   ...     ...     ...       ...    ...        ...          ...\n",
              "1333   50    male  30.970         3     no  northwest  10600.54830\n",
              "1334   18  female  31.920         0     no  northeast   2205.98080\n",
              "1335   18  female  36.850         0     no  southeast   1629.83350\n",
              "1336   21  female  25.800         0     no  southwest   2007.94500\n",
              "1337   61  female  29.070         0    yes  northwest  29141.36030\n",
              "\n",
              "[1338 rows x 7 columns]"
            ],
            "text/html": [
              "\n",
              "  <div id=\"df-b019b200-7524-4ac0-b40a-a637c497dfc6\" class=\"colab-df-container\">\n",
              "    <div>\n",
              "<style scoped>\n",
              "    .dataframe tbody tr th:only-of-type {\n",
              "        vertical-align: middle;\n",
              "    }\n",
              "\n",
              "    .dataframe tbody tr th {\n",
              "        vertical-align: top;\n",
              "    }\n",
              "\n",
              "    .dataframe thead th {\n",
              "        text-align: right;\n",
              "    }\n",
              "</style>\n",
              "<table border=\"1\" class=\"dataframe\">\n",
              "  <thead>\n",
              "    <tr style=\"text-align: right;\">\n",
              "      <th></th>\n",
              "      <th>age</th>\n",
              "      <th>sex</th>\n",
              "      <th>bmi</th>\n",
              "      <th>children</th>\n",
              "      <th>smoker</th>\n",
              "      <th>region</th>\n",
              "      <th>charges</th>\n",
              "    </tr>\n",
              "  </thead>\n",
              "  <tbody>\n",
              "    <tr>\n",
              "      <th>0</th>\n",
              "      <td>19</td>\n",
              "      <td>female</td>\n",
              "      <td>27.900</td>\n",
              "      <td>0</td>\n",
              "      <td>yes</td>\n",
              "      <td>southwest</td>\n",
              "      <td>16884.92400</td>\n",
              "    </tr>\n",
              "    <tr>\n",
              "      <th>1</th>\n",
              "      <td>18</td>\n",
              "      <td>male</td>\n",
              "      <td>33.770</td>\n",
              "      <td>1</td>\n",
              "      <td>no</td>\n",
              "      <td>southeast</td>\n",
              "      <td>1725.55230</td>\n",
              "    </tr>\n",
              "    <tr>\n",
              "      <th>2</th>\n",
              "      <td>28</td>\n",
              "      <td>male</td>\n",
              "      <td>33.000</td>\n",
              "      <td>3</td>\n",
              "      <td>no</td>\n",
              "      <td>southeast</td>\n",
              "      <td>4449.46200</td>\n",
              "    </tr>\n",
              "    <tr>\n",
              "      <th>3</th>\n",
              "      <td>33</td>\n",
              "      <td>male</td>\n",
              "      <td>22.705</td>\n",
              "      <td>0</td>\n",
              "      <td>no</td>\n",
              "      <td>northwest</td>\n",
              "      <td>21984.47061</td>\n",
              "    </tr>\n",
              "    <tr>\n",
              "      <th>4</th>\n",
              "      <td>32</td>\n",
              "      <td>male</td>\n",
              "      <td>28.880</td>\n",
              "      <td>0</td>\n",
              "      <td>no</td>\n",
              "      <td>northwest</td>\n",
              "      <td>3866.85520</td>\n",
              "    </tr>\n",
              "    <tr>\n",
              "      <th>...</th>\n",
              "      <td>...</td>\n",
              "      <td>...</td>\n",
              "      <td>...</td>\n",
              "      <td>...</td>\n",
              "      <td>...</td>\n",
              "      <td>...</td>\n",
              "      <td>...</td>\n",
              "    </tr>\n",
              "    <tr>\n",
              "      <th>1333</th>\n",
              "      <td>50</td>\n",
              "      <td>male</td>\n",
              "      <td>30.970</td>\n",
              "      <td>3</td>\n",
              "      <td>no</td>\n",
              "      <td>northwest</td>\n",
              "      <td>10600.54830</td>\n",
              "    </tr>\n",
              "    <tr>\n",
              "      <th>1334</th>\n",
              "      <td>18</td>\n",
              "      <td>female</td>\n",
              "      <td>31.920</td>\n",
              "      <td>0</td>\n",
              "      <td>no</td>\n",
              "      <td>northeast</td>\n",
              "      <td>2205.98080</td>\n",
              "    </tr>\n",
              "    <tr>\n",
              "      <th>1335</th>\n",
              "      <td>18</td>\n",
              "      <td>female</td>\n",
              "      <td>36.850</td>\n",
              "      <td>0</td>\n",
              "      <td>no</td>\n",
              "      <td>southeast</td>\n",
              "      <td>1629.83350</td>\n",
              "    </tr>\n",
              "    <tr>\n",
              "      <th>1336</th>\n",
              "      <td>21</td>\n",
              "      <td>female</td>\n",
              "      <td>25.800</td>\n",
              "      <td>0</td>\n",
              "      <td>no</td>\n",
              "      <td>southwest</td>\n",
              "      <td>2007.94500</td>\n",
              "    </tr>\n",
              "    <tr>\n",
              "      <th>1337</th>\n",
              "      <td>61</td>\n",
              "      <td>female</td>\n",
              "      <td>29.070</td>\n",
              "      <td>0</td>\n",
              "      <td>yes</td>\n",
              "      <td>northwest</td>\n",
              "      <td>29141.36030</td>\n",
              "    </tr>\n",
              "  </tbody>\n",
              "</table>\n",
              "<p>1338 rows × 7 columns</p>\n",
              "</div>\n",
              "    <div class=\"colab-df-buttons\">\n",
              "\n",
              "  <div class=\"colab-df-container\">\n",
              "    <button class=\"colab-df-convert\" onclick=\"convertToInteractive('df-b019b200-7524-4ac0-b40a-a637c497dfc6')\"\n",
              "            title=\"Convert this dataframe to an interactive table.\"\n",
              "            style=\"display:none;\">\n",
              "\n",
              "  <svg xmlns=\"http://www.w3.org/2000/svg\" height=\"24px\" viewBox=\"0 -960 960 960\">\n",
              "    <path d=\"M120-120v-720h720v720H120Zm60-500h600v-160H180v160Zm220 220h160v-160H400v160Zm0 220h160v-160H400v160ZM180-400h160v-160H180v160Zm440 0h160v-160H620v160ZM180-180h160v-160H180v160Zm440 0h160v-160H620v160Z\"/>\n",
              "  </svg>\n",
              "    </button>\n",
              "\n",
              "  <style>\n",
              "    .colab-df-container {\n",
              "      display:flex;\n",
              "      gap: 12px;\n",
              "    }\n",
              "\n",
              "    .colab-df-convert {\n",
              "      background-color: #E8F0FE;\n",
              "      border: none;\n",
              "      border-radius: 50%;\n",
              "      cursor: pointer;\n",
              "      display: none;\n",
              "      fill: #1967D2;\n",
              "      height: 32px;\n",
              "      padding: 0 0 0 0;\n",
              "      width: 32px;\n",
              "    }\n",
              "\n",
              "    .colab-df-convert:hover {\n",
              "      background-color: #E2EBFA;\n",
              "      box-shadow: 0px 1px 2px rgba(60, 64, 67, 0.3), 0px 1px 3px 1px rgba(60, 64, 67, 0.15);\n",
              "      fill: #174EA6;\n",
              "    }\n",
              "\n",
              "    .colab-df-buttons div {\n",
              "      margin-bottom: 4px;\n",
              "    }\n",
              "\n",
              "    [theme=dark] .colab-df-convert {\n",
              "      background-color: #3B4455;\n",
              "      fill: #D2E3FC;\n",
              "    }\n",
              "\n",
              "    [theme=dark] .colab-df-convert:hover {\n",
              "      background-color: #434B5C;\n",
              "      box-shadow: 0px 1px 3px 1px rgba(0, 0, 0, 0.15);\n",
              "      filter: drop-shadow(0px 1px 2px rgba(0, 0, 0, 0.3));\n",
              "      fill: #FFFFFF;\n",
              "    }\n",
              "  </style>\n",
              "\n",
              "    <script>\n",
              "      const buttonEl =\n",
              "        document.querySelector('#df-b019b200-7524-4ac0-b40a-a637c497dfc6 button.colab-df-convert');\n",
              "      buttonEl.style.display =\n",
              "        google.colab.kernel.accessAllowed ? 'block' : 'none';\n",
              "\n",
              "      async function convertToInteractive(key) {\n",
              "        const element = document.querySelector('#df-b019b200-7524-4ac0-b40a-a637c497dfc6');\n",
              "        const dataTable =\n",
              "          await google.colab.kernel.invokeFunction('convertToInteractive',\n",
              "                                                    [key], {});\n",
              "        if (!dataTable) return;\n",
              "\n",
              "        const docLinkHtml = 'Like what you see? Visit the ' +\n",
              "          '<a target=\"_blank\" href=https://colab.research.google.com/notebooks/data_table.ipynb>data table notebook</a>'\n",
              "          + ' to learn more about interactive tables.';\n",
              "        element.innerHTML = '';\n",
              "        dataTable['output_type'] = 'display_data';\n",
              "        await google.colab.output.renderOutput(dataTable, element);\n",
              "        const docLink = document.createElement('div');\n",
              "        docLink.innerHTML = docLinkHtml;\n",
              "        element.appendChild(docLink);\n",
              "      }\n",
              "    </script>\n",
              "  </div>\n",
              "\n",
              "\n",
              "<div id=\"df-1bfab7b9-7d7c-4caf-878a-003c3d54f86e\">\n",
              "  <button class=\"colab-df-quickchart\" onclick=\"quickchart('df-1bfab7b9-7d7c-4caf-878a-003c3d54f86e')\"\n",
              "            title=\"Suggest charts.\"\n",
              "            style=\"display:none;\">\n",
              "\n",
              "<svg xmlns=\"http://www.w3.org/2000/svg\" height=\"24px\"viewBox=\"0 0 24 24\"\n",
              "     width=\"24px\">\n",
              "    <g>\n",
              "        <path d=\"M19 3H5c-1.1 0-2 .9-2 2v14c0 1.1.9 2 2 2h14c1.1 0 2-.9 2-2V5c0-1.1-.9-2-2-2zM9 17H7v-7h2v7zm4 0h-2V7h2v10zm4 0h-2v-4h2v4z\"/>\n",
              "    </g>\n",
              "</svg>\n",
              "  </button>\n",
              "\n",
              "<style>\n",
              "  .colab-df-quickchart {\n",
              "      --bg-color: #E8F0FE;\n",
              "      --fill-color: #1967D2;\n",
              "      --hover-bg-color: #E2EBFA;\n",
              "      --hover-fill-color: #174EA6;\n",
              "      --disabled-fill-color: #AAA;\n",
              "      --disabled-bg-color: #DDD;\n",
              "  }\n",
              "\n",
              "  [theme=dark] .colab-df-quickchart {\n",
              "      --bg-color: #3B4455;\n",
              "      --fill-color: #D2E3FC;\n",
              "      --hover-bg-color: #434B5C;\n",
              "      --hover-fill-color: #FFFFFF;\n",
              "      --disabled-bg-color: #3B4455;\n",
              "      --disabled-fill-color: #666;\n",
              "  }\n",
              "\n",
              "  .colab-df-quickchart {\n",
              "    background-color: var(--bg-color);\n",
              "    border: none;\n",
              "    border-radius: 50%;\n",
              "    cursor: pointer;\n",
              "    display: none;\n",
              "    fill: var(--fill-color);\n",
              "    height: 32px;\n",
              "    padding: 0;\n",
              "    width: 32px;\n",
              "  }\n",
              "\n",
              "  .colab-df-quickchart:hover {\n",
              "    background-color: var(--hover-bg-color);\n",
              "    box-shadow: 0 1px 2px rgba(60, 64, 67, 0.3), 0 1px 3px 1px rgba(60, 64, 67, 0.15);\n",
              "    fill: var(--button-hover-fill-color);\n",
              "  }\n",
              "\n",
              "  .colab-df-quickchart-complete:disabled,\n",
              "  .colab-df-quickchart-complete:disabled:hover {\n",
              "    background-color: var(--disabled-bg-color);\n",
              "    fill: var(--disabled-fill-color);\n",
              "    box-shadow: none;\n",
              "  }\n",
              "\n",
              "  .colab-df-spinner {\n",
              "    border: 2px solid var(--fill-color);\n",
              "    border-color: transparent;\n",
              "    border-bottom-color: var(--fill-color);\n",
              "    animation:\n",
              "      spin 1s steps(1) infinite;\n",
              "  }\n",
              "\n",
              "  @keyframes spin {\n",
              "    0% {\n",
              "      border-color: transparent;\n",
              "      border-bottom-color: var(--fill-color);\n",
              "      border-left-color: var(--fill-color);\n",
              "    }\n",
              "    20% {\n",
              "      border-color: transparent;\n",
              "      border-left-color: var(--fill-color);\n",
              "      border-top-color: var(--fill-color);\n",
              "    }\n",
              "    30% {\n",
              "      border-color: transparent;\n",
              "      border-left-color: var(--fill-color);\n",
              "      border-top-color: var(--fill-color);\n",
              "      border-right-color: var(--fill-color);\n",
              "    }\n",
              "    40% {\n",
              "      border-color: transparent;\n",
              "      border-right-color: var(--fill-color);\n",
              "      border-top-color: var(--fill-color);\n",
              "    }\n",
              "    60% {\n",
              "      border-color: transparent;\n",
              "      border-right-color: var(--fill-color);\n",
              "    }\n",
              "    80% {\n",
              "      border-color: transparent;\n",
              "      border-right-color: var(--fill-color);\n",
              "      border-bottom-color: var(--fill-color);\n",
              "    }\n",
              "    90% {\n",
              "      border-color: transparent;\n",
              "      border-bottom-color: var(--fill-color);\n",
              "    }\n",
              "  }\n",
              "</style>\n",
              "\n",
              "  <script>\n",
              "    async function quickchart(key) {\n",
              "      const quickchartButtonEl =\n",
              "        document.querySelector('#' + key + ' button');\n",
              "      quickchartButtonEl.disabled = true;  // To prevent multiple clicks.\n",
              "      quickchartButtonEl.classList.add('colab-df-spinner');\n",
              "      try {\n",
              "        const charts = await google.colab.kernel.invokeFunction(\n",
              "            'suggestCharts', [key], {});\n",
              "      } catch (error) {\n",
              "        console.error('Error during call to suggestCharts:', error);\n",
              "      }\n",
              "      quickchartButtonEl.classList.remove('colab-df-spinner');\n",
              "      quickchartButtonEl.classList.add('colab-df-quickchart-complete');\n",
              "    }\n",
              "    (() => {\n",
              "      let quickchartButtonEl =\n",
              "        document.querySelector('#df-1bfab7b9-7d7c-4caf-878a-003c3d54f86e button');\n",
              "      quickchartButtonEl.style.display =\n",
              "        google.colab.kernel.accessAllowed ? 'block' : 'none';\n",
              "    })();\n",
              "  </script>\n",
              "</div>\n",
              "    </div>\n",
              "  </div>\n"
            ]
          },
          "metadata": {},
          "execution_count": 57
        }
      ]
    },
    {
      "cell_type": "code",
      "source": [
        "# Let's try one-hot encode our DataFrame so it's all numbers\n",
        "insurance_one_hot=pd.get_dummies(insurance)\n",
        "insurance_one_hot.head()"
      ],
      "metadata": {
        "id": "9eoWHmwB6gdg",
        "colab": {
          "base_uri": "https://localhost:8080/",
          "height": 226
        },
        "outputId": "5795887f-e1f2-427d-b4f2-1149db89c55a"
      },
      "execution_count": null,
      "outputs": [
        {
          "output_type": "execute_result",
          "data": {
            "text/plain": [
              "   age     bmi  children      charges  sex_female  sex_male  smoker_no  \\\n",
              "0   19  27.900         0  16884.92400           1         0          0   \n",
              "1   18  33.770         1   1725.55230           0         1          1   \n",
              "2   28  33.000         3   4449.46200           0         1          1   \n",
              "3   33  22.705         0  21984.47061           0         1          1   \n",
              "4   32  28.880         0   3866.85520           0         1          1   \n",
              "\n",
              "   smoker_yes  region_northeast  region_northwest  region_southeast  \\\n",
              "0           1                 0                 0                 0   \n",
              "1           0                 0                 0                 1   \n",
              "2           0                 0                 0                 1   \n",
              "3           0                 0                 1                 0   \n",
              "4           0                 0                 1                 0   \n",
              "\n",
              "   region_southwest  \n",
              "0                 1  \n",
              "1                 0  \n",
              "2                 0  \n",
              "3                 0  \n",
              "4                 0  "
            ],
            "text/html": [
              "\n",
              "  <div id=\"df-c38eb407-1fb3-4c53-b973-d6b13517b185\" class=\"colab-df-container\">\n",
              "    <div>\n",
              "<style scoped>\n",
              "    .dataframe tbody tr th:only-of-type {\n",
              "        vertical-align: middle;\n",
              "    }\n",
              "\n",
              "    .dataframe tbody tr th {\n",
              "        vertical-align: top;\n",
              "    }\n",
              "\n",
              "    .dataframe thead th {\n",
              "        text-align: right;\n",
              "    }\n",
              "</style>\n",
              "<table border=\"1\" class=\"dataframe\">\n",
              "  <thead>\n",
              "    <tr style=\"text-align: right;\">\n",
              "      <th></th>\n",
              "      <th>age</th>\n",
              "      <th>bmi</th>\n",
              "      <th>children</th>\n",
              "      <th>charges</th>\n",
              "      <th>sex_female</th>\n",
              "      <th>sex_male</th>\n",
              "      <th>smoker_no</th>\n",
              "      <th>smoker_yes</th>\n",
              "      <th>region_northeast</th>\n",
              "      <th>region_northwest</th>\n",
              "      <th>region_southeast</th>\n",
              "      <th>region_southwest</th>\n",
              "    </tr>\n",
              "  </thead>\n",
              "  <tbody>\n",
              "    <tr>\n",
              "      <th>0</th>\n",
              "      <td>19</td>\n",
              "      <td>27.900</td>\n",
              "      <td>0</td>\n",
              "      <td>16884.92400</td>\n",
              "      <td>1</td>\n",
              "      <td>0</td>\n",
              "      <td>0</td>\n",
              "      <td>1</td>\n",
              "      <td>0</td>\n",
              "      <td>0</td>\n",
              "      <td>0</td>\n",
              "      <td>1</td>\n",
              "    </tr>\n",
              "    <tr>\n",
              "      <th>1</th>\n",
              "      <td>18</td>\n",
              "      <td>33.770</td>\n",
              "      <td>1</td>\n",
              "      <td>1725.55230</td>\n",
              "      <td>0</td>\n",
              "      <td>1</td>\n",
              "      <td>1</td>\n",
              "      <td>0</td>\n",
              "      <td>0</td>\n",
              "      <td>0</td>\n",
              "      <td>1</td>\n",
              "      <td>0</td>\n",
              "    </tr>\n",
              "    <tr>\n",
              "      <th>2</th>\n",
              "      <td>28</td>\n",
              "      <td>33.000</td>\n",
              "      <td>3</td>\n",
              "      <td>4449.46200</td>\n",
              "      <td>0</td>\n",
              "      <td>1</td>\n",
              "      <td>1</td>\n",
              "      <td>0</td>\n",
              "      <td>0</td>\n",
              "      <td>0</td>\n",
              "      <td>1</td>\n",
              "      <td>0</td>\n",
              "    </tr>\n",
              "    <tr>\n",
              "      <th>3</th>\n",
              "      <td>33</td>\n",
              "      <td>22.705</td>\n",
              "      <td>0</td>\n",
              "      <td>21984.47061</td>\n",
              "      <td>0</td>\n",
              "      <td>1</td>\n",
              "      <td>1</td>\n",
              "      <td>0</td>\n",
              "      <td>0</td>\n",
              "      <td>1</td>\n",
              "      <td>0</td>\n",
              "      <td>0</td>\n",
              "    </tr>\n",
              "    <tr>\n",
              "      <th>4</th>\n",
              "      <td>32</td>\n",
              "      <td>28.880</td>\n",
              "      <td>0</td>\n",
              "      <td>3866.85520</td>\n",
              "      <td>0</td>\n",
              "      <td>1</td>\n",
              "      <td>1</td>\n",
              "      <td>0</td>\n",
              "      <td>0</td>\n",
              "      <td>1</td>\n",
              "      <td>0</td>\n",
              "      <td>0</td>\n",
              "    </tr>\n",
              "  </tbody>\n",
              "</table>\n",
              "</div>\n",
              "    <div class=\"colab-df-buttons\">\n",
              "\n",
              "  <div class=\"colab-df-container\">\n",
              "    <button class=\"colab-df-convert\" onclick=\"convertToInteractive('df-c38eb407-1fb3-4c53-b973-d6b13517b185')\"\n",
              "            title=\"Convert this dataframe to an interactive table.\"\n",
              "            style=\"display:none;\">\n",
              "\n",
              "  <svg xmlns=\"http://www.w3.org/2000/svg\" height=\"24px\" viewBox=\"0 -960 960 960\">\n",
              "    <path d=\"M120-120v-720h720v720H120Zm60-500h600v-160H180v160Zm220 220h160v-160H400v160Zm0 220h160v-160H400v160ZM180-400h160v-160H180v160Zm440 0h160v-160H620v160ZM180-180h160v-160H180v160Zm440 0h160v-160H620v160Z\"/>\n",
              "  </svg>\n",
              "    </button>\n",
              "\n",
              "  <style>\n",
              "    .colab-df-container {\n",
              "      display:flex;\n",
              "      gap: 12px;\n",
              "    }\n",
              "\n",
              "    .colab-df-convert {\n",
              "      background-color: #E8F0FE;\n",
              "      border: none;\n",
              "      border-radius: 50%;\n",
              "      cursor: pointer;\n",
              "      display: none;\n",
              "      fill: #1967D2;\n",
              "      height: 32px;\n",
              "      padding: 0 0 0 0;\n",
              "      width: 32px;\n",
              "    }\n",
              "\n",
              "    .colab-df-convert:hover {\n",
              "      background-color: #E2EBFA;\n",
              "      box-shadow: 0px 1px 2px rgba(60, 64, 67, 0.3), 0px 1px 3px 1px rgba(60, 64, 67, 0.15);\n",
              "      fill: #174EA6;\n",
              "    }\n",
              "\n",
              "    .colab-df-buttons div {\n",
              "      margin-bottom: 4px;\n",
              "    }\n",
              "\n",
              "    [theme=dark] .colab-df-convert {\n",
              "      background-color: #3B4455;\n",
              "      fill: #D2E3FC;\n",
              "    }\n",
              "\n",
              "    [theme=dark] .colab-df-convert:hover {\n",
              "      background-color: #434B5C;\n",
              "      box-shadow: 0px 1px 3px 1px rgba(0, 0, 0, 0.15);\n",
              "      filter: drop-shadow(0px 1px 2px rgba(0, 0, 0, 0.3));\n",
              "      fill: #FFFFFF;\n",
              "    }\n",
              "  </style>\n",
              "\n",
              "    <script>\n",
              "      const buttonEl =\n",
              "        document.querySelector('#df-c38eb407-1fb3-4c53-b973-d6b13517b185 button.colab-df-convert');\n",
              "      buttonEl.style.display =\n",
              "        google.colab.kernel.accessAllowed ? 'block' : 'none';\n",
              "\n",
              "      async function convertToInteractive(key) {\n",
              "        const element = document.querySelector('#df-c38eb407-1fb3-4c53-b973-d6b13517b185');\n",
              "        const dataTable =\n",
              "          await google.colab.kernel.invokeFunction('convertToInteractive',\n",
              "                                                    [key], {});\n",
              "        if (!dataTable) return;\n",
              "\n",
              "        const docLinkHtml = 'Like what you see? Visit the ' +\n",
              "          '<a target=\"_blank\" href=https://colab.research.google.com/notebooks/data_table.ipynb>data table notebook</a>'\n",
              "          + ' to learn more about interactive tables.';\n",
              "        element.innerHTML = '';\n",
              "        dataTable['output_type'] = 'display_data';\n",
              "        await google.colab.output.renderOutput(dataTable, element);\n",
              "        const docLink = document.createElement('div');\n",
              "        docLink.innerHTML = docLinkHtml;\n",
              "        element.appendChild(docLink);\n",
              "      }\n",
              "    </script>\n",
              "  </div>\n",
              "\n",
              "\n",
              "<div id=\"df-68f35985-4afa-412d-92a5-227a3253248f\">\n",
              "  <button class=\"colab-df-quickchart\" onclick=\"quickchart('df-68f35985-4afa-412d-92a5-227a3253248f')\"\n",
              "            title=\"Suggest charts.\"\n",
              "            style=\"display:none;\">\n",
              "\n",
              "<svg xmlns=\"http://www.w3.org/2000/svg\" height=\"24px\"viewBox=\"0 0 24 24\"\n",
              "     width=\"24px\">\n",
              "    <g>\n",
              "        <path d=\"M19 3H5c-1.1 0-2 .9-2 2v14c0 1.1.9 2 2 2h14c1.1 0 2-.9 2-2V5c0-1.1-.9-2-2-2zM9 17H7v-7h2v7zm4 0h-2V7h2v10zm4 0h-2v-4h2v4z\"/>\n",
              "    </g>\n",
              "</svg>\n",
              "  </button>\n",
              "\n",
              "<style>\n",
              "  .colab-df-quickchart {\n",
              "      --bg-color: #E8F0FE;\n",
              "      --fill-color: #1967D2;\n",
              "      --hover-bg-color: #E2EBFA;\n",
              "      --hover-fill-color: #174EA6;\n",
              "      --disabled-fill-color: #AAA;\n",
              "      --disabled-bg-color: #DDD;\n",
              "  }\n",
              "\n",
              "  [theme=dark] .colab-df-quickchart {\n",
              "      --bg-color: #3B4455;\n",
              "      --fill-color: #D2E3FC;\n",
              "      --hover-bg-color: #434B5C;\n",
              "      --hover-fill-color: #FFFFFF;\n",
              "      --disabled-bg-color: #3B4455;\n",
              "      --disabled-fill-color: #666;\n",
              "  }\n",
              "\n",
              "  .colab-df-quickchart {\n",
              "    background-color: var(--bg-color);\n",
              "    border: none;\n",
              "    border-radius: 50%;\n",
              "    cursor: pointer;\n",
              "    display: none;\n",
              "    fill: var(--fill-color);\n",
              "    height: 32px;\n",
              "    padding: 0;\n",
              "    width: 32px;\n",
              "  }\n",
              "\n",
              "  .colab-df-quickchart:hover {\n",
              "    background-color: var(--hover-bg-color);\n",
              "    box-shadow: 0 1px 2px rgba(60, 64, 67, 0.3), 0 1px 3px 1px rgba(60, 64, 67, 0.15);\n",
              "    fill: var(--button-hover-fill-color);\n",
              "  }\n",
              "\n",
              "  .colab-df-quickchart-complete:disabled,\n",
              "  .colab-df-quickchart-complete:disabled:hover {\n",
              "    background-color: var(--disabled-bg-color);\n",
              "    fill: var(--disabled-fill-color);\n",
              "    box-shadow: none;\n",
              "  }\n",
              "\n",
              "  .colab-df-spinner {\n",
              "    border: 2px solid var(--fill-color);\n",
              "    border-color: transparent;\n",
              "    border-bottom-color: var(--fill-color);\n",
              "    animation:\n",
              "      spin 1s steps(1) infinite;\n",
              "  }\n",
              "\n",
              "  @keyframes spin {\n",
              "    0% {\n",
              "      border-color: transparent;\n",
              "      border-bottom-color: var(--fill-color);\n",
              "      border-left-color: var(--fill-color);\n",
              "    }\n",
              "    20% {\n",
              "      border-color: transparent;\n",
              "      border-left-color: var(--fill-color);\n",
              "      border-top-color: var(--fill-color);\n",
              "    }\n",
              "    30% {\n",
              "      border-color: transparent;\n",
              "      border-left-color: var(--fill-color);\n",
              "      border-top-color: var(--fill-color);\n",
              "      border-right-color: var(--fill-color);\n",
              "    }\n",
              "    40% {\n",
              "      border-color: transparent;\n",
              "      border-right-color: var(--fill-color);\n",
              "      border-top-color: var(--fill-color);\n",
              "    }\n",
              "    60% {\n",
              "      border-color: transparent;\n",
              "      border-right-color: var(--fill-color);\n",
              "    }\n",
              "    80% {\n",
              "      border-color: transparent;\n",
              "      border-right-color: var(--fill-color);\n",
              "      border-bottom-color: var(--fill-color);\n",
              "    }\n",
              "    90% {\n",
              "      border-color: transparent;\n",
              "      border-bottom-color: var(--fill-color);\n",
              "    }\n",
              "  }\n",
              "</style>\n",
              "\n",
              "  <script>\n",
              "    async function quickchart(key) {\n",
              "      const quickchartButtonEl =\n",
              "        document.querySelector('#' + key + ' button');\n",
              "      quickchartButtonEl.disabled = true;  // To prevent multiple clicks.\n",
              "      quickchartButtonEl.classList.add('colab-df-spinner');\n",
              "      try {\n",
              "        const charts = await google.colab.kernel.invokeFunction(\n",
              "            'suggestCharts', [key], {});\n",
              "      } catch (error) {\n",
              "        console.error('Error during call to suggestCharts:', error);\n",
              "      }\n",
              "      quickchartButtonEl.classList.remove('colab-df-spinner');\n",
              "      quickchartButtonEl.classList.add('colab-df-quickchart-complete');\n",
              "    }\n",
              "    (() => {\n",
              "      let quickchartButtonEl =\n",
              "        document.querySelector('#df-68f35985-4afa-412d-92a5-227a3253248f button');\n",
              "      quickchartButtonEl.style.display =\n",
              "        google.colab.kernel.accessAllowed ? 'block' : 'none';\n",
              "    })();\n",
              "  </script>\n",
              "</div>\n",
              "    </div>\n",
              "  </div>\n"
            ]
          },
          "metadata": {},
          "execution_count": 58
        }
      ]
    },
    {
      "cell_type": "code",
      "source": [
        "# Create X & y values (features and labels)\n",
        "X=insurance_one_hot.drop(\"charges\",axis=1)\n",
        "y=insurance_one_hot[\"charges\"]"
      ],
      "metadata": {
        "id": "JVeYokhwVdZo"
      },
      "execution_count": null,
      "outputs": []
    },
    {
      "cell_type": "code",
      "source": [
        "# View X\n",
        "X.head()"
      ],
      "metadata": {
        "colab": {
          "base_uri": "https://localhost:8080/",
          "height": 226
        },
        "id": "d6DptbA3WHd_",
        "outputId": "2fcc9af0-5c05-4109-b9be-064c5b720ecd"
      },
      "execution_count": null,
      "outputs": [
        {
          "output_type": "execute_result",
          "data": {
            "text/plain": [
              "   age     bmi  children  sex_female  sex_male  smoker_no  smoker_yes  \\\n",
              "0   19  27.900         0           1         0          0           1   \n",
              "1   18  33.770         1           0         1          1           0   \n",
              "2   28  33.000         3           0         1          1           0   \n",
              "3   33  22.705         0           0         1          1           0   \n",
              "4   32  28.880         0           0         1          1           0   \n",
              "\n",
              "   region_northeast  region_northwest  region_southeast  region_southwest  \n",
              "0                 0                 0                 0                 1  \n",
              "1                 0                 0                 1                 0  \n",
              "2                 0                 0                 1                 0  \n",
              "3                 0                 1                 0                 0  \n",
              "4                 0                 1                 0                 0  "
            ],
            "text/html": [
              "\n",
              "  <div id=\"df-1c0174c7-c16d-427f-a8ec-e06523b4d730\" class=\"colab-df-container\">\n",
              "    <div>\n",
              "<style scoped>\n",
              "    .dataframe tbody tr th:only-of-type {\n",
              "        vertical-align: middle;\n",
              "    }\n",
              "\n",
              "    .dataframe tbody tr th {\n",
              "        vertical-align: top;\n",
              "    }\n",
              "\n",
              "    .dataframe thead th {\n",
              "        text-align: right;\n",
              "    }\n",
              "</style>\n",
              "<table border=\"1\" class=\"dataframe\">\n",
              "  <thead>\n",
              "    <tr style=\"text-align: right;\">\n",
              "      <th></th>\n",
              "      <th>age</th>\n",
              "      <th>bmi</th>\n",
              "      <th>children</th>\n",
              "      <th>sex_female</th>\n",
              "      <th>sex_male</th>\n",
              "      <th>smoker_no</th>\n",
              "      <th>smoker_yes</th>\n",
              "      <th>region_northeast</th>\n",
              "      <th>region_northwest</th>\n",
              "      <th>region_southeast</th>\n",
              "      <th>region_southwest</th>\n",
              "    </tr>\n",
              "  </thead>\n",
              "  <tbody>\n",
              "    <tr>\n",
              "      <th>0</th>\n",
              "      <td>19</td>\n",
              "      <td>27.900</td>\n",
              "      <td>0</td>\n",
              "      <td>1</td>\n",
              "      <td>0</td>\n",
              "      <td>0</td>\n",
              "      <td>1</td>\n",
              "      <td>0</td>\n",
              "      <td>0</td>\n",
              "      <td>0</td>\n",
              "      <td>1</td>\n",
              "    </tr>\n",
              "    <tr>\n",
              "      <th>1</th>\n",
              "      <td>18</td>\n",
              "      <td>33.770</td>\n",
              "      <td>1</td>\n",
              "      <td>0</td>\n",
              "      <td>1</td>\n",
              "      <td>1</td>\n",
              "      <td>0</td>\n",
              "      <td>0</td>\n",
              "      <td>0</td>\n",
              "      <td>1</td>\n",
              "      <td>0</td>\n",
              "    </tr>\n",
              "    <tr>\n",
              "      <th>2</th>\n",
              "      <td>28</td>\n",
              "      <td>33.000</td>\n",
              "      <td>3</td>\n",
              "      <td>0</td>\n",
              "      <td>1</td>\n",
              "      <td>1</td>\n",
              "      <td>0</td>\n",
              "      <td>0</td>\n",
              "      <td>0</td>\n",
              "      <td>1</td>\n",
              "      <td>0</td>\n",
              "    </tr>\n",
              "    <tr>\n",
              "      <th>3</th>\n",
              "      <td>33</td>\n",
              "      <td>22.705</td>\n",
              "      <td>0</td>\n",
              "      <td>0</td>\n",
              "      <td>1</td>\n",
              "      <td>1</td>\n",
              "      <td>0</td>\n",
              "      <td>0</td>\n",
              "      <td>1</td>\n",
              "      <td>0</td>\n",
              "      <td>0</td>\n",
              "    </tr>\n",
              "    <tr>\n",
              "      <th>4</th>\n",
              "      <td>32</td>\n",
              "      <td>28.880</td>\n",
              "      <td>0</td>\n",
              "      <td>0</td>\n",
              "      <td>1</td>\n",
              "      <td>1</td>\n",
              "      <td>0</td>\n",
              "      <td>0</td>\n",
              "      <td>1</td>\n",
              "      <td>0</td>\n",
              "      <td>0</td>\n",
              "    </tr>\n",
              "  </tbody>\n",
              "</table>\n",
              "</div>\n",
              "    <div class=\"colab-df-buttons\">\n",
              "\n",
              "  <div class=\"colab-df-container\">\n",
              "    <button class=\"colab-df-convert\" onclick=\"convertToInteractive('df-1c0174c7-c16d-427f-a8ec-e06523b4d730')\"\n",
              "            title=\"Convert this dataframe to an interactive table.\"\n",
              "            style=\"display:none;\">\n",
              "\n",
              "  <svg xmlns=\"http://www.w3.org/2000/svg\" height=\"24px\" viewBox=\"0 -960 960 960\">\n",
              "    <path d=\"M120-120v-720h720v720H120Zm60-500h600v-160H180v160Zm220 220h160v-160H400v160Zm0 220h160v-160H400v160ZM180-400h160v-160H180v160Zm440 0h160v-160H620v160ZM180-180h160v-160H180v160Zm440 0h160v-160H620v160Z\"/>\n",
              "  </svg>\n",
              "    </button>\n",
              "\n",
              "  <style>\n",
              "    .colab-df-container {\n",
              "      display:flex;\n",
              "      gap: 12px;\n",
              "    }\n",
              "\n",
              "    .colab-df-convert {\n",
              "      background-color: #E8F0FE;\n",
              "      border: none;\n",
              "      border-radius: 50%;\n",
              "      cursor: pointer;\n",
              "      display: none;\n",
              "      fill: #1967D2;\n",
              "      height: 32px;\n",
              "      padding: 0 0 0 0;\n",
              "      width: 32px;\n",
              "    }\n",
              "\n",
              "    .colab-df-convert:hover {\n",
              "      background-color: #E2EBFA;\n",
              "      box-shadow: 0px 1px 2px rgba(60, 64, 67, 0.3), 0px 1px 3px 1px rgba(60, 64, 67, 0.15);\n",
              "      fill: #174EA6;\n",
              "    }\n",
              "\n",
              "    .colab-df-buttons div {\n",
              "      margin-bottom: 4px;\n",
              "    }\n",
              "\n",
              "    [theme=dark] .colab-df-convert {\n",
              "      background-color: #3B4455;\n",
              "      fill: #D2E3FC;\n",
              "    }\n",
              "\n",
              "    [theme=dark] .colab-df-convert:hover {\n",
              "      background-color: #434B5C;\n",
              "      box-shadow: 0px 1px 3px 1px rgba(0, 0, 0, 0.15);\n",
              "      filter: drop-shadow(0px 1px 2px rgba(0, 0, 0, 0.3));\n",
              "      fill: #FFFFFF;\n",
              "    }\n",
              "  </style>\n",
              "\n",
              "    <script>\n",
              "      const buttonEl =\n",
              "        document.querySelector('#df-1c0174c7-c16d-427f-a8ec-e06523b4d730 button.colab-df-convert');\n",
              "      buttonEl.style.display =\n",
              "        google.colab.kernel.accessAllowed ? 'block' : 'none';\n",
              "\n",
              "      async function convertToInteractive(key) {\n",
              "        const element = document.querySelector('#df-1c0174c7-c16d-427f-a8ec-e06523b4d730');\n",
              "        const dataTable =\n",
              "          await google.colab.kernel.invokeFunction('convertToInteractive',\n",
              "                                                    [key], {});\n",
              "        if (!dataTable) return;\n",
              "\n",
              "        const docLinkHtml = 'Like what you see? Visit the ' +\n",
              "          '<a target=\"_blank\" href=https://colab.research.google.com/notebooks/data_table.ipynb>data table notebook</a>'\n",
              "          + ' to learn more about interactive tables.';\n",
              "        element.innerHTML = '';\n",
              "        dataTable['output_type'] = 'display_data';\n",
              "        await google.colab.output.renderOutput(dataTable, element);\n",
              "        const docLink = document.createElement('div');\n",
              "        docLink.innerHTML = docLinkHtml;\n",
              "        element.appendChild(docLink);\n",
              "      }\n",
              "    </script>\n",
              "  </div>\n",
              "\n",
              "\n",
              "<div id=\"df-f152782b-b536-4669-86db-cf8b43769e39\">\n",
              "  <button class=\"colab-df-quickchart\" onclick=\"quickchart('df-f152782b-b536-4669-86db-cf8b43769e39')\"\n",
              "            title=\"Suggest charts.\"\n",
              "            style=\"display:none;\">\n",
              "\n",
              "<svg xmlns=\"http://www.w3.org/2000/svg\" height=\"24px\"viewBox=\"0 0 24 24\"\n",
              "     width=\"24px\">\n",
              "    <g>\n",
              "        <path d=\"M19 3H5c-1.1 0-2 .9-2 2v14c0 1.1.9 2 2 2h14c1.1 0 2-.9 2-2V5c0-1.1-.9-2-2-2zM9 17H7v-7h2v7zm4 0h-2V7h2v10zm4 0h-2v-4h2v4z\"/>\n",
              "    </g>\n",
              "</svg>\n",
              "  </button>\n",
              "\n",
              "<style>\n",
              "  .colab-df-quickchart {\n",
              "      --bg-color: #E8F0FE;\n",
              "      --fill-color: #1967D2;\n",
              "      --hover-bg-color: #E2EBFA;\n",
              "      --hover-fill-color: #174EA6;\n",
              "      --disabled-fill-color: #AAA;\n",
              "      --disabled-bg-color: #DDD;\n",
              "  }\n",
              "\n",
              "  [theme=dark] .colab-df-quickchart {\n",
              "      --bg-color: #3B4455;\n",
              "      --fill-color: #D2E3FC;\n",
              "      --hover-bg-color: #434B5C;\n",
              "      --hover-fill-color: #FFFFFF;\n",
              "      --disabled-bg-color: #3B4455;\n",
              "      --disabled-fill-color: #666;\n",
              "  }\n",
              "\n",
              "  .colab-df-quickchart {\n",
              "    background-color: var(--bg-color);\n",
              "    border: none;\n",
              "    border-radius: 50%;\n",
              "    cursor: pointer;\n",
              "    display: none;\n",
              "    fill: var(--fill-color);\n",
              "    height: 32px;\n",
              "    padding: 0;\n",
              "    width: 32px;\n",
              "  }\n",
              "\n",
              "  .colab-df-quickchart:hover {\n",
              "    background-color: var(--hover-bg-color);\n",
              "    box-shadow: 0 1px 2px rgba(60, 64, 67, 0.3), 0 1px 3px 1px rgba(60, 64, 67, 0.15);\n",
              "    fill: var(--button-hover-fill-color);\n",
              "  }\n",
              "\n",
              "  .colab-df-quickchart-complete:disabled,\n",
              "  .colab-df-quickchart-complete:disabled:hover {\n",
              "    background-color: var(--disabled-bg-color);\n",
              "    fill: var(--disabled-fill-color);\n",
              "    box-shadow: none;\n",
              "  }\n",
              "\n",
              "  .colab-df-spinner {\n",
              "    border: 2px solid var(--fill-color);\n",
              "    border-color: transparent;\n",
              "    border-bottom-color: var(--fill-color);\n",
              "    animation:\n",
              "      spin 1s steps(1) infinite;\n",
              "  }\n",
              "\n",
              "  @keyframes spin {\n",
              "    0% {\n",
              "      border-color: transparent;\n",
              "      border-bottom-color: var(--fill-color);\n",
              "      border-left-color: var(--fill-color);\n",
              "    }\n",
              "    20% {\n",
              "      border-color: transparent;\n",
              "      border-left-color: var(--fill-color);\n",
              "      border-top-color: var(--fill-color);\n",
              "    }\n",
              "    30% {\n",
              "      border-color: transparent;\n",
              "      border-left-color: var(--fill-color);\n",
              "      border-top-color: var(--fill-color);\n",
              "      border-right-color: var(--fill-color);\n",
              "    }\n",
              "    40% {\n",
              "      border-color: transparent;\n",
              "      border-right-color: var(--fill-color);\n",
              "      border-top-color: var(--fill-color);\n",
              "    }\n",
              "    60% {\n",
              "      border-color: transparent;\n",
              "      border-right-color: var(--fill-color);\n",
              "    }\n",
              "    80% {\n",
              "      border-color: transparent;\n",
              "      border-right-color: var(--fill-color);\n",
              "      border-bottom-color: var(--fill-color);\n",
              "    }\n",
              "    90% {\n",
              "      border-color: transparent;\n",
              "      border-bottom-color: var(--fill-color);\n",
              "    }\n",
              "  }\n",
              "</style>\n",
              "\n",
              "  <script>\n",
              "    async function quickchart(key) {\n",
              "      const quickchartButtonEl =\n",
              "        document.querySelector('#' + key + ' button');\n",
              "      quickchartButtonEl.disabled = true;  // To prevent multiple clicks.\n",
              "      quickchartButtonEl.classList.add('colab-df-spinner');\n",
              "      try {\n",
              "        const charts = await google.colab.kernel.invokeFunction(\n",
              "            'suggestCharts', [key], {});\n",
              "      } catch (error) {\n",
              "        console.error('Error during call to suggestCharts:', error);\n",
              "      }\n",
              "      quickchartButtonEl.classList.remove('colab-df-spinner');\n",
              "      quickchartButtonEl.classList.add('colab-df-quickchart-complete');\n",
              "    }\n",
              "    (() => {\n",
              "      let quickchartButtonEl =\n",
              "        document.querySelector('#df-f152782b-b536-4669-86db-cf8b43769e39 button');\n",
              "      quickchartButtonEl.style.display =\n",
              "        google.colab.kernel.accessAllowed ? 'block' : 'none';\n",
              "    })();\n",
              "  </script>\n",
              "</div>\n",
              "    </div>\n",
              "  </div>\n"
            ]
          },
          "metadata": {},
          "execution_count": 60
        }
      ]
    },
    {
      "cell_type": "code",
      "source": [
        "# View y\n",
        "y.head()"
      ],
      "metadata": {
        "colab": {
          "base_uri": "https://localhost:8080/"
        },
        "id": "CHLW9wJoWJ4U",
        "outputId": "d1634945-fc9f-430f-94ba-11ed494771db"
      },
      "execution_count": null,
      "outputs": [
        {
          "output_type": "execute_result",
          "data": {
            "text/plain": [
              "0    16884.92400\n",
              "1     1725.55230\n",
              "2     4449.46200\n",
              "3    21984.47061\n",
              "4     3866.85520\n",
              "Name: charges, dtype: float64"
            ]
          },
          "metadata": {},
          "execution_count": 61
        }
      ]
    },
    {
      "cell_type": "code",
      "source": [
        "# Create training and test sets\n",
        "from sklearn.model_selection import train_test_split\n",
        "X_train, X_test, y_train, y_test = train_test_split(X,y,test_size=0.2, random_state=42)\n",
        "len(X), len(X_train), len(X_test)"
      ],
      "metadata": {
        "colab": {
          "base_uri": "https://localhost:8080/"
        },
        "id": "MelWlWHwVyMz",
        "outputId": "7815549a-ed6b-45aa-d361-63e698c2c208"
      },
      "execution_count": null,
      "outputs": [
        {
          "output_type": "execute_result",
          "data": {
            "text/plain": [
              "(1338, 1070, 268)"
            ]
          },
          "metadata": {},
          "execution_count": 62
        }
      ]
    },
    {
      "cell_type": "code",
      "source": [
        "# Build a neural network\n",
        "tf.random.set_seed(42)\n",
        "\n",
        "# 1. Create a model\n",
        "insurance_model=tf.keras.Sequential([\n",
        "    tf.keras.layers.Dense(10),\n",
        "    tf.keras.layers.Dense(1)\n",
        "])\n",
        "\n",
        "# 2. Compile the model\n",
        "insurance_model.compile(loss=tf.keras.losses.mae,\n",
        "                        optimizer=tf.keras.optimizers.SGD(),\n",
        "                        metrics=[\"mae\"])\n",
        "\n",
        "# 3. Fit the model\n",
        "insurance_model.fit(tf.expand_dims(X_train,axis=-1),y_train,epochs=100)"
      ],
      "metadata": {
        "colab": {
          "base_uri": "https://localhost:8080/"
        },
        "id": "JnFiE0XAV2Az",
        "outputId": "083a28b0-a229-4729-caaf-69d4d70251c9"
      },
      "execution_count": null,
      "outputs": [
        {
          "output_type": "stream",
          "name": "stdout",
          "text": [
            "Epoch 1/100\n",
            "34/34 [==============================] - 1s 3ms/step - loss: 13277.7900 - mae: 13277.7900\n",
            "Epoch 2/100\n",
            "34/34 [==============================] - 0s 3ms/step - loss: 12384.8770 - mae: 12384.8770\n",
            "Epoch 3/100\n",
            "34/34 [==============================] - 0s 3ms/step - loss: 12179.9072 - mae: 12179.9072\n",
            "Epoch 4/100\n",
            "34/34 [==============================] - 0s 3ms/step - loss: 12107.4336 - mae: 12107.4336\n",
            "Epoch 5/100\n",
            "34/34 [==============================] - 0s 4ms/step - loss: 11998.2656 - mae: 11998.2656\n",
            "Epoch 6/100\n",
            "34/34 [==============================] - 0s 3ms/step - loss: 11821.8750 - mae: 11821.8750\n",
            "Epoch 7/100\n",
            "34/34 [==============================] - 0s 3ms/step - loss: 11514.2510 - mae: 11514.2510\n",
            "Epoch 8/100\n",
            "34/34 [==============================] - 0s 3ms/step - loss: 11020.5918 - mae: 11020.5918\n",
            "Epoch 9/100\n",
            "34/34 [==============================] - 0s 2ms/step - loss: 10408.3652 - mae: 10408.3652\n",
            "Epoch 10/100\n",
            "34/34 [==============================] - 0s 2ms/step - loss: 9763.8301 - mae: 9763.8301\n",
            "Epoch 11/100\n",
            "34/34 [==============================] - 0s 2ms/step - loss: 9230.9502 - mae: 9230.9502\n",
            "Epoch 12/100\n",
            "34/34 [==============================] - 0s 3ms/step - loss: 8854.4980 - mae: 8854.4980\n",
            "Epoch 13/100\n",
            "34/34 [==============================] - 0s 2ms/step - loss: 8664.7520 - mae: 8664.7520\n",
            "Epoch 14/100\n",
            "34/34 [==============================] - 0s 2ms/step - loss: 8581.7715 - mae: 8581.7715\n",
            "Epoch 15/100\n",
            "34/34 [==============================] - 0s 3ms/step - loss: 8491.4697 - mae: 8491.4697\n",
            "Epoch 16/100\n",
            "34/34 [==============================] - 0s 3ms/step - loss: 8518.4219 - mae: 8518.4219\n",
            "Epoch 17/100\n",
            "34/34 [==============================] - 0s 2ms/step - loss: 8588.0664 - mae: 8588.0664\n",
            "Epoch 18/100\n",
            "34/34 [==============================] - 0s 3ms/step - loss: 8528.0293 - mae: 8528.0293\n",
            "Epoch 19/100\n",
            "34/34 [==============================] - 0s 3ms/step - loss: 8484.9922 - mae: 8484.9922\n",
            "Epoch 20/100\n",
            "34/34 [==============================] - 0s 2ms/step - loss: 8591.1230 - mae: 8591.1230\n",
            "Epoch 21/100\n",
            "34/34 [==============================] - 0s 3ms/step - loss: 8503.1025 - mae: 8503.1025\n",
            "Epoch 22/100\n",
            "34/34 [==============================] - 0s 3ms/step - loss: 8614.4297 - mae: 8614.4297\n",
            "Epoch 23/100\n",
            "34/34 [==============================] - 0s 3ms/step - loss: 8543.7500 - mae: 8543.7500\n",
            "Epoch 24/100\n",
            "34/34 [==============================] - 0s 3ms/step - loss: 8499.8027 - mae: 8499.8027\n",
            "Epoch 25/100\n",
            "34/34 [==============================] - 0s 4ms/step - loss: 8407.2129 - mae: 8407.2129\n",
            "Epoch 26/100\n",
            "34/34 [==============================] - 0s 3ms/step - loss: 8389.3223 - mae: 8389.3223\n",
            "Epoch 27/100\n",
            "34/34 [==============================] - 0s 3ms/step - loss: 8533.2285 - mae: 8533.2285\n",
            "Epoch 28/100\n",
            "34/34 [==============================] - 0s 2ms/step - loss: 8427.1465 - mae: 8427.1465\n",
            "Epoch 29/100\n",
            "34/34 [==============================] - 0s 2ms/step - loss: 8425.3975 - mae: 8425.3975\n",
            "Epoch 30/100\n",
            "34/34 [==============================] - 0s 2ms/step - loss: 8491.0361 - mae: 8491.0361\n",
            "Epoch 31/100\n",
            "34/34 [==============================] - 0s 2ms/step - loss: 8428.9668 - mae: 8428.9668\n",
            "Epoch 32/100\n",
            "34/34 [==============================] - 0s 2ms/step - loss: 8468.7695 - mae: 8468.7695\n",
            "Epoch 33/100\n",
            "34/34 [==============================] - 0s 2ms/step - loss: 8393.1689 - mae: 8393.1689\n",
            "Epoch 34/100\n",
            "34/34 [==============================] - 0s 2ms/step - loss: 8417.4424 - mae: 8417.4424\n",
            "Epoch 35/100\n",
            "34/34 [==============================] - 0s 2ms/step - loss: 8427.2236 - mae: 8427.2236\n",
            "Epoch 36/100\n",
            "34/34 [==============================] - 0s 2ms/step - loss: 8441.1221 - mae: 8441.1221\n",
            "Epoch 37/100\n",
            "34/34 [==============================] - 0s 2ms/step - loss: 8426.0586 - mae: 8426.0586\n",
            "Epoch 38/100\n",
            "34/34 [==============================] - 0s 2ms/step - loss: 8384.1084 - mae: 8384.1084\n",
            "Epoch 39/100\n",
            "34/34 [==============================] - 0s 2ms/step - loss: 8435.7402 - mae: 8435.7402\n",
            "Epoch 40/100\n",
            "34/34 [==============================] - 0s 2ms/step - loss: 8351.1650 - mae: 8351.1650\n",
            "Epoch 41/100\n",
            "34/34 [==============================] - 0s 2ms/step - loss: 8418.2354 - mae: 8418.2354\n",
            "Epoch 42/100\n",
            "34/34 [==============================] - 0s 2ms/step - loss: 8389.8955 - mae: 8389.8955\n",
            "Epoch 43/100\n",
            "34/34 [==============================] - 0s 2ms/step - loss: 8474.9814 - mae: 8474.9814\n",
            "Epoch 44/100\n",
            "34/34 [==============================] - 0s 2ms/step - loss: 8381.9102 - mae: 8381.9102\n",
            "Epoch 45/100\n",
            "34/34 [==============================] - 0s 2ms/step - loss: 8424.4932 - mae: 8424.4932\n",
            "Epoch 46/100\n",
            "34/34 [==============================] - 0s 2ms/step - loss: 8400.0762 - mae: 8400.0762\n",
            "Epoch 47/100\n",
            "34/34 [==============================] - 0s 2ms/step - loss: 8403.9385 - mae: 8403.9385\n",
            "Epoch 48/100\n",
            "34/34 [==============================] - 0s 2ms/step - loss: 8355.1758 - mae: 8355.1758\n",
            "Epoch 49/100\n",
            "34/34 [==============================] - 0s 2ms/step - loss: 8418.5010 - mae: 8418.5010\n",
            "Epoch 50/100\n",
            "34/34 [==============================] - 0s 3ms/step - loss: 8400.7246 - mae: 8400.7246\n",
            "Epoch 51/100\n",
            "34/34 [==============================] - 0s 2ms/step - loss: 8356.7520 - mae: 8356.7520\n",
            "Epoch 52/100\n",
            "34/34 [==============================] - 0s 2ms/step - loss: 8367.1035 - mae: 8367.1035\n",
            "Epoch 53/100\n",
            "34/34 [==============================] - 0s 2ms/step - loss: 8443.8262 - mae: 8443.8262\n",
            "Epoch 54/100\n",
            "34/34 [==============================] - 0s 2ms/step - loss: 8403.7021 - mae: 8403.7021\n",
            "Epoch 55/100\n",
            "34/34 [==============================] - 0s 2ms/step - loss: 8361.5693 - mae: 8361.5693\n",
            "Epoch 56/100\n",
            "34/34 [==============================] - 0s 2ms/step - loss: 8371.7607 - mae: 8371.7607\n",
            "Epoch 57/100\n",
            "34/34 [==============================] - 0s 2ms/step - loss: 8389.3418 - mae: 8389.3418\n",
            "Epoch 58/100\n",
            "34/34 [==============================] - 0s 2ms/step - loss: 8342.7852 - mae: 8342.7852\n",
            "Epoch 59/100\n",
            "34/34 [==============================] - 0s 2ms/step - loss: 8410.5381 - mae: 8410.5381\n",
            "Epoch 60/100\n",
            "34/34 [==============================] - 0s 2ms/step - loss: 8436.0547 - mae: 8436.0547\n",
            "Epoch 61/100\n",
            "34/34 [==============================] - 0s 2ms/step - loss: 8413.3311 - mae: 8413.3311\n",
            "Epoch 62/100\n",
            "34/34 [==============================] - 0s 2ms/step - loss: 8347.8672 - mae: 8347.8672\n",
            "Epoch 63/100\n",
            "34/34 [==============================] - 0s 2ms/step - loss: 8376.3643 - mae: 8376.3643\n",
            "Epoch 64/100\n",
            "34/34 [==============================] - 0s 3ms/step - loss: 8394.1426 - mae: 8394.1426\n",
            "Epoch 65/100\n",
            "34/34 [==============================] - 0s 2ms/step - loss: 8387.2568 - mae: 8387.2568\n",
            "Epoch 66/100\n",
            "34/34 [==============================] - 0s 2ms/step - loss: 8358.2109 - mae: 8358.2109\n",
            "Epoch 67/100\n",
            "34/34 [==============================] - 0s 2ms/step - loss: 8336.2373 - mae: 8336.2373\n",
            "Epoch 68/100\n",
            "34/34 [==============================] - 0s 2ms/step - loss: 8324.3828 - mae: 8324.3828\n",
            "Epoch 69/100\n",
            "34/34 [==============================] - 0s 2ms/step - loss: 8355.1416 - mae: 8355.1416\n",
            "Epoch 70/100\n",
            "34/34 [==============================] - 0s 2ms/step - loss: 8414.1631 - mae: 8414.1631\n",
            "Epoch 71/100\n",
            "34/34 [==============================] - 0s 2ms/step - loss: 8358.2148 - mae: 8358.2148\n",
            "Epoch 72/100\n",
            "34/34 [==============================] - 0s 2ms/step - loss: 8361.6963 - mae: 8361.6963\n",
            "Epoch 73/100\n",
            "34/34 [==============================] - 0s 2ms/step - loss: 8354.5605 - mae: 8354.5605\n",
            "Epoch 74/100\n",
            "34/34 [==============================] - 0s 2ms/step - loss: 8361.0098 - mae: 8361.0098\n",
            "Epoch 75/100\n",
            "34/34 [==============================] - 0s 2ms/step - loss: 8329.6094 - mae: 8329.6094\n",
            "Epoch 76/100\n",
            "34/34 [==============================] - 0s 2ms/step - loss: 8336.8809 - mae: 8336.8809\n",
            "Epoch 77/100\n",
            "34/34 [==============================] - 0s 2ms/step - loss: 8377.8516 - mae: 8377.8516\n",
            "Epoch 78/100\n",
            "34/34 [==============================] - 0s 2ms/step - loss: 8360.5576 - mae: 8360.5576\n",
            "Epoch 79/100\n",
            "34/34 [==============================] - 0s 2ms/step - loss: 8399.3340 - mae: 8399.3340\n",
            "Epoch 80/100\n",
            "34/34 [==============================] - 0s 2ms/step - loss: 8325.0938 - mae: 8325.0938\n",
            "Epoch 81/100\n",
            "34/34 [==============================] - 0s 2ms/step - loss: 8361.0039 - mae: 8361.0039\n",
            "Epoch 82/100\n",
            "34/34 [==============================] - 0s 2ms/step - loss: 8344.2080 - mae: 8344.2080\n",
            "Epoch 83/100\n",
            "34/34 [==============================] - 0s 2ms/step - loss: 8413.8340 - mae: 8413.8340\n",
            "Epoch 84/100\n",
            "34/34 [==============================] - 0s 2ms/step - loss: 8348.3467 - mae: 8348.3467\n",
            "Epoch 85/100\n",
            "34/34 [==============================] - 0s 2ms/step - loss: 8373.2588 - mae: 8373.2588\n",
            "Epoch 86/100\n",
            "34/34 [==============================] - 0s 2ms/step - loss: 8363.8154 - mae: 8363.8154\n",
            "Epoch 87/100\n",
            "34/34 [==============================] - 0s 2ms/step - loss: 8354.2295 - mae: 8354.2295\n",
            "Epoch 88/100\n",
            "34/34 [==============================] - 0s 2ms/step - loss: 8351.4707 - mae: 8351.4707\n",
            "Epoch 89/100\n",
            "34/34 [==============================] - 0s 2ms/step - loss: 8387.5615 - mae: 8387.5615\n",
            "Epoch 90/100\n",
            "34/34 [==============================] - 0s 2ms/step - loss: 8324.5273 - mae: 8324.5273\n",
            "Epoch 91/100\n",
            "34/34 [==============================] - 0s 2ms/step - loss: 8355.6582 - mae: 8355.6582\n",
            "Epoch 92/100\n",
            "34/34 [==============================] - 0s 2ms/step - loss: 8379.4990 - mae: 8379.4990\n",
            "Epoch 93/100\n",
            "34/34 [==============================] - 0s 2ms/step - loss: 8331.3398 - mae: 8331.3398\n",
            "Epoch 94/100\n",
            "34/34 [==============================] - 0s 2ms/step - loss: 8321.0381 - mae: 8321.0381\n",
            "Epoch 95/100\n",
            "34/34 [==============================] - 0s 2ms/step - loss: 8346.3525 - mae: 8346.3525\n",
            "Epoch 96/100\n",
            "34/34 [==============================] - 0s 2ms/step - loss: 8352.2920 - mae: 8352.2920\n",
            "Epoch 97/100\n",
            "34/34 [==============================] - 0s 2ms/step - loss: 8359.2266 - mae: 8359.2266\n",
            "Epoch 98/100\n",
            "34/34 [==============================] - 0s 2ms/step - loss: 8352.9053 - mae: 8352.9053\n",
            "Epoch 99/100\n",
            "34/34 [==============================] - 0s 2ms/step - loss: 8328.6484 - mae: 8328.6484\n",
            "Epoch 100/100\n",
            "34/34 [==============================] - 0s 2ms/step - loss: 8323.4580 - mae: 8323.4580\n"
          ]
        },
        {
          "output_type": "execute_result",
          "data": {
            "text/plain": [
              "<keras.src.callbacks.History at 0x78f6a8125b40>"
            ]
          },
          "metadata": {},
          "execution_count": 63
        }
      ]
    },
    {
      "cell_type": "code",
      "source": [
        "# Check the results of insurance model on the test data\n",
        "insurance_model.evaluate(X_test,y_test)"
      ],
      "metadata": {
        "colab": {
          "base_uri": "https://localhost:8080/"
        },
        "id": "v4INiwp5dSkv",
        "outputId": "497c05e2-1a89-49db-83ed-a456cae715d3"
      },
      "execution_count": null,
      "outputs": [
        {
          "output_type": "stream",
          "name": "stdout",
          "text": [
            "9/9 [==============================] - 0s 3ms/step - loss: 8930.0596 - mae: 8930.0596\n"
          ]
        },
        {
          "output_type": "execute_result",
          "data": {
            "text/plain": [
              "[8930.0595703125, 8930.0595703125]"
            ]
          },
          "metadata": {},
          "execution_count": 64
        }
      ]
    },
    {
      "cell_type": "code",
      "source": [
        "y_train.median(), y_train.mean()"
      ],
      "metadata": {
        "colab": {
          "base_uri": "https://localhost:8080/"
        },
        "id": "0yWJDGMveENd",
        "outputId": "139e0931-6a9e-4fa9-d5c4-542fcf30e9fd"
      },
      "execution_count": null,
      "outputs": [
        {
          "output_type": "execute_result",
          "data": {
            "text/plain": [
              "(9575.4421, 13346.089736364485)"
            ]
          },
          "metadata": {},
          "execution_count": 65
        }
      ]
    },
    {
      "cell_type": "markdown",
      "source": [
        "\n",
        "Right now it looks like our model isn't performing well...let's try and improve it\n",
        "\n",
        "To (try) improve our model, we'll run 2 experiments:\n",
        "1. Add an extra layer with more hidden units and use Adam\n",
        "2. Train for longer"
      ],
      "metadata": {
        "id": "ksTQ4RzteICQ"
      }
    },
    {
      "cell_type": "code",
      "source": [
        "# Set random seed\n",
        "tf.random.set_seed(42)\n",
        "\n",
        "# 1. Create the model\n",
        "insurance_model_2=tf.keras.Sequential([\n",
        "    tf.keras.layers.Dense(100),\n",
        "    tf.keras.layers.Dense(10),\n",
        "    tf.keras.layers.Dense(1),\n",
        "\n",
        "])\n",
        "\n",
        "# 2. Compile the model\n",
        "insurance_model_2.compile(loss=tf.keras.losses.mae,\n",
        "                          optimizer=tf.keras.optimizers.Adam(),\n",
        "                          metrics=\"mae\")\n",
        "\n",
        "# 3.Fit the model\n",
        "insurance_model_2.fit(X_train,y_train,epochs=100)"
      ],
      "metadata": {
        "colab": {
          "base_uri": "https://localhost:8080/"
        },
        "id": "DdNScyILf57Z",
        "outputId": "42cb7213-f611-434c-8194-b2cb6071b8a0"
      },
      "execution_count": null,
      "outputs": [
        {
          "output_type": "stream",
          "name": "stdout",
          "text": [
            "Epoch 1/100\n",
            "34/34 [==============================] - 1s 2ms/step - loss: 13262.9209 - mae: 13262.9209\n",
            "Epoch 2/100\n",
            "34/34 [==============================] - 0s 2ms/step - loss: 13038.3926 - mae: 13038.3926\n",
            "Epoch 3/100\n",
            "34/34 [==============================] - 0s 2ms/step - loss: 12592.8818 - mae: 12592.8818\n",
            "Epoch 4/100\n",
            "34/34 [==============================] - 0s 2ms/step - loss: 11768.3379 - mae: 11768.3379\n",
            "Epoch 5/100\n",
            "34/34 [==============================] - 0s 2ms/step - loss: 10489.4238 - mae: 10489.4238\n",
            "Epoch 6/100\n",
            "34/34 [==============================] - 0s 2ms/step - loss: 9008.5146 - mae: 9008.5146\n",
            "Epoch 7/100\n",
            "34/34 [==============================] - 0s 2ms/step - loss: 7839.1113 - mae: 7839.1113\n",
            "Epoch 8/100\n",
            "34/34 [==============================] - 0s 2ms/step - loss: 7454.4521 - mae: 7454.4521\n",
            "Epoch 9/100\n",
            "34/34 [==============================] - 0s 2ms/step - loss: 7402.6074 - mae: 7402.6074\n",
            "Epoch 10/100\n",
            "34/34 [==============================] - 0s 2ms/step - loss: 7382.9409 - mae: 7382.9409\n",
            "Epoch 11/100\n",
            "34/34 [==============================] - 0s 2ms/step - loss: 7363.7642 - mae: 7363.7642\n",
            "Epoch 12/100\n",
            "34/34 [==============================] - 0s 2ms/step - loss: 7341.2949 - mae: 7341.2949\n",
            "Epoch 13/100\n",
            "34/34 [==============================] - 0s 2ms/step - loss: 7320.4067 - mae: 7320.4067\n",
            "Epoch 14/100\n",
            "34/34 [==============================] - 0s 2ms/step - loss: 7297.4136 - mae: 7297.4136\n",
            "Epoch 15/100\n",
            "34/34 [==============================] - 0s 2ms/step - loss: 7277.9854 - mae: 7277.9854\n",
            "Epoch 16/100\n",
            "34/34 [==============================] - 0s 2ms/step - loss: 7255.2314 - mae: 7255.2314\n",
            "Epoch 17/100\n",
            "34/34 [==============================] - 0s 2ms/step - loss: 7232.6001 - mae: 7232.6001\n",
            "Epoch 18/100\n",
            "34/34 [==============================] - 0s 2ms/step - loss: 7208.2808 - mae: 7208.2808\n",
            "Epoch 19/100\n",
            "34/34 [==============================] - 0s 2ms/step - loss: 7184.1953 - mae: 7184.1953\n",
            "Epoch 20/100\n",
            "34/34 [==============================] - 0s 2ms/step - loss: 7158.2832 - mae: 7158.2832\n",
            "Epoch 21/100\n",
            "34/34 [==============================] - 0s 2ms/step - loss: 7136.7041 - mae: 7136.7041\n",
            "Epoch 22/100\n",
            "34/34 [==============================] - 0s 2ms/step - loss: 7107.1919 - mae: 7107.1919\n",
            "Epoch 23/100\n",
            "34/34 [==============================] - 0s 2ms/step - loss: 7079.6694 - mae: 7079.6694\n",
            "Epoch 24/100\n",
            "34/34 [==============================] - 0s 2ms/step - loss: 7050.9297 - mae: 7050.9297\n",
            "Epoch 25/100\n",
            "34/34 [==============================] - 0s 2ms/step - loss: 7027.6841 - mae: 7027.6841\n",
            "Epoch 26/100\n",
            "34/34 [==============================] - 0s 2ms/step - loss: 6993.8945 - mae: 6993.8945\n",
            "Epoch 27/100\n",
            "34/34 [==============================] - 0s 2ms/step - loss: 6960.9058 - mae: 6960.9058\n",
            "Epoch 28/100\n",
            "34/34 [==============================] - 0s 2ms/step - loss: 6927.7935 - mae: 6927.7935\n",
            "Epoch 29/100\n",
            "34/34 [==============================] - 0s 2ms/step - loss: 6895.0239 - mae: 6895.0239\n",
            "Epoch 30/100\n",
            "34/34 [==============================] - 0s 2ms/step - loss: 6864.9185 - mae: 6864.9185\n",
            "Epoch 31/100\n",
            "34/34 [==============================] - 0s 2ms/step - loss: 6827.7290 - mae: 6827.7290\n",
            "Epoch 32/100\n",
            "34/34 [==============================] - 0s 2ms/step - loss: 6793.0430 - mae: 6793.0430\n",
            "Epoch 33/100\n",
            "34/34 [==============================] - 0s 2ms/step - loss: 6755.3506 - mae: 6755.3506\n",
            "Epoch 34/100\n",
            "34/34 [==============================] - 0s 2ms/step - loss: 6719.3760 - mae: 6719.3760\n",
            "Epoch 35/100\n",
            "34/34 [==============================] - 0s 2ms/step - loss: 6682.2798 - mae: 6682.2798\n",
            "Epoch 36/100\n",
            "34/34 [==============================] - 0s 2ms/step - loss: 6645.0244 - mae: 6645.0244\n",
            "Epoch 37/100\n",
            "34/34 [==============================] - 0s 2ms/step - loss: 6608.3662 - mae: 6608.3662\n",
            "Epoch 38/100\n",
            "34/34 [==============================] - 0s 3ms/step - loss: 6579.2373 - mae: 6579.2373\n",
            "Epoch 39/100\n",
            "34/34 [==============================] - 0s 2ms/step - loss: 6546.1069 - mae: 6546.1069\n",
            "Epoch 40/100\n",
            "34/34 [==============================] - 0s 2ms/step - loss: 6522.2900 - mae: 6522.2900\n",
            "Epoch 41/100\n",
            "34/34 [==============================] - 0s 2ms/step - loss: 6503.2793 - mae: 6503.2793\n",
            "Epoch 42/100\n",
            "34/34 [==============================] - 0s 2ms/step - loss: 6486.9766 - mae: 6486.9766\n",
            "Epoch 43/100\n",
            "34/34 [==============================] - 0s 3ms/step - loss: 6470.9795 - mae: 6470.9795\n",
            "Epoch 44/100\n",
            "34/34 [==============================] - 0s 3ms/step - loss: 6454.1768 - mae: 6454.1768\n",
            "Epoch 45/100\n",
            "34/34 [==============================] - 0s 3ms/step - loss: 6447.8027 - mae: 6447.8027\n",
            "Epoch 46/100\n",
            "34/34 [==============================] - 0s 2ms/step - loss: 6428.2349 - mae: 6428.2349\n",
            "Epoch 47/100\n",
            "34/34 [==============================] - 0s 2ms/step - loss: 6414.6650 - mae: 6414.6650\n",
            "Epoch 48/100\n",
            "34/34 [==============================] - 0s 2ms/step - loss: 6400.0786 - mae: 6400.0786\n",
            "Epoch 49/100\n",
            "34/34 [==============================] - 0s 3ms/step - loss: 6389.4277 - mae: 6389.4277\n",
            "Epoch 50/100\n",
            "34/34 [==============================] - 0s 3ms/step - loss: 6373.9897 - mae: 6373.9897\n",
            "Epoch 51/100\n",
            "34/34 [==============================] - 0s 3ms/step - loss: 6360.0884 - mae: 6360.0884\n",
            "Epoch 52/100\n",
            "34/34 [==============================] - 0s 3ms/step - loss: 6346.9404 - mae: 6346.9404\n",
            "Epoch 53/100\n",
            "34/34 [==============================] - 0s 3ms/step - loss: 6331.3213 - mae: 6331.3213\n",
            "Epoch 54/100\n",
            "34/34 [==============================] - 0s 3ms/step - loss: 6316.5923 - mae: 6316.5923\n",
            "Epoch 55/100\n",
            "34/34 [==============================] - 0s 3ms/step - loss: 6302.0942 - mae: 6302.0942\n",
            "Epoch 56/100\n",
            "34/34 [==============================] - 0s 3ms/step - loss: 6287.6270 - mae: 6287.6270\n",
            "Epoch 57/100\n",
            "34/34 [==============================] - 0s 3ms/step - loss: 6272.7388 - mae: 6272.7388\n",
            "Epoch 58/100\n",
            "34/34 [==============================] - 0s 4ms/step - loss: 6257.8174 - mae: 6257.8174\n",
            "Epoch 59/100\n",
            "34/34 [==============================] - 0s 3ms/step - loss: 6241.2861 - mae: 6241.2861\n",
            "Epoch 60/100\n",
            "34/34 [==============================] - 0s 3ms/step - loss: 6228.8413 - mae: 6228.8413\n",
            "Epoch 61/100\n",
            "34/34 [==============================] - 0s 3ms/step - loss: 6207.0674 - mae: 6207.0674\n",
            "Epoch 62/100\n",
            "34/34 [==============================] - 0s 3ms/step - loss: 6195.0742 - mae: 6195.0742\n",
            "Epoch 63/100\n",
            "34/34 [==============================] - 0s 3ms/step - loss: 6173.5703 - mae: 6173.5703\n",
            "Epoch 64/100\n",
            "34/34 [==============================] - 0s 3ms/step - loss: 6154.7339 - mae: 6154.7339\n",
            "Epoch 65/100\n",
            "34/34 [==============================] - 0s 3ms/step - loss: 6136.5933 - mae: 6136.5933\n",
            "Epoch 66/100\n",
            "34/34 [==============================] - 0s 3ms/step - loss: 6117.0327 - mae: 6117.0327\n",
            "Epoch 67/100\n",
            "34/34 [==============================] - 0s 4ms/step - loss: 6102.6572 - mae: 6102.6572\n",
            "Epoch 68/100\n",
            "34/34 [==============================] - 0s 3ms/step - loss: 6077.5151 - mae: 6077.5151\n",
            "Epoch 69/100\n",
            "34/34 [==============================] - 0s 3ms/step - loss: 6059.2036 - mae: 6059.2036\n",
            "Epoch 70/100\n",
            "34/34 [==============================] - 0s 3ms/step - loss: 6036.5562 - mae: 6036.5562\n",
            "Epoch 71/100\n",
            "34/34 [==============================] - 0s 3ms/step - loss: 6014.3843 - mae: 6014.3843\n",
            "Epoch 72/100\n",
            "34/34 [==============================] - 0s 3ms/step - loss: 5992.1333 - mae: 5992.1333\n",
            "Epoch 73/100\n",
            "34/34 [==============================] - 0s 2ms/step - loss: 5975.9229 - mae: 5975.9229\n",
            "Epoch 74/100\n",
            "34/34 [==============================] - 0s 2ms/step - loss: 5943.6328 - mae: 5943.6328\n",
            "Epoch 75/100\n",
            "34/34 [==============================] - 0s 2ms/step - loss: 5918.8818 - mae: 5918.8818\n",
            "Epoch 76/100\n",
            "34/34 [==============================] - 0s 2ms/step - loss: 5900.6562 - mae: 5900.6562\n",
            "Epoch 77/100\n",
            "34/34 [==============================] - 0s 2ms/step - loss: 5866.2705 - mae: 5866.2705\n",
            "Epoch 78/100\n",
            "34/34 [==============================] - 0s 2ms/step - loss: 5839.0430 - mae: 5839.0430\n",
            "Epoch 79/100\n",
            "34/34 [==============================] - 0s 2ms/step - loss: 5810.0659 - mae: 5810.0659\n",
            "Epoch 80/100\n",
            "34/34 [==============================] - 0s 2ms/step - loss: 5778.8350 - mae: 5778.8350\n",
            "Epoch 81/100\n",
            "34/34 [==============================] - 0s 2ms/step - loss: 5749.2979 - mae: 5749.2979\n",
            "Epoch 82/100\n",
            "34/34 [==============================] - 0s 2ms/step - loss: 5716.0083 - mae: 5716.0083\n",
            "Epoch 83/100\n",
            "34/34 [==============================] - 0s 2ms/step - loss: 5683.4600 - mae: 5683.4600\n",
            "Epoch 84/100\n",
            "34/34 [==============================] - 0s 2ms/step - loss: 5644.7852 - mae: 5644.7852\n",
            "Epoch 85/100\n",
            "34/34 [==============================] - 0s 2ms/step - loss: 5612.5796 - mae: 5612.5796\n",
            "Epoch 86/100\n",
            "34/34 [==============================] - 0s 2ms/step - loss: 5573.9507 - mae: 5573.9507\n",
            "Epoch 87/100\n",
            "34/34 [==============================] - 0s 2ms/step - loss: 5531.3740 - mae: 5531.3740\n",
            "Epoch 88/100\n",
            "34/34 [==============================] - 0s 2ms/step - loss: 5490.0684 - mae: 5490.0684\n",
            "Epoch 89/100\n",
            "34/34 [==============================] - 0s 2ms/step - loss: 5444.0479 - mae: 5444.0479\n",
            "Epoch 90/100\n",
            "34/34 [==============================] - 0s 2ms/step - loss: 5394.8042 - mae: 5394.8042\n",
            "Epoch 91/100\n",
            "34/34 [==============================] - 0s 2ms/step - loss: 5350.2871 - mae: 5350.2871\n",
            "Epoch 92/100\n",
            "34/34 [==============================] - 0s 2ms/step - loss: 5297.7549 - mae: 5297.7549\n",
            "Epoch 93/100\n",
            "34/34 [==============================] - 0s 2ms/step - loss: 5246.4624 - mae: 5246.4624\n",
            "Epoch 94/100\n",
            "34/34 [==============================] - 0s 2ms/step - loss: 5191.9292 - mae: 5191.9292\n",
            "Epoch 95/100\n",
            "34/34 [==============================] - 0s 2ms/step - loss: 5132.6519 - mae: 5132.6519\n",
            "Epoch 96/100\n",
            "34/34 [==============================] - 0s 2ms/step - loss: 5079.1089 - mae: 5079.1089\n",
            "Epoch 97/100\n",
            "34/34 [==============================] - 0s 2ms/step - loss: 5016.9468 - mae: 5016.9468\n",
            "Epoch 98/100\n",
            "34/34 [==============================] - 0s 2ms/step - loss: 4949.3086 - mae: 4949.3086\n",
            "Epoch 99/100\n",
            "34/34 [==============================] - 0s 2ms/step - loss: 4874.5747 - mae: 4874.5747\n",
            "Epoch 100/100\n",
            "34/34 [==============================] - 0s 2ms/step - loss: 4815.0903 - mae: 4815.0903\n"
          ]
        },
        {
          "output_type": "execute_result",
          "data": {
            "text/plain": [
              "<keras.src.callbacks.History at 0x78f6b18e7190>"
            ]
          },
          "metadata": {},
          "execution_count": 66
        }
      ]
    },
    {
      "cell_type": "code",
      "source": [
        "# Evaluate the larger model\n",
        "insurance_model_2.evaluate(X_test,y_test)"
      ],
      "metadata": {
        "colab": {
          "base_uri": "https://localhost:8080/"
        },
        "id": "tFH_6CbshVUg",
        "outputId": "02363382-749b-48f0-a8da-9287f6f95760"
      },
      "execution_count": null,
      "outputs": [
        {
          "output_type": "stream",
          "name": "stdout",
          "text": [
            "9/9 [==============================] - 0s 3ms/step - loss: 4695.1587 - mae: 4695.1587\n"
          ]
        },
        {
          "output_type": "execute_result",
          "data": {
            "text/plain": [
              "[4695.15869140625, 4695.15869140625]"
            ]
          },
          "metadata": {},
          "execution_count": 67
        }
      ]
    },
    {
      "cell_type": "code",
      "source": [
        "# Set random seed\n",
        "tf.random.set_seed(42)\n",
        "\n",
        "# 1. Create the model\n",
        "insurance_model_3=tf.keras.Sequential([\n",
        "    tf.keras.layers.Dense(100),\n",
        "    tf.keras.layers.Dense(10),\n",
        "    tf.keras.layers.Dense(1),\n",
        "\n",
        "])\n",
        "\n",
        "# 2. Compile the model\n",
        "insurance_model_3.compile(loss=tf.keras.losses.mae,\n",
        "                          optimizer=tf.keras.optimizers.Adam(),\n",
        "                          metrics=\"mae\")\n",
        "\n",
        "# 3.Fit the model\n",
        "history=insurance_model_3.fit(X_train,y_train,epochs=200)"
      ],
      "metadata": {
        "colab": {
          "base_uri": "https://localhost:8080/"
        },
        "id": "0RJkEmpbhjZc",
        "outputId": "e05e2200-41fa-4011-c914-a98b455b749c"
      },
      "execution_count": null,
      "outputs": [
        {
          "output_type": "stream",
          "name": "stdout",
          "text": [
            "Epoch 1/200\n",
            "34/34 [==============================] - 1s 2ms/step - loss: 13296.2285 - mae: 13296.2285\n",
            "Epoch 2/200\n",
            "34/34 [==============================] - 0s 3ms/step - loss: 13129.3018 - mae: 13129.3018\n",
            "Epoch 3/200\n",
            "34/34 [==============================] - 0s 2ms/step - loss: 12791.1406 - mae: 12791.1406\n",
            "Epoch 4/200\n",
            "34/34 [==============================] - 0s 2ms/step - loss: 12133.9473 - mae: 12133.9473\n",
            "Epoch 5/200\n",
            "34/34 [==============================] - 0s 2ms/step - loss: 11029.7539 - mae: 11029.7539\n",
            "Epoch 6/200\n",
            "34/34 [==============================] - 0s 2ms/step - loss: 9592.3320 - mae: 9592.3320\n",
            "Epoch 7/200\n",
            "34/34 [==============================] - 0s 2ms/step - loss: 8244.5176 - mae: 8244.5176\n",
            "Epoch 8/200\n",
            "34/34 [==============================] - 0s 2ms/step - loss: 7554.7422 - mae: 7554.7422\n",
            "Epoch 9/200\n",
            "34/34 [==============================] - 0s 2ms/step - loss: 7433.6963 - mae: 7433.6963\n",
            "Epoch 10/200\n",
            "34/34 [==============================] - 0s 2ms/step - loss: 7412.3027 - mae: 7412.3027\n",
            "Epoch 11/200\n",
            "34/34 [==============================] - 0s 2ms/step - loss: 7393.3662 - mae: 7393.3662\n",
            "Epoch 12/200\n",
            "34/34 [==============================] - 0s 2ms/step - loss: 7370.9854 - mae: 7370.9854\n",
            "Epoch 13/200\n",
            "34/34 [==============================] - 0s 2ms/step - loss: 7350.1284 - mae: 7350.1284\n",
            "Epoch 14/200\n",
            "34/34 [==============================] - 0s 2ms/step - loss: 7327.5366 - mae: 7327.5366\n",
            "Epoch 15/200\n",
            "34/34 [==============================] - 0s 2ms/step - loss: 7308.1592 - mae: 7308.1592\n",
            "Epoch 16/200\n",
            "34/34 [==============================] - 0s 2ms/step - loss: 7285.4229 - mae: 7285.4229\n",
            "Epoch 17/200\n",
            "34/34 [==============================] - 0s 2ms/step - loss: 7264.7935 - mae: 7264.7935\n",
            "Epoch 18/200\n",
            "34/34 [==============================] - 0s 2ms/step - loss: 7240.8179 - mae: 7240.8179\n",
            "Epoch 19/200\n",
            "34/34 [==============================] - 0s 2ms/step - loss: 7217.9976 - mae: 7217.9976\n",
            "Epoch 20/200\n",
            "34/34 [==============================] - 0s 2ms/step - loss: 7193.7573 - mae: 7193.7573\n",
            "Epoch 21/200\n",
            "34/34 [==============================] - 0s 2ms/step - loss: 7174.4009 - mae: 7174.4009\n",
            "Epoch 22/200\n",
            "34/34 [==============================] - 0s 2ms/step - loss: 7145.8350 - mae: 7145.8350\n",
            "Epoch 23/200\n",
            "34/34 [==============================] - 0s 2ms/step - loss: 7119.7178 - mae: 7119.7178\n",
            "Epoch 24/200\n",
            "34/34 [==============================] - 0s 2ms/step - loss: 7093.8101 - mae: 7093.8101\n",
            "Epoch 25/200\n",
            "34/34 [==============================] - 0s 2ms/step - loss: 7075.1733 - mae: 7075.1733\n",
            "Epoch 26/200\n",
            "34/34 [==============================] - 0s 2ms/step - loss: 7040.9077 - mae: 7040.9077\n",
            "Epoch 27/200\n",
            "34/34 [==============================] - 0s 2ms/step - loss: 7011.5815 - mae: 7011.5815\n",
            "Epoch 28/200\n",
            "34/34 [==============================] - 0s 2ms/step - loss: 6981.8828 - mae: 6981.8828\n",
            "Epoch 29/200\n",
            "34/34 [==============================] - 0s 2ms/step - loss: 6952.2422 - mae: 6952.2422\n",
            "Epoch 30/200\n",
            "34/34 [==============================] - 0s 2ms/step - loss: 6922.9839 - mae: 6922.9839\n",
            "Epoch 31/200\n",
            "34/34 [==============================] - 0s 2ms/step - loss: 6890.5874 - mae: 6890.5874\n",
            "Epoch 32/200\n",
            "34/34 [==============================] - 0s 2ms/step - loss: 6860.7119 - mae: 6860.7119\n",
            "Epoch 33/200\n",
            "34/34 [==============================] - 0s 2ms/step - loss: 6827.2319 - mae: 6827.2319\n",
            "Epoch 34/200\n",
            "34/34 [==============================] - 0s 2ms/step - loss: 6794.4263 - mae: 6794.4263\n",
            "Epoch 35/200\n",
            "34/34 [==============================] - 0s 2ms/step - loss: 6757.3999 - mae: 6757.3999\n",
            "Epoch 36/200\n",
            "34/34 [==============================] - 0s 2ms/step - loss: 6721.7275 - mae: 6721.7275\n",
            "Epoch 37/200\n",
            "34/34 [==============================] - 0s 2ms/step - loss: 6683.3315 - mae: 6683.3315\n",
            "Epoch 38/200\n",
            "34/34 [==============================] - 0s 2ms/step - loss: 6651.9355 - mae: 6651.9355\n",
            "Epoch 39/200\n",
            "34/34 [==============================] - 0s 3ms/step - loss: 6612.3994 - mae: 6612.3994\n",
            "Epoch 40/200\n",
            "34/34 [==============================] - 0s 2ms/step - loss: 6577.0781 - mae: 6577.0781\n",
            "Epoch 41/200\n",
            "34/34 [==============================] - 0s 2ms/step - loss: 6547.2246 - mae: 6547.2246\n",
            "Epoch 42/200\n",
            "34/34 [==============================] - 0s 2ms/step - loss: 6524.4312 - mae: 6524.4312\n",
            "Epoch 43/200\n",
            "34/34 [==============================] - 0s 2ms/step - loss: 6498.5239 - mae: 6498.5239\n",
            "Epoch 44/200\n",
            "34/34 [==============================] - 0s 3ms/step - loss: 6478.0137 - mae: 6478.0137\n",
            "Epoch 45/200\n",
            "34/34 [==============================] - 0s 3ms/step - loss: 6468.7358 - mae: 6468.7358\n",
            "Epoch 46/200\n",
            "34/34 [==============================] - 0s 2ms/step - loss: 6450.5737 - mae: 6450.5737\n",
            "Epoch 47/200\n",
            "34/34 [==============================] - 0s 2ms/step - loss: 6434.0273 - mae: 6434.0273\n",
            "Epoch 48/200\n",
            "34/34 [==============================] - 0s 3ms/step - loss: 6419.5171 - mae: 6419.5171\n",
            "Epoch 49/200\n",
            "34/34 [==============================] - 0s 3ms/step - loss: 6407.2231 - mae: 6407.2231\n",
            "Epoch 50/200\n",
            "34/34 [==============================] - 0s 3ms/step - loss: 6392.9707 - mae: 6392.9707\n",
            "Epoch 51/200\n",
            "34/34 [==============================] - 0s 3ms/step - loss: 6379.1675 - mae: 6379.1675\n",
            "Epoch 52/200\n",
            "34/34 [==============================] - 0s 3ms/step - loss: 6366.5405 - mae: 6366.5405\n",
            "Epoch 53/200\n",
            "34/34 [==============================] - 0s 3ms/step - loss: 6351.6260 - mae: 6351.6260\n",
            "Epoch 54/200\n",
            "34/34 [==============================] - 0s 3ms/step - loss: 6337.4453 - mae: 6337.4453\n",
            "Epoch 55/200\n",
            "34/34 [==============================] - 0s 3ms/step - loss: 6323.1733 - mae: 6323.1733\n",
            "Epoch 56/200\n",
            "34/34 [==============================] - 0s 3ms/step - loss: 6308.6929 - mae: 6308.6929\n",
            "Epoch 57/200\n",
            "34/34 [==============================] - 0s 2ms/step - loss: 6294.9390 - mae: 6294.9390\n",
            "Epoch 58/200\n",
            "34/34 [==============================] - 0s 4ms/step - loss: 6280.4038 - mae: 6280.4038\n",
            "Epoch 59/200\n",
            "34/34 [==============================] - 0s 3ms/step - loss: 6264.4502 - mae: 6264.4502\n",
            "Epoch 60/200\n",
            "34/34 [==============================] - 0s 3ms/step - loss: 6253.1548 - mae: 6253.1548\n",
            "Epoch 61/200\n",
            "34/34 [==============================] - 0s 3ms/step - loss: 6232.1587 - mae: 6232.1587\n",
            "Epoch 62/200\n",
            "34/34 [==============================] - 0s 3ms/step - loss: 6219.1841 - mae: 6219.1841\n",
            "Epoch 63/200\n",
            "34/34 [==============================] - 0s 3ms/step - loss: 6200.2964 - mae: 6200.2964\n",
            "Epoch 64/200\n",
            "34/34 [==============================] - 0s 3ms/step - loss: 6182.2563 - mae: 6182.2563\n",
            "Epoch 65/200\n",
            "34/34 [==============================] - 0s 4ms/step - loss: 6164.2666 - mae: 6164.2666\n",
            "Epoch 66/200\n",
            "34/34 [==============================] - 0s 3ms/step - loss: 6145.8408 - mae: 6145.8408\n",
            "Epoch 67/200\n",
            "34/34 [==============================] - 0s 3ms/step - loss: 6132.7617 - mae: 6132.7617\n",
            "Epoch 68/200\n",
            "34/34 [==============================] - 0s 4ms/step - loss: 6110.3066 - mae: 6110.3066\n",
            "Epoch 69/200\n",
            "34/34 [==============================] - 0s 3ms/step - loss: 6090.9971 - mae: 6090.9971\n",
            "Epoch 70/200\n",
            "34/34 [==============================] - 0s 2ms/step - loss: 6069.5044 - mae: 6069.5044\n",
            "Epoch 71/200\n",
            "34/34 [==============================] - 0s 3ms/step - loss: 6049.1587 - mae: 6049.1587\n",
            "Epoch 72/200\n",
            "34/34 [==============================] - 0s 3ms/step - loss: 6026.6621 - mae: 6026.6621\n",
            "Epoch 73/200\n",
            "34/34 [==============================] - 0s 3ms/step - loss: 6013.1411 - mae: 6013.1411\n",
            "Epoch 74/200\n",
            "34/34 [==============================] - 0s 3ms/step - loss: 5982.0352 - mae: 5982.0352\n",
            "Epoch 75/200\n",
            "34/34 [==============================] - 0s 3ms/step - loss: 5960.8589 - mae: 5960.8589\n",
            "Epoch 76/200\n",
            "34/34 [==============================] - 0s 3ms/step - loss: 5941.7261 - mae: 5941.7261\n",
            "Epoch 77/200\n",
            "34/34 [==============================] - 0s 3ms/step - loss: 5909.2085 - mae: 5909.2085\n",
            "Epoch 78/200\n",
            "34/34 [==============================] - 0s 3ms/step - loss: 5884.3062 - mae: 5884.3062\n",
            "Epoch 79/200\n",
            "34/34 [==============================] - 0s 3ms/step - loss: 5857.2832 - mae: 5857.2832\n",
            "Epoch 80/200\n",
            "34/34 [==============================] - 0s 3ms/step - loss: 5827.2568 - mae: 5827.2568\n",
            "Epoch 81/200\n",
            "34/34 [==============================] - 0s 4ms/step - loss: 5800.4390 - mae: 5800.4390\n",
            "Epoch 82/200\n",
            "34/34 [==============================] - 0s 3ms/step - loss: 5768.3813 - mae: 5768.3813\n",
            "Epoch 83/200\n",
            "34/34 [==============================] - 0s 3ms/step - loss: 5738.5654 - mae: 5738.5654\n",
            "Epoch 84/200\n",
            "34/34 [==============================] - 0s 2ms/step - loss: 5701.6069 - mae: 5701.6069\n",
            "Epoch 85/200\n",
            "34/34 [==============================] - 0s 3ms/step - loss: 5672.6719 - mae: 5672.6719\n",
            "Epoch 86/200\n",
            "34/34 [==============================] - 0s 3ms/step - loss: 5636.2837 - mae: 5636.2837\n",
            "Epoch 87/200\n",
            "34/34 [==============================] - 0s 3ms/step - loss: 5595.6187 - mae: 5595.6187\n",
            "Epoch 88/200\n",
            "34/34 [==============================] - 0s 3ms/step - loss: 5557.1533 - mae: 5557.1533\n",
            "Epoch 89/200\n",
            "34/34 [==============================] - 0s 3ms/step - loss: 5514.6118 - mae: 5514.6118\n",
            "Epoch 90/200\n",
            "34/34 [==============================] - 0s 3ms/step - loss: 5468.8555 - mae: 5468.8555\n",
            "Epoch 91/200\n",
            "34/34 [==============================] - 0s 3ms/step - loss: 5426.7266 - mae: 5426.7266\n",
            "Epoch 92/200\n",
            "34/34 [==============================] - 0s 3ms/step - loss: 5375.9263 - mae: 5375.9263\n",
            "Epoch 93/200\n",
            "34/34 [==============================] - 0s 3ms/step - loss: 5328.8970 - mae: 5328.8970\n",
            "Epoch 94/200\n",
            "34/34 [==============================] - 0s 3ms/step - loss: 5277.2422 - mae: 5277.2422\n",
            "Epoch 95/200\n",
            "34/34 [==============================] - 0s 2ms/step - loss: 5220.7520 - mae: 5220.7520\n",
            "Epoch 96/200\n",
            "34/34 [==============================] - 0s 3ms/step - loss: 5171.5928 - mae: 5171.5928\n",
            "Epoch 97/200\n",
            "34/34 [==============================] - 0s 3ms/step - loss: 5112.5811 - mae: 5112.5811\n",
            "Epoch 98/200\n",
            "34/34 [==============================] - 0s 3ms/step - loss: 5045.0732 - mae: 5045.0732\n",
            "Epoch 99/200\n",
            "34/34 [==============================] - 0s 3ms/step - loss: 4979.4316 - mae: 4979.4316\n",
            "Epoch 100/200\n",
            "34/34 [==============================] - 0s 3ms/step - loss: 4921.7588 - mae: 4921.7588\n",
            "Epoch 101/200\n",
            "34/34 [==============================] - 0s 3ms/step - loss: 4844.0903 - mae: 4844.0903\n",
            "Epoch 102/200\n",
            "34/34 [==============================] - 0s 3ms/step - loss: 4762.7705 - mae: 4762.7705\n",
            "Epoch 103/200\n",
            "34/34 [==============================] - 0s 3ms/step - loss: 4691.7095 - mae: 4691.7095\n",
            "Epoch 104/200\n",
            "34/34 [==============================] - 0s 2ms/step - loss: 4603.2700 - mae: 4603.2700\n",
            "Epoch 105/200\n",
            "34/34 [==============================] - 0s 2ms/step - loss: 4512.9307 - mae: 4512.9307\n",
            "Epoch 106/200\n",
            "34/34 [==============================] - 0s 2ms/step - loss: 4430.0649 - mae: 4430.0649\n",
            "Epoch 107/200\n",
            "34/34 [==============================] - 0s 2ms/step - loss: 4347.8350 - mae: 4347.8350\n",
            "Epoch 108/200\n",
            "34/34 [==============================] - 0s 2ms/step - loss: 4262.2900 - mae: 4262.2900\n",
            "Epoch 109/200\n",
            "34/34 [==============================] - 0s 2ms/step - loss: 4181.3374 - mae: 4181.3374\n",
            "Epoch 110/200\n",
            "34/34 [==============================] - 0s 2ms/step - loss: 4108.3452 - mae: 4108.3452\n",
            "Epoch 111/200\n",
            "34/34 [==============================] - 0s 2ms/step - loss: 4039.6650 - mae: 4039.6650\n",
            "Epoch 112/200\n",
            "34/34 [==============================] - 0s 2ms/step - loss: 3990.8850 - mae: 3990.8850\n",
            "Epoch 113/200\n",
            "34/34 [==============================] - 0s 2ms/step - loss: 3952.0659 - mae: 3952.0659\n",
            "Epoch 114/200\n",
            "34/34 [==============================] - 0s 2ms/step - loss: 3927.6697 - mae: 3927.6697\n",
            "Epoch 115/200\n",
            "34/34 [==============================] - 0s 2ms/step - loss: 3891.4380 - mae: 3891.4380\n",
            "Epoch 116/200\n",
            "34/34 [==============================] - 0s 2ms/step - loss: 3879.3540 - mae: 3879.3540\n",
            "Epoch 117/200\n",
            "34/34 [==============================] - 0s 2ms/step - loss: 3864.9431 - mae: 3864.9431\n",
            "Epoch 118/200\n",
            "34/34 [==============================] - 0s 2ms/step - loss: 3850.8713 - mae: 3850.8713\n",
            "Epoch 119/200\n",
            "34/34 [==============================] - 0s 2ms/step - loss: 3834.7908 - mae: 3834.7908\n",
            "Epoch 120/200\n",
            "34/34 [==============================] - 0s 2ms/step - loss: 3823.4314 - mae: 3823.4314\n",
            "Epoch 121/200\n",
            "34/34 [==============================] - 0s 2ms/step - loss: 3816.8555 - mae: 3816.8555\n",
            "Epoch 122/200\n",
            "34/34 [==============================] - 0s 2ms/step - loss: 3808.6492 - mae: 3808.6492\n",
            "Epoch 123/200\n",
            "34/34 [==============================] - 0s 2ms/step - loss: 3803.4780 - mae: 3803.4780\n",
            "Epoch 124/200\n",
            "34/34 [==============================] - 0s 2ms/step - loss: 3798.4944 - mae: 3798.4944\n",
            "Epoch 125/200\n",
            "34/34 [==============================] - 0s 2ms/step - loss: 3789.4907 - mae: 3789.4907\n",
            "Epoch 126/200\n",
            "34/34 [==============================] - 0s 2ms/step - loss: 3796.6885 - mae: 3796.6885\n",
            "Epoch 127/200\n",
            "34/34 [==============================] - 0s 2ms/step - loss: 3792.6807 - mae: 3792.6807\n",
            "Epoch 128/200\n",
            "34/34 [==============================] - 0s 2ms/step - loss: 3787.8831 - mae: 3787.8831\n",
            "Epoch 129/200\n",
            "34/34 [==============================] - 0s 2ms/step - loss: 3795.9736 - mae: 3795.9736\n",
            "Epoch 130/200\n",
            "34/34 [==============================] - 0s 2ms/step - loss: 3783.7354 - mae: 3783.7354\n",
            "Epoch 131/200\n",
            "34/34 [==============================] - 0s 2ms/step - loss: 3777.9719 - mae: 3777.9719\n",
            "Epoch 132/200\n",
            "34/34 [==============================] - 0s 2ms/step - loss: 3772.0959 - mae: 3772.0959\n",
            "Epoch 133/200\n",
            "34/34 [==============================] - 0s 2ms/step - loss: 3767.8394 - mae: 3767.8394\n",
            "Epoch 134/200\n",
            "34/34 [==============================] - 0s 2ms/step - loss: 3769.2817 - mae: 3769.2817\n",
            "Epoch 135/200\n",
            "34/34 [==============================] - 0s 2ms/step - loss: 3764.8840 - mae: 3764.8840\n",
            "Epoch 136/200\n",
            "34/34 [==============================] - 0s 2ms/step - loss: 3763.6841 - mae: 3763.6841\n",
            "Epoch 137/200\n",
            "34/34 [==============================] - 0s 2ms/step - loss: 3771.4634 - mae: 3771.4634\n",
            "Epoch 138/200\n",
            "34/34 [==============================] - 0s 2ms/step - loss: 3780.2263 - mae: 3780.2263\n",
            "Epoch 139/200\n",
            "34/34 [==============================] - 0s 2ms/step - loss: 3759.0237 - mae: 3759.0237\n",
            "Epoch 140/200\n",
            "34/34 [==============================] - 0s 2ms/step - loss: 3759.5474 - mae: 3759.5474\n",
            "Epoch 141/200\n",
            "34/34 [==============================] - 0s 2ms/step - loss: 3761.9268 - mae: 3761.9268\n",
            "Epoch 142/200\n",
            "34/34 [==============================] - 0s 2ms/step - loss: 3762.9248 - mae: 3762.9248\n",
            "Epoch 143/200\n",
            "34/34 [==============================] - 0s 2ms/step - loss: 3752.8528 - mae: 3752.8528\n",
            "Epoch 144/200\n",
            "34/34 [==============================] - 0s 2ms/step - loss: 3748.7976 - mae: 3748.7976\n",
            "Epoch 145/200\n",
            "34/34 [==============================] - 0s 2ms/step - loss: 3748.5627 - mae: 3748.5627\n",
            "Epoch 146/200\n",
            "34/34 [==============================] - 0s 3ms/step - loss: 3754.2871 - mae: 3754.2871\n",
            "Epoch 147/200\n",
            "34/34 [==============================] - 0s 2ms/step - loss: 3748.3218 - mae: 3748.3218\n",
            "Epoch 148/200\n",
            "34/34 [==============================] - 0s 2ms/step - loss: 3759.0439 - mae: 3759.0439\n",
            "Epoch 149/200\n",
            "34/34 [==============================] - 0s 2ms/step - loss: 3742.1365 - mae: 3742.1365\n",
            "Epoch 150/200\n",
            "34/34 [==============================] - 0s 2ms/step - loss: 3737.2207 - mae: 3737.2207\n",
            "Epoch 151/200\n",
            "34/34 [==============================] - 0s 2ms/step - loss: 3739.2642 - mae: 3739.2642\n",
            "Epoch 152/200\n",
            "34/34 [==============================] - 0s 2ms/step - loss: 3741.2256 - mae: 3741.2256\n",
            "Epoch 153/200\n",
            "34/34 [==============================] - 0s 2ms/step - loss: 3742.4900 - mae: 3742.4900\n",
            "Epoch 154/200\n",
            "34/34 [==============================] - 0s 2ms/step - loss: 3735.0527 - mae: 3735.0527\n",
            "Epoch 155/200\n",
            "34/34 [==============================] - 0s 2ms/step - loss: 3738.2532 - mae: 3738.2532\n",
            "Epoch 156/200\n",
            "34/34 [==============================] - 0s 2ms/step - loss: 3733.5557 - mae: 3733.5557\n",
            "Epoch 157/200\n",
            "34/34 [==============================] - 0s 2ms/step - loss: 3730.6875 - mae: 3730.6875\n",
            "Epoch 158/200\n",
            "34/34 [==============================] - 0s 2ms/step - loss: 3728.1218 - mae: 3728.1218\n",
            "Epoch 159/200\n",
            "34/34 [==============================] - 0s 3ms/step - loss: 3724.7854 - mae: 3724.7854\n",
            "Epoch 160/200\n",
            "34/34 [==============================] - 0s 2ms/step - loss: 3732.1406 - mae: 3732.1406\n",
            "Epoch 161/200\n",
            "34/34 [==============================] - 0s 2ms/step - loss: 3727.0352 - mae: 3727.0352\n",
            "Epoch 162/200\n",
            "34/34 [==============================] - 0s 2ms/step - loss: 3724.8867 - mae: 3724.8867\n",
            "Epoch 163/200\n",
            "34/34 [==============================] - 0s 2ms/step - loss: 3723.5879 - mae: 3723.5879\n",
            "Epoch 164/200\n",
            "34/34 [==============================] - 0s 2ms/step - loss: 3725.4084 - mae: 3725.4084\n",
            "Epoch 165/200\n",
            "34/34 [==============================] - 0s 2ms/step - loss: 3714.6458 - mae: 3714.6458\n",
            "Epoch 166/200\n",
            "34/34 [==============================] - 0s 2ms/step - loss: 3718.5596 - mae: 3718.5596\n",
            "Epoch 167/200\n",
            "34/34 [==============================] - 0s 2ms/step - loss: 3719.1807 - mae: 3719.1807\n",
            "Epoch 168/200\n",
            "34/34 [==============================] - 0s 2ms/step - loss: 3714.7617 - mae: 3714.7617\n",
            "Epoch 169/200\n",
            "34/34 [==============================] - 0s 2ms/step - loss: 3713.3015 - mae: 3713.3015\n",
            "Epoch 170/200\n",
            "34/34 [==============================] - 0s 2ms/step - loss: 3706.9045 - mae: 3706.9045\n",
            "Epoch 171/200\n",
            "34/34 [==============================] - 0s 3ms/step - loss: 3706.0635 - mae: 3706.0635\n",
            "Epoch 172/200\n",
            "34/34 [==============================] - 0s 2ms/step - loss: 3708.1787 - mae: 3708.1787\n",
            "Epoch 173/200\n",
            "34/34 [==============================] - 0s 2ms/step - loss: 3704.6057 - mae: 3704.6057\n",
            "Epoch 174/200\n",
            "34/34 [==============================] - 0s 3ms/step - loss: 3708.9973 - mae: 3708.9973\n",
            "Epoch 175/200\n",
            "34/34 [==============================] - 0s 2ms/step - loss: 3708.4792 - mae: 3708.4792\n",
            "Epoch 176/200\n",
            "34/34 [==============================] - 0s 2ms/step - loss: 3706.9521 - mae: 3706.9521\n",
            "Epoch 177/200\n",
            "34/34 [==============================] - 0s 2ms/step - loss: 3697.5720 - mae: 3697.5720\n",
            "Epoch 178/200\n",
            "34/34 [==============================] - 0s 2ms/step - loss: 3697.7559 - mae: 3697.7559\n",
            "Epoch 179/200\n",
            "34/34 [==============================] - 0s 2ms/step - loss: 3706.1472 - mae: 3706.1472\n",
            "Epoch 180/200\n",
            "34/34 [==============================] - 0s 2ms/step - loss: 3712.5264 - mae: 3712.5264\n",
            "Epoch 181/200\n",
            "34/34 [==============================] - 0s 2ms/step - loss: 3695.4097 - mae: 3695.4097\n",
            "Epoch 182/200\n",
            "34/34 [==============================] - 0s 2ms/step - loss: 3692.2966 - mae: 3692.2966\n",
            "Epoch 183/200\n",
            "34/34 [==============================] - 0s 2ms/step - loss: 3690.6919 - mae: 3690.6919\n",
            "Epoch 184/200\n",
            "34/34 [==============================] - 0s 2ms/step - loss: 3699.2212 - mae: 3699.2212\n",
            "Epoch 185/200\n",
            "34/34 [==============================] - 0s 2ms/step - loss: 3695.2393 - mae: 3695.2393\n",
            "Epoch 186/200\n",
            "34/34 [==============================] - 0s 2ms/step - loss: 3694.3035 - mae: 3694.3035\n",
            "Epoch 187/200\n",
            "34/34 [==============================] - 0s 2ms/step - loss: 3687.2170 - mae: 3687.2170\n",
            "Epoch 188/200\n",
            "34/34 [==============================] - 0s 2ms/step - loss: 3694.2114 - mae: 3694.2114\n",
            "Epoch 189/200\n",
            "34/34 [==============================] - 0s 2ms/step - loss: 3682.0886 - mae: 3682.0886\n",
            "Epoch 190/200\n",
            "34/34 [==============================] - 0s 2ms/step - loss: 3683.5002 - mae: 3683.5002\n",
            "Epoch 191/200\n",
            "34/34 [==============================] - 0s 2ms/step - loss: 3696.1597 - mae: 3696.1597\n",
            "Epoch 192/200\n",
            "34/34 [==============================] - 0s 2ms/step - loss: 3682.6428 - mae: 3682.6428\n",
            "Epoch 193/200\n",
            "34/34 [==============================] - 0s 2ms/step - loss: 3674.5781 - mae: 3674.5781\n",
            "Epoch 194/200\n",
            "34/34 [==============================] - 0s 2ms/step - loss: 3674.3152 - mae: 3674.3152\n",
            "Epoch 195/200\n",
            "34/34 [==============================] - 0s 2ms/step - loss: 3672.7173 - mae: 3672.7173\n",
            "Epoch 196/200\n",
            "34/34 [==============================] - 0s 2ms/step - loss: 3681.4651 - mae: 3681.4651\n",
            "Epoch 197/200\n",
            "34/34 [==============================] - 0s 2ms/step - loss: 3665.9709 - mae: 3665.9709\n",
            "Epoch 198/200\n",
            "34/34 [==============================] - 0s 2ms/step - loss: 3672.5159 - mae: 3672.5159\n",
            "Epoch 199/200\n",
            "34/34 [==============================] - 0s 2ms/step - loss: 3681.7830 - mae: 3681.7830\n",
            "Epoch 200/200\n",
            "34/34 [==============================] - 0s 2ms/step - loss: 3666.9312 - mae: 3666.9312\n"
          ]
        }
      ]
    },
    {
      "cell_type": "code",
      "source": [
        "# Evaluate our third model\n",
        "insurance_model_3.evaluate(X_test,y_test)"
      ],
      "metadata": {
        "colab": {
          "base_uri": "https://localhost:8080/"
        },
        "id": "__IetwRojFCQ",
        "outputId": "bff52118-4f9f-4044-b3c1-e61809d305ba"
      },
      "execution_count": null,
      "outputs": [
        {
          "output_type": "stream",
          "name": "stdout",
          "text": [
            "9/9 [==============================] - 0s 2ms/step - loss: 3489.7285 - mae: 3489.7285\n"
          ]
        },
        {
          "output_type": "execute_result",
          "data": {
            "text/plain": [
              "[3489.728515625, 3489.728515625]"
            ]
          },
          "metadata": {},
          "execution_count": 69
        }
      ]
    },
    {
      "cell_type": "code",
      "source": [
        "# Plot history (also known as a loss curve or a training curve)\n",
        "pd.DataFrame(history.history).plot()\n",
        "plt.ylabel(\"loss\")\n",
        "plt.xlabel(\"epochs\")"
      ],
      "metadata": {
        "colab": {
          "base_uri": "https://localhost:8080/",
          "height": 466
        },
        "id": "ciWGC1SukEDv",
        "outputId": "81fc79fb-b11f-430f-ea18-11f500a97678"
      },
      "execution_count": null,
      "outputs": [
        {
          "output_type": "execute_result",
          "data": {
            "text/plain": [
              "Text(0.5, 0, 'epochs')"
            ]
          },
          "metadata": {},
          "execution_count": 70
        },
        {
          "output_type": "display_data",
          "data": {
            "text/plain": [
              "<Figure size 640x480 with 1 Axes>"
            ],
            "image/png": "[encoded data removed]"
          },
          "metadata": {}
        }
      ]
    },
    {
      "cell_type": "markdown",
      "source": [
        "**How long should you train for?**\n",
        "\n",
        "It depends. It depends on the problem you're working on. Tensorflow  has a solution. It's called the [EarlyStoppingCallback](https://www.tensorflow.org/api_docs/python/tf/keras/callbacks/EarlyStopping), which is a TensorFlow component you can add to your model to stop training once it stops improving a certain metric"
      ],
      "metadata": {
        "id": "Op290fVTkw4W"
      }
    },
    {
      "cell_type": "markdown",
      "source": [
        "### Preprocessing data (normalization and standardization)\n",
        "\n",
        "In terms of scaling values, neural networks tend to prefer normalization.\n",
        "\n",
        "If you're not sure on which to use, you could try both and see which performs better"
      ],
      "metadata": {
        "id": "pCohJQ_rpSeM"
      }
    },
    {
      "cell_type": "code",
      "source": [
        "X"
      ],
      "metadata": {
        "colab": {
          "base_uri": "https://localhost:8080/",
          "height": 443
        },
        "id": "ybUeRxnaqGsd",
        "outputId": "7be5fd2d-0bfb-44ea-de5e-f16fa86df58b"
      },
      "execution_count": null,
      "outputs": [
        {
          "output_type": "execute_result",
          "data": {
            "text/plain": [
              "      age     bmi  children  sex_female  sex_male  smoker_no  smoker_yes  \\\n",
              "0      19  27.900         0           1         0          0           1   \n",
              "1      18  33.770         1           0         1          1           0   \n",
              "2      28  33.000         3           0         1          1           0   \n",
              "3      33  22.705         0           0         1          1           0   \n",
              "4      32  28.880         0           0         1          1           0   \n",
              "...   ...     ...       ...         ...       ...        ...         ...   \n",
              "1333   50  30.970         3           0         1          1           0   \n",
              "1334   18  31.920         0           1         0          1           0   \n",
              "1335   18  36.850         0           1         0          1           0   \n",
              "1336   21  25.800         0           1         0          1           0   \n",
              "1337   61  29.070         0           1         0          0           1   \n",
              "\n",
              "      region_northeast  region_northwest  region_southeast  region_southwest  \n",
              "0                    0                 0                 0                 1  \n",
              "1                    0                 0                 1                 0  \n",
              "2                    0                 0                 1                 0  \n",
              "3                    0                 1                 0                 0  \n",
              "4                    0                 1                 0                 0  \n",
              "...                ...               ...               ...               ...  \n",
              "1333                 0                 1                 0                 0  \n",
              "1334                 1                 0                 0                 0  \n",
              "1335                 0                 0                 1                 0  \n",
              "1336                 0                 0                 0                 1  \n",
              "1337                 0                 1                 0                 0  \n",
              "\n",
              "[1338 rows x 11 columns]"
            ],
            "text/html": [
              "\n",
              "  <div id=\"df-cf0339cf-7417-4e94-8e6c-c0d81eadf8a4\" class=\"colab-df-container\">\n",
              "    <div>\n",
              "<style scoped>\n",
              "    .dataframe tbody tr th:only-of-type {\n",
              "        vertical-align: middle;\n",
              "    }\n",
              "\n",
              "    .dataframe tbody tr th {\n",
              "        vertical-align: top;\n",
              "    }\n",
              "\n",
              "    .dataframe thead th {\n",
              "        text-align: right;\n",
              "    }\n",
              "</style>\n",
              "<table border=\"1\" class=\"dataframe\">\n",
              "  <thead>\n",
              "    <tr style=\"text-align: right;\">\n",
              "      <th></th>\n",
              "      <th>age</th>\n",
              "      <th>bmi</th>\n",
              "      <th>children</th>\n",
              "      <th>sex_female</th>\n",
              "      <th>sex_male</th>\n",
              "      <th>smoker_no</th>\n",
              "      <th>smoker_yes</th>\n",
              "      <th>region_northeast</th>\n",
              "      <th>region_northwest</th>\n",
              "      <th>region_southeast</th>\n",
              "      <th>region_southwest</th>\n",
              "    </tr>\n",
              "  </thead>\n",
              "  <tbody>\n",
              "    <tr>\n",
              "      <th>0</th>\n",
              "      <td>19</td>\n",
              "      <td>27.900</td>\n",
              "      <td>0</td>\n",
              "      <td>1</td>\n",
              "      <td>0</td>\n",
              "      <td>0</td>\n",
              "      <td>1</td>\n",
              "      <td>0</td>\n",
              "      <td>0</td>\n",
              "      <td>0</td>\n",
              "      <td>1</td>\n",
              "    </tr>\n",
              "    <tr>\n",
              "      <th>1</th>\n",
              "      <td>18</td>\n",
              "      <td>33.770</td>\n",
              "      <td>1</td>\n",
              "      <td>0</td>\n",
              "      <td>1</td>\n",
              "      <td>1</td>\n",
              "      <td>0</td>\n",
              "      <td>0</td>\n",
              "      <td>0</td>\n",
              "      <td>1</td>\n",
              "      <td>0</td>\n",
              "    </tr>\n",
              "    <tr>\n",
              "      <th>2</th>\n",
              "      <td>28</td>\n",
              "      <td>33.000</td>\n",
              "      <td>3</td>\n",
              "      <td>0</td>\n",
              "      <td>1</td>\n",
              "      <td>1</td>\n",
              "      <td>0</td>\n",
              "      <td>0</td>\n",
              "      <td>0</td>\n",
              "      <td>1</td>\n",
              "      <td>0</td>\n",
              "    </tr>\n",
              "    <tr>\n",
              "      <th>3</th>\n",
              "      <td>33</td>\n",
              "      <td>22.705</td>\n",
              "      <td>0</td>\n",
              "      <td>0</td>\n",
              "      <td>1</td>\n",
              "      <td>1</td>\n",
              "      <td>0</td>\n",
              "      <td>0</td>\n",
              "      <td>1</td>\n",
              "      <td>0</td>\n",
              "      <td>0</td>\n",
              "    </tr>\n",
              "    <tr>\n",
              "      <th>4</th>\n",
              "      <td>32</td>\n",
              "      <td>28.880</td>\n",
              "      <td>0</td>\n",
              "      <td>0</td>\n",
              "      <td>1</td>\n",
              "      <td>1</td>\n",
              "      <td>0</td>\n",
              "      <td>0</td>\n",
              "      <td>1</td>\n",
              "      <td>0</td>\n",
              "      <td>0</td>\n",
              "    </tr>\n",
              "    <tr>\n",
              "      <th>...</th>\n",
              "      <td>...</td>\n",
              "      <td>...</td>\n",
              "      <td>...</td>\n",
              "      <td>...</td>\n",
              "      <td>...</td>\n",
              "      <td>...</td>\n",
              "      <td>...</td>\n",
              "      <td>...</td>\n",
              "      <td>...</td>\n",
              "      <td>...</td>\n",
              "      <td>...</td>\n",
              "    </tr>\n",
              "    <tr>\n",
              "      <th>1333</th>\n",
              "      <td>50</td>\n",
              "      <td>30.970</td>\n",
              "      <td>3</td>\n",
              "      <td>0</td>\n",
              "      <td>1</td>\n",
              "      <td>1</td>\n",
              "      <td>0</td>\n",
              "      <td>0</td>\n",
              "      <td>1</td>\n",
              "      <td>0</td>\n",
              "      <td>0</td>\n",
              "    </tr>\n",
              "    <tr>\n",
              "      <th>1334</th>\n",
              "      <td>18</td>\n",
              "      <td>31.920</td>\n",
              "      <td>0</td>\n",
              "      <td>1</td>\n",
              "      <td>0</td>\n",
              "      <td>1</td>\n",
              "      <td>0</td>\n",
              "      <td>1</td>\n",
              "      <td>0</td>\n",
              "      <td>0</td>\n",
              "      <td>0</td>\n",
              "    </tr>\n",
              "    <tr>\n",
              "      <th>1335</th>\n",
              "      <td>18</td>\n",
              "      <td>36.850</td>\n",
              "      <td>0</td>\n",
              "      <td>1</td>\n",
              "      <td>0</td>\n",
              "      <td>1</td>\n",
              "      <td>0</td>\n",
              "      <td>0</td>\n",
              "      <td>0</td>\n",
              "      <td>1</td>\n",
              "      <td>0</td>\n",
              "    </tr>\n",
              "    <tr>\n",
              "      <th>1336</th>\n",
              "      <td>21</td>\n",
              "      <td>25.800</td>\n",
              "      <td>0</td>\n",
              "      <td>1</td>\n",
              "      <td>0</td>\n",
              "      <td>1</td>\n",
              "      <td>0</td>\n",
              "      <td>0</td>\n",
              "      <td>0</td>\n",
              "      <td>0</td>\n",
              "      <td>1</td>\n",
              "    </tr>\n",
              "    <tr>\n",
              "      <th>1337</th>\n",
              "      <td>61</td>\n",
              "      <td>29.070</td>\n",
              "      <td>0</td>\n",
              "      <td>1</td>\n",
              "      <td>0</td>\n",
              "      <td>0</td>\n",
              "      <td>1</td>\n",
              "      <td>0</td>\n",
              "      <td>1</td>\n",
              "      <td>0</td>\n",
              "      <td>0</td>\n",
              "    </tr>\n",
              "  </tbody>\n",
              "</table>\n",
              "<p>1338 rows × 11 columns</p>\n",
              "</div>\n",
              "    <div class=\"colab-df-buttons\">\n",
              "\n",
              "  <div class=\"colab-df-container\">\n",
              "    <button class=\"colab-df-convert\" onclick=\"convertToInteractive('df-cf0339cf-7417-4e94-8e6c-c0d81eadf8a4')\"\n",
              "            title=\"Convert this dataframe to an interactive table.\"\n",
              "            style=\"display:none;\">\n",
              "\n",
              "  <svg xmlns=\"http://www.w3.org/2000/svg\" height=\"24px\" viewBox=\"0 -960 960 960\">\n",
              "    <path d=\"M120-120v-720h720v720H120Zm60-500h600v-160H180v160Zm220 220h160v-160H400v160Zm0 220h160v-160H400v160ZM180-400h160v-160H180v160Zm440 0h160v-160H620v160ZM180-180h160v-160H180v160Zm440 0h160v-160H620v160Z\"/>\n",
              "  </svg>\n",
              "    </button>\n",
              "\n",
              "  <style>\n",
              "    .colab-df-container {\n",
              "      display:flex;\n",
              "      gap: 12px;\n",
              "    }\n",
              "\n",
              "    .colab-df-convert {\n",
              "      background-color: #E8F0FE;\n",
              "      border: none;\n",
              "      border-radius: 50%;\n",
              "      cursor: pointer;\n",
              "      display: none;\n",
              "      fill: #1967D2;\n",
              "      height: 32px;\n",
              "      padding: 0 0 0 0;\n",
              "      width: 32px;\n",
              "    }\n",
              "\n",
              "    .colab-df-convert:hover {\n",
              "      background-color: #E2EBFA;\n",
              "      box-shadow: 0px 1px 2px rgba(60, 64, 67, 0.3), 0px 1px 3px 1px rgba(60, 64, 67, 0.15);\n",
              "      fill: #174EA6;\n",
              "    }\n",
              "\n",
              "    .colab-df-buttons div {\n",
              "      margin-bottom: 4px;\n",
              "    }\n",
              "\n",
              "    [theme=dark] .colab-df-convert {\n",
              "      background-color: #3B4455;\n",
              "      fill: #D2E3FC;\n",
              "    }\n",
              "\n",
              "    [theme=dark] .colab-df-convert:hover {\n",
              "      background-color: #434B5C;\n",
              "      box-shadow: 0px 1px 3px 1px rgba(0, 0, 0, 0.15);\n",
              "      filter: drop-shadow(0px 1px 2px rgba(0, 0, 0, 0.3));\n",
              "      fill: #FFFFFF;\n",
              "    }\n",
              "  </style>\n",
              "\n",
              "    <script>\n",
              "      const buttonEl =\n",
              "        document.querySelector('#df-cf0339cf-7417-4e94-8e6c-c0d81eadf8a4 button.colab-df-convert');\n",
              "      buttonEl.style.display =\n",
              "        google.colab.kernel.accessAllowed ? 'block' : 'none';\n",
              "\n",
              "      async function convertToInteractive(key) {\n",
              "        const element = document.querySelector('#df-cf0339cf-7417-4e94-8e6c-c0d81eadf8a4');\n",
              "        const dataTable =\n",
              "          await google.colab.kernel.invokeFunction('convertToInteractive',\n",
              "                                                    [key], {});\n",
              "        if (!dataTable) return;\n",
              "\n",
              "        const docLinkHtml = 'Like what you see? Visit the ' +\n",
              "          '<a target=\"_blank\" href=https://colab.research.google.com/notebooks/data_table.ipynb>data table notebook</a>'\n",
              "          + ' to learn more about interactive tables.';\n",
              "        element.innerHTML = '';\n",
              "        dataTable['output_type'] = 'display_data';\n",
              "        await google.colab.output.renderOutput(dataTable, element);\n",
              "        const docLink = document.createElement('div');\n",
              "        docLink.innerHTML = docLinkHtml;\n",
              "        element.appendChild(docLink);\n",
              "      }\n",
              "    </script>\n",
              "  </div>\n",
              "\n",
              "\n",
              "<div id=\"df-922b7512-61e1-4d3b-b477-ad34de26b538\">\n",
              "  <button class=\"colab-df-quickchart\" onclick=\"quickchart('df-922b7512-61e1-4d3b-b477-ad34de26b538')\"\n",
              "            title=\"Suggest charts.\"\n",
              "            style=\"display:none;\">\n",
              "\n",
              "<svg xmlns=\"http://www.w3.org/2000/svg\" height=\"24px\"viewBox=\"0 0 24 24\"\n",
              "     width=\"24px\">\n",
              "    <g>\n",
              "        <path d=\"M19 3H5c-1.1 0-2 .9-2 2v14c0 1.1.9 2 2 2h14c1.1 0 2-.9 2-2V5c0-1.1-.9-2-2-2zM9 17H7v-7h2v7zm4 0h-2V7h2v10zm4 0h-2v-4h2v4z\"/>\n",
              "    </g>\n",
              "</svg>\n",
              "  </button>\n",
              "\n",
              "<style>\n",
              "  .colab-df-quickchart {\n",
              "      --bg-color: #E8F0FE;\n",
              "      --fill-color: #1967D2;\n",
              "      --hover-bg-color: #E2EBFA;\n",
              "      --hover-fill-color: #174EA6;\n",
              "      --disabled-fill-color: #AAA;\n",
              "      --disabled-bg-color: #DDD;\n",
              "  }\n",
              "\n",
              "  [theme=dark] .colab-df-quickchart {\n",
              "      --bg-color: #3B4455;\n",
              "      --fill-color: #D2E3FC;\n",
              "      --hover-bg-color: #434B5C;\n",
              "      --hover-fill-color: #FFFFFF;\n",
              "      --disabled-bg-color: #3B4455;\n",
              "      --disabled-fill-color: #666;\n",
              "  }\n",
              "\n",
              "  .colab-df-quickchart {\n",
              "    background-color: var(--bg-color);\n",
              "    border: none;\n",
              "    border-radius: 50%;\n",
              "    cursor: pointer;\n",
              "    display: none;\n",
              "    fill: var(--fill-color);\n",
              "    height: 32px;\n",
              "    padding: 0;\n",
              "    width: 32px;\n",
              "  }\n",
              "\n",
              "  .colab-df-quickchart:hover {\n",
              "    background-color: var(--hover-bg-color);\n",
              "    box-shadow: 0 1px 2px rgba(60, 64, 67, 0.3), 0 1px 3px 1px rgba(60, 64, 67, 0.15);\n",
              "    fill: var(--button-hover-fill-color);\n",
              "  }\n",
              "\n",
              "  .colab-df-quickchart-complete:disabled,\n",
              "  .colab-df-quickchart-complete:disabled:hover {\n",
              "    background-color: var(--disabled-bg-color);\n",
              "    fill: var(--disabled-fill-color);\n",
              "    box-shadow: none;\n",
              "  }\n",
              "\n",
              "  .colab-df-spinner {\n",
              "    border: 2px solid var(--fill-color);\n",
              "    border-color: transparent;\n",
              "    border-bottom-color: var(--fill-color);\n",
              "    animation:\n",
              "      spin 1s steps(1) infinite;\n",
              "  }\n",
              "\n",
              "  @keyframes spin {\n",
              "    0% {\n",
              "      border-color: transparent;\n",
              "      border-bottom-color: var(--fill-color);\n",
              "      border-left-color: var(--fill-color);\n",
              "    }\n",
              "    20% {\n",
              "      border-color: transparent;\n",
              "      border-left-color: var(--fill-color);\n",
              "      border-top-color: var(--fill-color);\n",
              "    }\n",
              "    30% {\n",
              "      border-color: transparent;\n",
              "      border-left-color: var(--fill-color);\n",
              "      border-top-color: var(--fill-color);\n",
              "      border-right-color: var(--fill-color);\n",
              "    }\n",
              "    40% {\n",
              "      border-color: transparent;\n",
              "      border-right-color: var(--fill-color);\n",
              "      border-top-color: var(--fill-color);\n",
              "    }\n",
              "    60% {\n",
              "      border-color: transparent;\n",
              "      border-right-color: var(--fill-color);\n",
              "    }\n",
              "    80% {\n",
              "      border-color: transparent;\n",
              "      border-right-color: var(--fill-color);\n",
              "      border-bottom-color: var(--fill-color);\n",
              "    }\n",
              "    90% {\n",
              "      border-color: transparent;\n",
              "      border-bottom-color: var(--fill-color);\n",
              "    }\n",
              "  }\n",
              "</style>\n",
              "\n",
              "  <script>\n",
              "    async function quickchart(key) {\n",
              "      const quickchartButtonEl =\n",
              "        document.querySelector('#' + key + ' button');\n",
              "      quickchartButtonEl.disabled = true;  // To prevent multiple clicks.\n",
              "      quickchartButtonEl.classList.add('colab-df-spinner');\n",
              "      try {\n",
              "        const charts = await google.colab.kernel.invokeFunction(\n",
              "            'suggestCharts', [key], {});\n",
              "      } catch (error) {\n",
              "        console.error('Error during call to suggestCharts:', error);\n",
              "      }\n",
              "      quickchartButtonEl.classList.remove('colab-df-spinner');\n",
              "      quickchartButtonEl.classList.add('colab-df-quickchart-complete');\n",
              "    }\n",
              "    (() => {\n",
              "      let quickchartButtonEl =\n",
              "        document.querySelector('#df-922b7512-61e1-4d3b-b477-ad34de26b538 button');\n",
              "      quickchartButtonEl.style.display =\n",
              "        google.colab.kernel.accessAllowed ? 'block' : 'none';\n",
              "    })();\n",
              "  </script>\n",
              "</div>\n",
              "    </div>\n",
              "  </div>\n"
            ]
          },
          "metadata": {},
          "execution_count": 71
        }
      ]
    },
    {
      "cell_type": "code",
      "source": [
        "X[\"age\"].plot(kind=\"hist\")"
      ],
      "metadata": {
        "colab": {
          "base_uri": "https://localhost:8080/",
          "height": 447
        },
        "id": "Y3rn2tsLqOCG",
        "outputId": "145405d5-596c-4d8f-9386-e8c329778742"
      },
      "execution_count": null,
      "outputs": [
        {
          "output_type": "execute_result",
          "data": {
            "text/plain": [
              "<Axes: ylabel='Frequency'>"
            ]
          },
          "metadata": {},
          "execution_count": 72
        },
        {
          "output_type": "display_data",
          "data": {
            "text/plain": [
              "<Figure size 640x480 with 1 Axes>"
            ],
            "image/png": "[encoded data removed]"
          },
          "metadata": {}
        }
      ]
    },
    {
      "cell_type": "code",
      "source": [
        "X[\"bmi\"].plot(kind=\"hist\")"
      ],
      "metadata": {
        "colab": {
          "base_uri": "https://localhost:8080/",
          "height": 447
        },
        "id": "XaClWYUeqSox",
        "outputId": "00461c41-3202-4b95-91b6-4fa78a78c164"
      },
      "execution_count": null,
      "outputs": [
        {
          "output_type": "execute_result",
          "data": {
            "text/plain": [
              "<Axes: ylabel='Frequency'>"
            ]
          },
          "metadata": {},
          "execution_count": 73
        },
        {
          "output_type": "display_data",
          "data": {
            "text/plain": [
              "<Figure size 640x480 with 1 Axes>"
            ],
            "image/png": "[encoded data removed]"
          },
          "metadata": {}
        }
      ]
    },
    {
      "cell_type": "code",
      "source": [
        "# Important Required Libraries\n",
        "import tensorflow as tf\n",
        "import pandas as pd\n",
        "import numpy as np\n",
        "import matplotlib.pyplot as plt\n",
        "\n",
        "# Read in the insurance dataset\n",
        "insurance = pd.read_csv(\"https://raw.githubusercontent.com/stedy/Machine-Learning-with-R-datasets/master/insurance.csv\")\n",
        "insurance"
      ],
      "metadata": {
        "colab": {
          "base_uri": "https://localhost:8080/",
          "height": 423
        },
        "id": "yLG5W1TQqZBh",
        "outputId": "31fa6fe5-8829-45ce-82b0-ccb0cc3d2fe5"
      },
      "execution_count": null,
      "outputs": [
        {
          "output_type": "execute_result",
          "data": {
            "text/plain": [
              "      age     sex     bmi  children smoker     region      charges\n",
              "0      19  female  27.900         0    yes  southwest  16884.92400\n",
              "1      18    male  33.770         1     no  southeast   1725.55230\n",
              "2      28    male  33.000         3     no  southeast   4449.46200\n",
              "3      33    male  22.705         0     no  northwest  21984.47061\n",
              "4      32    male  28.880         0     no  northwest   3866.85520\n",
              "...   ...     ...     ...       ...    ...        ...          ...\n",
              "1333   50    male  30.970         3     no  northwest  10600.54830\n",
              "1334   18  female  31.920         0     no  northeast   2205.98080\n",
              "1335   18  female  36.850         0     no  southeast   1629.83350\n",
              "1336   21  female  25.800         0     no  southwest   2007.94500\n",
              "1337   61  female  29.070         0    yes  northwest  29141.36030\n",
              "\n",
              "[1338 rows x 7 columns]"
            ],
            "text/html": [
              "\n",
              "  <div id=\"df-0dff3759-f6ed-4a10-a137-3f89e2cc7fcf\" class=\"colab-df-container\">\n",
              "    <div>\n",
              "<style scoped>\n",
              "    .dataframe tbody tr th:only-of-type {\n",
              "        vertical-align: middle;\n",
              "    }\n",
              "\n",
              "    .dataframe tbody tr th {\n",
              "        vertical-align: top;\n",
              "    }\n",
              "\n",
              "    .dataframe thead th {\n",
              "        text-align: right;\n",
              "    }\n",
              "</style>\n",
              "<table border=\"1\" class=\"dataframe\">\n",
              "  <thead>\n",
              "    <tr style=\"text-align: right;\">\n",
              "      <th></th>\n",
              "      <th>age</th>\n",
              "      <th>sex</th>\n",
              "      <th>bmi</th>\n",
              "      <th>children</th>\n",
              "      <th>smoker</th>\n",
              "      <th>region</th>\n",
              "      <th>charges</th>\n",
              "    </tr>\n",
              "  </thead>\n",
              "  <tbody>\n",
              "    <tr>\n",
              "      <th>0</th>\n",
              "      <td>19</td>\n",
              "      <td>female</td>\n",
              "      <td>27.900</td>\n",
              "      <td>0</td>\n",
              "      <td>yes</td>\n",
              "      <td>southwest</td>\n",
              "      <td>16884.92400</td>\n",
              "    </tr>\n",
              "    <tr>\n",
              "      <th>1</th>\n",
              "      <td>18</td>\n",
              "      <td>male</td>\n",
              "      <td>33.770</td>\n",
              "      <td>1</td>\n",
              "      <td>no</td>\n",
              "      <td>southeast</td>\n",
              "      <td>1725.55230</td>\n",
              "    </tr>\n",
              "    <tr>\n",
              "      <th>2</th>\n",
              "      <td>28</td>\n",
              "      <td>male</td>\n",
              "      <td>33.000</td>\n",
              "      <td>3</td>\n",
              "      <td>no</td>\n",
              "      <td>southeast</td>\n",
              "      <td>4449.46200</td>\n",
              "    </tr>\n",
              "    <tr>\n",
              "      <th>3</th>\n",
              "      <td>33</td>\n",
              "      <td>male</td>\n",
              "      <td>22.705</td>\n",
              "      <td>0</td>\n",
              "      <td>no</td>\n",
              "      <td>northwest</td>\n",
              "      <td>21984.47061</td>\n",
              "    </tr>\n",
              "    <tr>\n",
              "      <th>4</th>\n",
              "      <td>32</td>\n",
              "      <td>male</td>\n",
              "      <td>28.880</td>\n",
              "      <td>0</td>\n",
              "      <td>no</td>\n",
              "      <td>northwest</td>\n",
              "      <td>3866.85520</td>\n",
              "    </tr>\n",
              "    <tr>\n",
              "      <th>...</th>\n",
              "      <td>...</td>\n",
              "      <td>...</td>\n",
              "      <td>...</td>\n",
              "      <td>...</td>\n",
              "      <td>...</td>\n",
              "      <td>...</td>\n",
              "      <td>...</td>\n",
              "    </tr>\n",
              "    <tr>\n",
              "      <th>1333</th>\n",
              "      <td>50</td>\n",
              "      <td>male</td>\n",
              "      <td>30.970</td>\n",
              "      <td>3</td>\n",
              "      <td>no</td>\n",
              "      <td>northwest</td>\n",
              "      <td>10600.54830</td>\n",
              "    </tr>\n",
              "    <tr>\n",
              "      <th>1334</th>\n",
              "      <td>18</td>\n",
              "      <td>female</td>\n",
              "      <td>31.920</td>\n",
              "      <td>0</td>\n",
              "      <td>no</td>\n",
              "      <td>northeast</td>\n",
              "      <td>2205.98080</td>\n",
              "    </tr>\n",
              "    <tr>\n",
              "      <th>1335</th>\n",
              "      <td>18</td>\n",
              "      <td>female</td>\n",
              "      <td>36.850</td>\n",
              "      <td>0</td>\n",
              "      <td>no</td>\n",
              "      <td>southeast</td>\n",
              "      <td>1629.83350</td>\n",
              "    </tr>\n",
              "    <tr>\n",
              "      <th>1336</th>\n",
              "      <td>21</td>\n",
              "      <td>female</td>\n",
              "      <td>25.800</td>\n",
              "      <td>0</td>\n",
              "      <td>no</td>\n",
              "      <td>southwest</td>\n",
              "      <td>2007.94500</td>\n",
              "    </tr>\n",
              "    <tr>\n",
              "      <th>1337</th>\n",
              "      <td>61</td>\n",
              "      <td>female</td>\n",
              "      <td>29.070</td>\n",
              "      <td>0</td>\n",
              "      <td>yes</td>\n",
              "      <td>northwest</td>\n",
              "      <td>29141.36030</td>\n",
              "    </tr>\n",
              "  </tbody>\n",
              "</table>\n",
              "<p>1338 rows × 7 columns</p>\n",
              "</div>\n",
              "    <div class=\"colab-df-buttons\">\n",
              "\n",
              "  <div class=\"colab-df-container\">\n",
              "    <button class=\"colab-df-convert\" onclick=\"convertToInteractive('df-0dff3759-f6ed-4a10-a137-3f89e2cc7fcf')\"\n",
              "            title=\"Convert this dataframe to an interactive table.\"\n",
              "            style=\"display:none;\">\n",
              "\n",
              "  <svg xmlns=\"http://www.w3.org/2000/svg\" height=\"24px\" viewBox=\"0 -960 960 960\">\n",
              "    <path d=\"M120-120v-720h720v720H120Zm60-500h600v-160H180v160Zm220 220h160v-160H400v160Zm0 220h160v-160H400v160ZM180-400h160v-160H180v160Zm440 0h160v-160H620v160ZM180-180h160v-160H180v160Zm440 0h160v-160H620v160Z\"/>\n",
              "  </svg>\n",
              "    </button>\n",
              "\n",
              "  <style>\n",
              "    .colab-df-container {\n",
              "      display:flex;\n",
              "      gap: 12px;\n",
              "    }\n",
              "\n",
              "    .colab-df-convert {\n",
              "      background-color: #E8F0FE;\n",
              "      border: none;\n",
              "      border-radius: 50%;\n",
              "      cursor: pointer;\n",
              "      display: none;\n",
              "      fill: #1967D2;\n",
              "      height: 32px;\n",
              "      padding: 0 0 0 0;\n",
              "      width: 32px;\n",
              "    }\n",
              "\n",
              "    .colab-df-convert:hover {\n",
              "      background-color: #E2EBFA;\n",
              "      box-shadow: 0px 1px 2px rgba(60, 64, 67, 0.3), 0px 1px 3px 1px rgba(60, 64, 67, 0.15);\n",
              "      fill: #174EA6;\n",
              "    }\n",
              "\n",
              "    .colab-df-buttons div {\n",
              "      margin-bottom: 4px;\n",
              "    }\n",
              "\n",
              "    [theme=dark] .colab-df-convert {\n",
              "      background-color: #3B4455;\n",
              "      fill: #D2E3FC;\n",
              "    }\n",
              "\n",
              "    [theme=dark] .colab-df-convert:hover {\n",
              "      background-color: #434B5C;\n",
              "      box-shadow: 0px 1px 3px 1px rgba(0, 0, 0, 0.15);\n",
              "      filter: drop-shadow(0px 1px 2px rgba(0, 0, 0, 0.3));\n",
              "      fill: #FFFFFF;\n",
              "    }\n",
              "  </style>\n",
              "\n",
              "    <script>\n",
              "      const buttonEl =\n",
              "        document.querySelector('#df-0dff3759-f6ed-4a10-a137-3f89e2cc7fcf button.colab-df-convert');\n",
              "      buttonEl.style.display =\n",
              "        google.colab.kernel.accessAllowed ? 'block' : 'none';\n",
              "\n",
              "      async function convertToInteractive(key) {\n",
              "        const element = document.querySelector('#df-0dff3759-f6ed-4a10-a137-3f89e2cc7fcf');\n",
              "        const dataTable =\n",
              "          await google.colab.kernel.invokeFunction('convertToInteractive',\n",
              "                                                    [key], {});\n",
              "        if (!dataTable) return;\n",
              "\n",
              "        const docLinkHtml = 'Like what you see? Visit the ' +\n",
              "          '<a target=\"_blank\" href=https://colab.research.google.com/notebooks/data_table.ipynb>data table notebook</a>'\n",
              "          + ' to learn more about interactive tables.';\n",
              "        element.innerHTML = '';\n",
              "        dataTable['output_type'] = 'display_data';\n",
              "        await google.colab.output.renderOutput(dataTable, element);\n",
              "        const docLink = document.createElement('div');\n",
              "        docLink.innerHTML = docLinkHtml;\n",
              "        element.appendChild(docLink);\n",
              "      }\n",
              "    </script>\n",
              "  </div>\n",
              "\n",
              "\n",
              "<div id=\"df-e5fe9b10-8e99-40cc-b6c9-2002381409d8\">\n",
              "  <button class=\"colab-df-quickchart\" onclick=\"quickchart('df-e5fe9b10-8e99-40cc-b6c9-2002381409d8')\"\n",
              "            title=\"Suggest charts.\"\n",
              "            style=\"display:none;\">\n",
              "\n",
              "<svg xmlns=\"http://www.w3.org/2000/svg\" height=\"24px\"viewBox=\"0 0 24 24\"\n",
              "     width=\"24px\">\n",
              "    <g>\n",
              "        <path d=\"M19 3H5c-1.1 0-2 .9-2 2v14c0 1.1.9 2 2 2h14c1.1 0 2-.9 2-2V5c0-1.1-.9-2-2-2zM9 17H7v-7h2v7zm4 0h-2V7h2v10zm4 0h-2v-4h2v4z\"/>\n",
              "    </g>\n",
              "</svg>\n",
              "  </button>\n",
              "\n",
              "<style>\n",
              "  .colab-df-quickchart {\n",
              "      --bg-color: #E8F0FE;\n",
              "      --fill-color: #1967D2;\n",
              "      --hover-bg-color: #E2EBFA;\n",
              "      --hover-fill-color: #174EA6;\n",
              "      --disabled-fill-color: #AAA;\n",
              "      --disabled-bg-color: #DDD;\n",
              "  }\n",
              "\n",
              "  [theme=dark] .colab-df-quickchart {\n",
              "      --bg-color: #3B4455;\n",
              "      --fill-color: #D2E3FC;\n",
              "      --hover-bg-color: #434B5C;\n",
              "      --hover-fill-color: #FFFFFF;\n",
              "      --disabled-bg-color: #3B4455;\n",
              "      --disabled-fill-color: #666;\n",
              "  }\n",
              "\n",
              "  .colab-df-quickchart {\n",
              "    background-color: var(--bg-color);\n",
              "    border: none;\n",
              "    border-radius: 50%;\n",
              "    cursor: pointer;\n",
              "    display: none;\n",
              "    fill: var(--fill-color);\n",
              "    height: 32px;\n",
              "    padding: 0;\n",
              "    width: 32px;\n",
              "  }\n",
              "\n",
              "  .colab-df-quickchart:hover {\n",
              "    background-color: var(--hover-bg-color);\n",
              "    box-shadow: 0 1px 2px rgba(60, 64, 67, 0.3), 0 1px 3px 1px rgba(60, 64, 67, 0.15);\n",
              "    fill: var(--button-hover-fill-color);\n",
              "  }\n",
              "\n",
              "  .colab-df-quickchart-complete:disabled,\n",
              "  .colab-df-quickchart-complete:disabled:hover {\n",
              "    background-color: var(--disabled-bg-color);\n",
              "    fill: var(--disabled-fill-color);\n",
              "    box-shadow: none;\n",
              "  }\n",
              "\n",
              "  .colab-df-spinner {\n",
              "    border: 2px solid var(--fill-color);\n",
              "    border-color: transparent;\n",
              "    border-bottom-color: var(--fill-color);\n",
              "    animation:\n",
              "      spin 1s steps(1) infinite;\n",
              "  }\n",
              "\n",
              "  @keyframes spin {\n",
              "    0% {\n",
              "      border-color: transparent;\n",
              "      border-bottom-color: var(--fill-color);\n",
              "      border-left-color: var(--fill-color);\n",
              "    }\n",
              "    20% {\n",
              "      border-color: transparent;\n",
              "      border-left-color: var(--fill-color);\n",
              "      border-top-color: var(--fill-color);\n",
              "    }\n",
              "    30% {\n",
              "      border-color: transparent;\n",
              "      border-left-color: var(--fill-color);\n",
              "      border-top-color: var(--fill-color);\n",
              "      border-right-color: var(--fill-color);\n",
              "    }\n",
              "    40% {\n",
              "      border-color: transparent;\n",
              "      border-right-color: var(--fill-color);\n",
              "      border-top-color: var(--fill-color);\n",
              "    }\n",
              "    60% {\n",
              "      border-color: transparent;\n",
              "      border-right-color: var(--fill-color);\n",
              "    }\n",
              "    80% {\n",
              "      border-color: transparent;\n",
              "      border-right-color: var(--fill-color);\n",
              "      border-bottom-color: var(--fill-color);\n",
              "    }\n",
              "    90% {\n",
              "      border-color: transparent;\n",
              "      border-bottom-color: var(--fill-color);\n",
              "    }\n",
              "  }\n",
              "</style>\n",
              "\n",
              "  <script>\n",
              "    async function quickchart(key) {\n",
              "      const quickchartButtonEl =\n",
              "        document.querySelector('#' + key + ' button');\n",
              "      quickchartButtonEl.disabled = true;  // To prevent multiple clicks.\n",
              "      quickchartButtonEl.classList.add('colab-df-spinner');\n",
              "      try {\n",
              "        const charts = await google.colab.kernel.invokeFunction(\n",
              "            'suggestCharts', [key], {});\n",
              "      } catch (error) {\n",
              "        console.error('Error during call to suggestCharts:', error);\n",
              "      }\n",
              "      quickchartButtonEl.classList.remove('colab-df-spinner');\n",
              "      quickchartButtonEl.classList.add('colab-df-quickchart-complete');\n",
              "    }\n",
              "    (() => {\n",
              "      let quickchartButtonEl =\n",
              "        document.querySelector('#df-e5fe9b10-8e99-40cc-b6c9-2002381409d8 button');\n",
              "      quickchartButtonEl.style.display =\n",
              "        google.colab.kernel.accessAllowed ? 'block' : 'none';\n",
              "    })();\n",
              "  </script>\n",
              "</div>\n",
              "    </div>\n",
              "  </div>\n"
            ]
          },
          "metadata": {},
          "execution_count": 74
        }
      ]
    },
    {
      "cell_type": "code",
      "source": [
        "from sklearn.compose import make_column_transformer\n",
        "from sklearn.preprocessing import MinMaxScaler,OneHotEncoder\n",
        "\n",
        "# Create a column transformer\n",
        "ct=make_column_transformer(\n",
        "    (MinMaxScaler(),[\"age\",\"bmi\",\"children\"]),  # turn all values in these columns between 0 and 1\n",
        "    (OneHotEncoder(handle_unknown=\"ignore\"),[\"sex\",\"smoker\",\"region\"])\n",
        "    )\n",
        "\n",
        "# Create X & y\n",
        "X=insurance.drop(\"charges\",axis=1)\n",
        "y=insurance[\"charges\"]\n",
        "\n",
        "# Build train and test sets\n",
        "X_train, X_test, y_train, y_test=train_test_split(X,y,test_size=0.2,random_state=42)\n",
        "\n",
        "# Fit the column transformer to our training data\n",
        "ct.fit(X_train)\n",
        "\n",
        "# Tranform training and test data with normalization (MinMaxScaler) and OneHotEncoder\n",
        "X_train_normal=ct.transform(X_train)\n",
        "X_test_normal=ct.transform(X_test)"
      ],
      "metadata": {
        "id": "8X3jsxjg0nzJ"
      },
      "execution_count": null,
      "outputs": []
    },
    {
      "cell_type": "code",
      "source": [
        "# What does our data look like now?\n",
        "X_train.loc[0]"
      ],
      "metadata": {
        "colab": {
          "base_uri": "https://localhost:8080/"
        },
        "id": "Ry5W6Qvh2cN4",
        "outputId": "9ebe47a7-825d-468e-da59-ed916600e34a"
      },
      "execution_count": null,
      "outputs": [
        {
          "output_type": "execute_result",
          "data": {
            "text/plain": [
              "age                19\n",
              "sex            female\n",
              "bmi              27.9\n",
              "children            0\n",
              "smoker            yes\n",
              "region      southwest\n",
              "Name: 0, dtype: object"
            ]
          },
          "metadata": {},
          "execution_count": 76
        }
      ]
    },
    {
      "cell_type": "code",
      "source": [
        "X_train_normal[0]"
      ],
      "metadata": {
        "colab": {
          "base_uri": "https://localhost:8080/"
        },
        "id": "OfMkkr2L0sjM",
        "outputId": "1354134d-6c45-4db1-d7fa-11de0b2f15b8"
      },
      "execution_count": null,
      "outputs": [
        {
          "output_type": "execute_result",
          "data": {
            "text/plain": [
              "array([0.60869565, 0.10734463, 0.4       , 1.        , 0.        ,\n",
              "       1.        , 0.        , 0.        , 1.        , 0.        ,\n",
              "       0.        ])"
            ]
          },
          "metadata": {},
          "execution_count": 77
        }
      ]
    },
    {
      "cell_type": "markdown",
      "source": [
        "Our data has been normalized and one hot encoded. Now let's build a neural network model on it and see how it goes"
      ],
      "metadata": {
        "id": "b_Y8NOS96JDz"
      }
    },
    {
      "cell_type": "code",
      "source": [
        "# Build a neural network model to fit on our normalized data\n",
        "tf.random.set_seed(42)\n",
        "\n",
        "# 1. Create the model\n",
        "insurance_model_4=tf.keras.Sequential([\n",
        "    tf.keras.layers.Dense(100),\n",
        "    tf.keras.layers.Dense(10),\n",
        "    tf.keras.layers.Dense(1)\n",
        "])\n",
        "\n",
        "# 2. Compile the model\n",
        "insurance_model_4.compile(loss=tf.keras.losses.mae,\n",
        "                          optimizer=tf.keras.optimizers.Adam(),\n",
        "                          metrics=[\"mae\"])\n",
        "# 3. Fit the model\n",
        "insurance_model_4.fit(X_train_normal,y_train,epochs=100)\n"
      ],
      "metadata": {
        "colab": {
          "base_uri": "https://localhost:8080/"
        },
        "id": "xoAnL9my7GHX",
        "outputId": "f60dc2c2-5ce4-485f-f24d-66ee603b93c7"
      },
      "execution_count": null,
      "outputs": [
        {
          "output_type": "stream",
          "name": "stdout",
          "text": [
            "Epoch 1/100\n",
            "34/34 [==============================] - 1s 2ms/step - loss: 13344.4414 - mae: 13344.4414\n",
            "Epoch 2/100\n",
            "34/34 [==============================] - 0s 2ms/step - loss: 13336.9717 - mae: 13336.9717\n",
            "Epoch 3/100\n",
            "34/34 [==============================] - 0s 3ms/step - loss: 13318.2188 - mae: 13318.2188\n",
            "Epoch 4/100\n",
            "34/34 [==============================] - 0s 4ms/step - loss: 13277.6592 - mae: 13277.6592\n",
            "Epoch 5/100\n",
            "34/34 [==============================] - 0s 4ms/step - loss: 13203.7891 - mae: 13203.7891\n",
            "Epoch 6/100\n",
            "34/34 [==============================] - 0s 3ms/step - loss: 13085.0244 - mae: 13085.0244\n",
            "Epoch 7/100\n",
            "34/34 [==============================] - 0s 4ms/step - loss: 12910.6895 - mae: 12910.6895\n",
            "Epoch 8/100\n",
            "34/34 [==============================] - 0s 3ms/step - loss: 12670.6367 - mae: 12670.6367\n",
            "Epoch 9/100\n",
            "34/34 [==============================] - 0s 3ms/step - loss: 12354.6729 - mae: 12354.6729\n",
            "Epoch 10/100\n",
            "34/34 [==============================] - 0s 3ms/step - loss: 11957.8613 - mae: 11957.8613\n",
            "Epoch 11/100\n",
            "34/34 [==============================] - 0s 3ms/step - loss: 11488.4854 - mae: 11488.4854\n",
            "Epoch 12/100\n",
            "34/34 [==============================] - 0s 4ms/step - loss: 10984.5752 - mae: 10984.5752\n",
            "Epoch 13/100\n",
            "34/34 [==============================] - 0s 3ms/step - loss: 10483.6387 - mae: 10483.6387\n",
            "Epoch 14/100\n",
            "34/34 [==============================] - 0s 3ms/step - loss: 9985.6475 - mae: 9985.6475\n",
            "Epoch 15/100\n",
            "34/34 [==============================] - 0s 3ms/step - loss: 9514.4482 - mae: 9514.4482\n",
            "Epoch 16/100\n",
            "34/34 [==============================] - 0s 4ms/step - loss: 9093.8926 - mae: 9093.8926\n",
            "Epoch 17/100\n",
            "34/34 [==============================] - 0s 3ms/step - loss: 8743.9980 - mae: 8743.9980\n",
            "Epoch 18/100\n",
            "34/34 [==============================] - 0s 3ms/step - loss: 8461.9541 - mae: 8461.9541\n",
            "Epoch 19/100\n",
            "34/34 [==============================] - 0s 3ms/step - loss: 8246.1494 - mae: 8246.1494\n",
            "Epoch 20/100\n",
            "34/34 [==============================] - 0s 5ms/step - loss: 8099.1318 - mae: 8099.1318\n",
            "Epoch 21/100\n",
            "34/34 [==============================] - 0s 3ms/step - loss: 7989.3140 - mae: 7989.3140\n",
            "Epoch 22/100\n",
            "34/34 [==============================] - 0s 3ms/step - loss: 7914.7046 - mae: 7914.7046\n",
            "Epoch 23/100\n",
            "34/34 [==============================] - 0s 3ms/step - loss: 7856.2720 - mae: 7856.2720\n",
            "Epoch 24/100\n",
            "34/34 [==============================] - 0s 4ms/step - loss: 7804.1260 - mae: 7804.1260\n",
            "Epoch 25/100\n",
            "34/34 [==============================] - 0s 4ms/step - loss: 7765.7495 - mae: 7765.7495\n",
            "Epoch 26/100\n",
            "34/34 [==============================] - 0s 4ms/step - loss: 7714.2886 - mae: 7714.2886\n",
            "Epoch 27/100\n",
            "34/34 [==============================] - 0s 3ms/step - loss: 7672.1401 - mae: 7672.1401\n",
            "Epoch 28/100\n",
            "34/34 [==============================] - 0s 4ms/step - loss: 7629.8433 - mae: 7629.8433\n",
            "Epoch 29/100\n",
            "34/34 [==============================] - 0s 2ms/step - loss: 7587.2905 - mae: 7587.2905\n",
            "Epoch 30/100\n",
            "34/34 [==============================] - 0s 2ms/step - loss: 7544.0044 - mae: 7544.0044\n",
            "Epoch 31/100\n",
            "34/34 [==============================] - 0s 2ms/step - loss: 7500.2915 - mae: 7500.2915\n",
            "Epoch 32/100\n",
            "34/34 [==============================] - 0s 2ms/step - loss: 7456.3374 - mae: 7456.3374\n",
            "Epoch 33/100\n",
            "34/34 [==============================] - 0s 2ms/step - loss: 7412.2378 - mae: 7412.2378\n",
            "Epoch 34/100\n",
            "34/34 [==============================] - 0s 2ms/step - loss: 7364.2080 - mae: 7364.2080\n",
            "Epoch 35/100\n",
            "34/34 [==============================] - 0s 2ms/step - loss: 7317.6885 - mae: 7317.6885\n",
            "Epoch 36/100\n",
            "34/34 [==============================] - 0s 2ms/step - loss: 7267.8008 - mae: 7267.8008\n",
            "Epoch 37/100\n",
            "34/34 [==============================] - 0s 2ms/step - loss: 7217.8745 - mae: 7217.8745\n",
            "Epoch 38/100\n",
            "34/34 [==============================] - 0s 2ms/step - loss: 7167.1426 - mae: 7167.1426\n",
            "Epoch 39/100\n",
            "34/34 [==============================] - 0s 2ms/step - loss: 7112.6855 - mae: 7112.6855\n",
            "Epoch 40/100\n",
            "34/34 [==============================] - 0s 2ms/step - loss: 7057.7505 - mae: 7057.7505\n",
            "Epoch 41/100\n",
            "34/34 [==============================] - 0s 2ms/step - loss: 7001.8730 - mae: 7001.8730\n",
            "Epoch 42/100\n",
            "34/34 [==============================] - 0s 2ms/step - loss: 6943.2949 - mae: 6943.2949\n",
            "Epoch 43/100\n",
            "34/34 [==============================] - 0s 2ms/step - loss: 6881.2183 - mae: 6881.2183\n",
            "Epoch 44/100\n",
            "34/34 [==============================] - 0s 2ms/step - loss: 6815.6001 - mae: 6815.6001\n",
            "Epoch 45/100\n",
            "34/34 [==============================] - 0s 2ms/step - loss: 6749.2153 - mae: 6749.2153\n",
            "Epoch 46/100\n",
            "34/34 [==============================] - 0s 2ms/step - loss: 6681.0356 - mae: 6681.0356\n",
            "Epoch 47/100\n",
            "34/34 [==============================] - 0s 2ms/step - loss: 6610.6958 - mae: 6610.6958\n",
            "Epoch 48/100\n",
            "34/34 [==============================] - 0s 2ms/step - loss: 6532.3057 - mae: 6532.3057\n",
            "Epoch 49/100\n",
            "34/34 [==============================] - 0s 2ms/step - loss: 6453.9028 - mae: 6453.9028\n",
            "Epoch 50/100\n",
            "34/34 [==============================] - 0s 2ms/step - loss: 6368.7876 - mae: 6368.7876\n",
            "Epoch 51/100\n",
            "34/34 [==============================] - 0s 2ms/step - loss: 6285.7593 - mae: 6285.7593\n",
            "Epoch 52/100\n",
            "34/34 [==============================] - 0s 2ms/step - loss: 6192.8252 - mae: 6192.8252\n",
            "Epoch 53/100\n",
            "34/34 [==============================] - 0s 2ms/step - loss: 6097.9248 - mae: 6097.9248\n",
            "Epoch 54/100\n",
            "34/34 [==============================] - 0s 3ms/step - loss: 6000.1621 - mae: 6000.1621\n",
            "Epoch 55/100\n",
            "34/34 [==============================] - 0s 2ms/step - loss: 5893.8838 - mae: 5893.8838\n",
            "Epoch 56/100\n",
            "34/34 [==============================] - 0s 2ms/step - loss: 5786.6904 - mae: 5786.6904\n",
            "Epoch 57/100\n",
            "34/34 [==============================] - 0s 2ms/step - loss: 5671.8047 - mae: 5671.8047\n",
            "Epoch 58/100\n",
            "34/34 [==============================] - 0s 2ms/step - loss: 5553.2378 - mae: 5553.2378\n",
            "Epoch 59/100\n",
            "34/34 [==============================] - 0s 2ms/step - loss: 5436.0298 - mae: 5436.0298\n",
            "Epoch 60/100\n",
            "34/34 [==============================] - 0s 2ms/step - loss: 5313.2554 - mae: 5313.2554\n",
            "Epoch 61/100\n",
            "34/34 [==============================] - 0s 2ms/step - loss: 5185.2036 - mae: 5185.2036\n",
            "Epoch 62/100\n",
            "34/34 [==============================] - 0s 2ms/step - loss: 5055.8013 - mae: 5055.8013\n",
            "Epoch 63/100\n",
            "34/34 [==============================] - 0s 2ms/step - loss: 4925.9307 - mae: 4925.9307\n",
            "Epoch 64/100\n",
            "34/34 [==============================] - 0s 2ms/step - loss: 4793.4478 - mae: 4793.4478\n",
            "Epoch 65/100\n",
            "34/34 [==============================] - 0s 2ms/step - loss: 4664.3564 - mae: 4664.3564\n",
            "Epoch 66/100\n",
            "34/34 [==============================] - 0s 3ms/step - loss: 4534.8340 - mae: 4534.8340\n",
            "Epoch 67/100\n",
            "34/34 [==============================] - 0s 3ms/step - loss: 4422.4736 - mae: 4422.4736\n",
            "Epoch 68/100\n",
            "34/34 [==============================] - 0s 2ms/step - loss: 4312.6611 - mae: 4312.6611\n",
            "Epoch 69/100\n",
            "34/34 [==============================] - 0s 2ms/step - loss: 4208.9678 - mae: 4208.9678\n",
            "Epoch 70/100\n",
            "34/34 [==============================] - 0s 2ms/step - loss: 4114.8291 - mae: 4114.8291\n",
            "Epoch 71/100\n",
            "34/34 [==============================] - 0s 2ms/step - loss: 4027.3711 - mae: 4027.3711\n",
            "Epoch 72/100\n",
            "34/34 [==============================] - 0s 2ms/step - loss: 3951.5771 - mae: 3951.5771\n",
            "Epoch 73/100\n",
            "34/34 [==============================] - 0s 2ms/step - loss: 3886.9233 - mae: 3886.9233\n",
            "Epoch 74/100\n",
            "34/34 [==============================] - 0s 2ms/step - loss: 3833.1658 - mae: 3833.1658\n",
            "Epoch 75/100\n",
            "34/34 [==============================] - 0s 2ms/step - loss: 3789.1448 - mae: 3789.1448\n",
            "Epoch 76/100\n",
            "34/34 [==============================] - 0s 2ms/step - loss: 3755.6345 - mae: 3755.6345\n",
            "Epoch 77/100\n",
            "34/34 [==============================] - 0s 2ms/step - loss: 3729.1646 - mae: 3729.1646\n",
            "Epoch 78/100\n",
            "34/34 [==============================] - 0s 2ms/step - loss: 3709.9695 - mae: 3709.9695\n",
            "Epoch 79/100\n",
            "34/34 [==============================] - 0s 2ms/step - loss: 3696.6743 - mae: 3696.6743\n",
            "Epoch 80/100\n",
            "34/34 [==============================] - 0s 2ms/step - loss: 3686.9390 - mae: 3686.9390\n",
            "Epoch 81/100\n",
            "34/34 [==============================] - 0s 2ms/step - loss: 3679.7891 - mae: 3679.7891\n",
            "Epoch 82/100\n",
            "34/34 [==============================] - 0s 2ms/step - loss: 3676.0276 - mae: 3676.0276\n",
            "Epoch 83/100\n",
            "34/34 [==============================] - 0s 2ms/step - loss: 3669.5896 - mae: 3669.5896\n",
            "Epoch 84/100\n",
            "34/34 [==============================] - 0s 2ms/step - loss: 3666.3447 - mae: 3666.3447\n",
            "Epoch 85/100\n",
            "34/34 [==============================] - 0s 2ms/step - loss: 3663.8481 - mae: 3663.8481\n",
            "Epoch 86/100\n",
            "34/34 [==============================] - 0s 3ms/step - loss: 3661.9082 - mae: 3661.9082\n",
            "Epoch 87/100\n",
            "34/34 [==============================] - 0s 2ms/step - loss: 3658.8523 - mae: 3658.8523\n",
            "Epoch 88/100\n",
            "34/34 [==============================] - 0s 2ms/step - loss: 3656.3655 - mae: 3656.3655\n",
            "Epoch 89/100\n",
            "34/34 [==============================] - 0s 2ms/step - loss: 3654.4790 - mae: 3654.4790\n",
            "Epoch 90/100\n",
            "34/34 [==============================] - 0s 2ms/step - loss: 3653.3015 - mae: 3653.3015\n",
            "Epoch 91/100\n",
            "34/34 [==============================] - 0s 2ms/step - loss: 3650.0337 - mae: 3650.0337\n",
            "Epoch 92/100\n",
            "34/34 [==============================] - 0s 2ms/step - loss: 3649.4104 - mae: 3649.4104\n",
            "Epoch 93/100\n",
            "34/34 [==============================] - 0s 2ms/step - loss: 3647.1045 - mae: 3647.1045\n",
            "Epoch 94/100\n",
            "34/34 [==============================] - 0s 2ms/step - loss: 3645.5156 - mae: 3645.5156\n",
            "Epoch 95/100\n",
            "34/34 [==============================] - 0s 2ms/step - loss: 3646.7905 - mae: 3646.7905\n",
            "Epoch 96/100\n",
            "34/34 [==============================] - 0s 2ms/step - loss: 3643.2004 - mae: 3643.2004\n",
            "Epoch 97/100\n",
            "34/34 [==============================] - 0s 2ms/step - loss: 3641.0342 - mae: 3641.0342\n",
            "Epoch 98/100\n",
            "34/34 [==============================] - 0s 2ms/step - loss: 3639.0542 - mae: 3639.0542\n",
            "Epoch 99/100\n",
            "34/34 [==============================] - 0s 2ms/step - loss: 3638.1885 - mae: 3638.1885\n",
            "Epoch 100/100\n",
            "34/34 [==============================] - 0s 2ms/step - loss: 3636.6104 - mae: 3636.6104\n"
          ]
        },
        {
          "output_type": "execute_result",
          "data": {
            "text/plain": [
              "<keras.src.callbacks.History at 0x78f6b2f2d9f0>"
            ]
          },
          "metadata": {},
          "execution_count": 78
        }
      ]
    },
    {
      "cell_type": "code",
      "source": [
        "insurance_model_4.evaluate(X_test_normal,y_test)"
      ],
      "metadata": {
        "colab": {
          "base_uri": "https://localhost:8080/"
        },
        "id": "VxOrjm247eZB",
        "outputId": "e25106bc-6db4-4e5c-dd19-c653f4ecbcb8"
      },
      "execution_count": null,
      "outputs": [
        {
          "output_type": "stream",
          "name": "stdout",
          "text": [
            "9/9 [==============================] - 0s 2ms/step - loss: 3441.3032 - mae: 3441.3032\n"
          ]
        },
        {
          "output_type": "execute_result",
          "data": {
            "text/plain": [
              "[3441.30322265625, 3441.30322265625]"
            ]
          },
          "metadata": {},
          "execution_count": 79
        }
      ]
    },
    {
      "cell_type": "code",
      "source": [
        "print(tf.__version__)"
      ],
      "metadata": {
        "colab": {
          "base_uri": "https://localhost:8080/"
        },
        "id": "j0aiEQZZ9onv",
        "outputId": "007bed30-7914-4f6f-b77b-2ca56c5406e9"
      },
      "execution_count": null,
      "outputs": [
        {
          "output_type": "stream",
          "name": "stdout",
          "text": [
            "2.13.0\n"
          ]
        }
      ]
    },
    {
      "cell_type": "code",
      "source": [],
      "metadata": {
        "id": "D5Tlh0TnANxX"
      },
      "execution_count": null,
      "outputs": []
    }
  ]
}